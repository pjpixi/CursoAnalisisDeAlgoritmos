{
 "cells": [
  {
   "cell_type": "markdown",
   "metadata": {},
   "source": [
    "# Sesión 08\n",
    "> Por Christian Rubio Montiel."
   ]
  },
  {
   "cell_type": "markdown",
   "metadata": {},
   "source": [
    "En esta sesión se resuelven diferentes tipos de recursiones mediante cambio de variable y análisis asintótico en conjunción con los métodos vistos anteriormente. Se aborda el uso del paquete Plots para graficar en Julia: [Plots](https://www.dropbox.com/s/qp68cts0uih90nn/Plots.ipynb?dl=0)."
   ]
  },
  {
   "cell_type": "markdown",
   "metadata": {},
   "source": [
    "<a id='indice'></a>\n",
    "### Índice\n",
    "---\n",
    "1. **[Cambio de variable](#CambioVariable)**\n",
    "    1. **[Ejemplo 1](#Ejemplo1)**\n",
    "    2. **[Ejemplo 2](#Ejemplo2)**\n",
    "    3. **[Ejemplo 3](#Ejemplo3)**\n",
    "2. **[Otros métodos](#OtrosMetodos)**\n",
    "    1. **[Ejemplo 4](#Ejemplo4)**\n",
    "    2. **[Ejemplo 5](#Ejemplo5)**\n",
    "3. **[Otros recursos](#OtrosRecursos)**\n",
    "---"
   ]
  },
  {
   "cell_type": "markdown",
   "metadata": {},
   "source": [
    "<a id='CambioVariable'></a>\n",
    "## 1. Cambio de variable"
   ]
  },
  {
   "cell_type": "markdown",
   "metadata": {},
   "source": [
    "El método de cambion de variable se puede utilizar de distintas formas. En cada ejemplo explicaremos cómo se aplica."
   ]
  },
  {
   "cell_type": "markdown",
   "metadata": {},
   "source": [
    "<a id='Ejemplo1'></a>\n",
    "### A. Ejemplo 1"
   ]
  },
  {
   "cell_type": "markdown",
   "metadata": {},
   "source": [
    "**Resuelve**. $T(n)=3T(\\sqrt{n})+\\lg(n)$."
   ]
  },
  {
   "cell_type": "markdown",
   "metadata": {},
   "source": [
    "**Solución mediante cambio de variable**.\n",
    "\n",
    "Asumiremos que es de la forma $n=2^m$, por lo que $\\lg(n)=m$. Además, definimos $g(m)=2^m$. Entonces tenemos que\n",
    "\n",
    "$T(n)=3T(\\sqrt{n})+\\lg(n)$\n",
    "\n",
    "$T(2^m)=3T(2^{\\frac{m}{2}})+m$\n",
    "\n",
    "$T(g(m))=3T(g(\\frac{m}{2}))+m$\n",
    "\n",
    "$T\\circ g(m)=3T\\circ g(\\frac{m}{2})+m$\n",
    "\n",
    "Por lo que definimos $R=T\\circ g$, entonces\n",
    "\n",
    "$R(m)=3R(\\frac{m}{2})+m$\n",
    "\n",
    "Ahora, podemos aplicar el método maestro. Tenemos que $a=3$, $b=2$, $f(m)=m$, $\\log_b(a)=\\log_2(3)\\approx 1.5$, $m^{\\log_b(a)}\\approx m^{1.5}$. Comparamos $f(m)$ vs $m^{\\log_b(a)}$, es decir, $m$ vs $m^{1.5}$ que claramente es mayor $m^{1.5}$ por lo que consideramos el caso 1.\n",
    "\n",
    "Como $m=O(m^{1.5-0.1})=O(m^{1.4})$, confirmamos que aplica el caso 1, entonces $R(m)=\\theta(m^{\\lg(3)})$.\n",
    "\n",
    "Luego, para que la recursión quede en función de $T$ y $n$, tenemos que\n",
    "\n",
    "$R(m)=\\theta(m^{\\lg(3)})$\n",
    "\n",
    "$T\\circ g(m)=\\theta(m^{\\lg(3)})$\n",
    "\n",
    "$T(g(m))=\\theta(m^{\\lg(3)})$\n",
    "\n",
    "$T(2^m)=\\theta(m^{\\lg(3)})$\n",
    "\n",
    "$T(n)=\\theta(\\lg(n)^{\\lg(3)})$."
   ]
  },
  {
   "cell_type": "markdown",
   "metadata": {},
   "source": [
    "Este ejercicio se puede resolver mediante sustitución, que resulta largo y tedioso, que se deja como ejercicio.\n",
    "\n",
    "Para ver una solución en Wolfram Mathematica [aquí](https://www.wolframalpha.com/input?i=T%5Bn%5D%3D%3D3T%5Bn%5E0.5%5D%2Blog%5Bn%5D%2Flog%5B2%5D).\n",
    "\n",
    "Regresar al **[Índice](#indice)**."
   ]
  },
  {
   "cell_type": "markdown",
   "metadata": {},
   "source": [
    "<a id='Ejemplo2'></a>\n",
    "### B. Ejemplo 2"
   ]
  },
  {
   "cell_type": "markdown",
   "metadata": {},
   "source": [
    "**Resuelve**. $T(n)=2T(\\sqrt{n})+n$."
   ]
  },
  {
   "cell_type": "markdown",
   "metadata": {},
   "source": [
    "**Solución mediante cambio de variable**.\n",
    "\n",
    "Asumiremos que es de la forma $n=2^m$, por lo que $\\lg(n)=m$. Además, definimos $g(m)=2^m$. Entonces tenemos que\n",
    "\n",
    "$T(n)=2T(\\sqrt{n})+n$\n",
    "\n",
    "$T(2^m)=2T(2^{\\frac{m}{2}})+2^m$\n",
    "\n",
    "$T(g(m))=2T(g(\\frac{m}{2}))+2^m$\n",
    "\n",
    "$T\\circ g(m)=2T\\circ g(\\frac{m}{2})+2^m$\n",
    "\n",
    "Por lo que definimos $R=T\\circ g$, entonces\n",
    "\n",
    "$R(m)=2R(\\frac{m}{2})+2^m$\n",
    "\n",
    "Ahora, podemos aplicar el método maestro. Tenemos que $a=2$, $b=2$, $f(m)=2^m$, $\\log_b(a)=\\log_2(2)= 1$, $m^{\\log_b(a)}= m$. Comparamos $f(m)$ vs $m^{\\log_b(a)}$, es decir, $2^m$ vs $m$ que claramente es mayor $2^m$ por lo que consideramos el caso 3.\n",
    "\n",
    "Como $2^m=\\Omega(m^{1+0.1})=\\Omega(m^{1.1})$, confirmamos que aplica el caso 3, ya que $2f(\\frac{m}{2})\\leq cf(n)$, es decir, $2(2^{\\frac{m}{2}})\\leq c2^m$ para $c=\\frac{1}{2}$, se cumple puesto que $2\\leq \\frac{1}{2}2^{\\frac{m}{2}}$.\n",
    "\n",
    "entonces $R(m)=\\theta(2^m)$.\n",
    "\n",
    "Luego, para que la recursión quede en función de $T$ y $n$, tenemos que\n",
    "\n",
    "$R(m)=\\theta(2^m)$\n",
    "\n",
    "$T\\circ g(m)=\\theta(2^m)$\n",
    "\n",
    "$T(g(m))=\\theta(2^m)$\n",
    "\n",
    "$T(2^m)=\\theta(2^m)$\n",
    "\n",
    "$T(n)=\\theta(n)$."
   ]
  },
  {
   "cell_type": "markdown",
   "metadata": {},
   "source": [
    "Para ver qué hace Wolfram Mathematica [aquí](https://www.wolframalpha.com/input?i=T%5Bn%5D%3D%3D2*T%5Bn**0.5%5D%2Bn).\n",
    "\n",
    "Regresar al **[Índice](#indice)**."
   ]
  },
  {
   "cell_type": "markdown",
   "metadata": {},
   "source": [
    "<a id='Ejemplo3'></a>\n",
    "### C. Ejemplo 3"
   ]
  },
  {
   "cell_type": "markdown",
   "metadata": {},
   "source": [
    "**Resuelve**. $T(n)=3\\sqrt{n}T(\\sqrt{n})+\\sqrt{n}\\lg(n)$."
   ]
  },
  {
   "cell_type": "markdown",
   "metadata": {},
   "source": [
    "**Solución mediante cambio de variable**.\n",
    "\n",
    "Primero, dividimos entre $n$ para obtener la recursión en la siguiente forma:\n",
    "\n",
    "$\\frac{T(n)}{n}=3\\frac{T(\\sqrt{n})}{\\sqrt{n}}+\\frac{\\lg(n)}{\\sqrt{n}}$.\n",
    "\n",
    "Y hacemos el cambio $S(n)=\\frac{T(n)}{n}$, entonces obtenemos la recursión\n",
    "\n",
    "$S(n)=3S(\\sqrt{n})+\\frac{\\lg(n)}{\\sqrt{n}}$.\n",
    "\n",
    "Ahora, asumiremos que es de la forma $n=2^m$, por lo que $\\lg(n)=m$. Además, definimos $g(m)=2^m$. Entonces tenemos que\n",
    "\n",
    "$S(n)=3S(\\sqrt{n})+\\frac{\\lg(n)}{\\sqrt{n}}$\n",
    "\n",
    "$S(2^m)=3S(2^{\\frac{m}{2}})+\\frac{m}{2^{\\frac{m}{2}}}$\n",
    "\n",
    "$S(g(m))=3S(g(\\frac{m}{2}))+\\frac{m}{2^{\\frac{m}{2}}}$\n",
    "\n",
    "$S\\circ g(m)=3S\\circ g(\\frac{m}{2})+m$\n",
    "\n",
    "Por lo que definimos $R=S\\circ g$, entonces\n",
    "\n",
    "$R(m)=3R(\\frac{m}{2})+\\frac{m}{2^{\\frac{m}{2}}}$\n",
    "\n",
    "Ahora, podemos aplicar el método maestro. Tenemos que $a=3$, $b=2$, $f(m)=\\frac{m}{2^{\\frac{m}{2}}}$, $\\log_b(a)=\\log_2(3)\\approx 1.5$, $m^{\\log_b(a)}\\approx m^{1.5}$. Comparamos $f(m)$ vs $m^{\\log_b(a)}$, es decir, $\\frac{m}{2^{\\frac{m}{2}}}$ vs $m^{1.5}$ que claramente es mayor $\\frac{m}{2^{\\frac{m}{2}}}$ por lo que consideramos el caso 1.\n",
    "\n",
    "Como $\\frac{m}{2^{\\frac{m}{2}}}=O(m^{1.5-0.1})=O(m^{1.4})$, confirmamos que aplica el caso 1, entonces $R(m)=\\theta(m^{\\lg(3)})$.\n",
    "\n",
    "Luego, para que la recursión quede en función de $T$ y $n$, tenemos que\n",
    "\n",
    "$R(m)=\\theta(m^{\\lg(3)})$\n",
    "\n",
    "$S\\circ g(m)=\\theta(m^{\\lg(3)})$\n",
    "\n",
    "$S(g(m))=\\theta(m^{\\lg(3)})$\n",
    "\n",
    "$S(2^m)=\\theta(m^{\\lg(3)})$\n",
    "\n",
    "$S(n)=\\theta(\\lg(n)^{\\lg(3)})$\n",
    "\n",
    "$\\frac{T(n)}{n}=\\theta(\\lg(n)^{\\lg(3)})$\n",
    "\n",
    "$T(n)=\\theta(n\\lg(n)^{\\lg(3)})$."
   ]
  },
  {
   "cell_type": "markdown",
   "metadata": {},
   "source": [
    "Para ver qué hace Wolfram Mathematica [aquí](https://www.wolframalpha.com/input?i=T%5Bn%5D%3D%3D3%28n%5E0.5%29T%5Bn%5E0.5%5D%2B%28n%5E0.5%29+log%5Bn%5D%2Flog%5B2%5D).\n",
    "\n",
    "Regresar al **[Índice](#indice)**."
   ]
  },
  {
   "cell_type": "markdown",
   "metadata": {},
   "source": [
    "<a id='OtrosMetodos'></a>\n",
    "## 2. Otros métodos"
   ]
  },
  {
   "cell_type": "markdown",
   "metadata": {},
   "source": [
    "Hay una variedad de recursiones que se pueden obtener al realizar el análisis de un algoritmo. A menara de ejemplo, dejo la siguiente plática del Dr. Fábila, donde estima asintóticamente el tiempo de ejecución de su algoritmo, [video](https://youtu.be/3FX20GhSly0). En el siguiente artículo, del Dr. Pach y otros, realizan distintos análisis donde se observan solución de recursiones del tipo $n\\lg(n)^{\\lg(cte)}$ o del tipo  $n/2^{\\sqrt{\\lg(n)}}$, [artículo](https://doi.org/10.1016/j.aim.2021.107779).\n",
    "\n",
    "En las secciones 4.3, 4.4, 4.5 del libro de Cormen, \"Introduction to Algorithms\" 3rd. Edition, abordan lo referente a recursiones y sus soluciones. En los ejercicios, aparecen recursiones como la siguiete."
   ]
  },
  {
   "cell_type": "markdown",
   "metadata": {},
   "source": [
    "<a id='Ejemplo4'></a>\n",
    "### D. Ejemplo 4"
   ]
  },
  {
   "cell_type": "markdown",
   "metadata": {},
   "source": [
    "**Resuelve**. $T(n)=T(n-2)+\\frac{1}{\\lg(n)}$."
   ]
  },
  {
   "cell_type": "markdown",
   "metadata": {},
   "source": [
    "**Solución**.\n",
    "\n",
    "Al aplicar sustitución, obtenemos que \n",
    "\n",
    "$T(n)=T(3)+\\frac{1}{\\lg(2k+1)}+\\frac{1}{\\lg(2k-1)}+\\dots+\\frac{1}{\\lg(5)}$\n",
    "\n",
    "Por simplicidad, asumimos $T(3)=\\frac{1}{\\lg(3)}$ y que $n=2k+1$, entonces\n",
    "\n",
    "$T(n)=\\sum_{i=3}^{2k+1}\\frac{1}{\\lg(i)}$.\n",
    "\n",
    "Veamos como se comporta la función."
   ]
  },
  {
   "cell_type": "code",
   "execution_count": 1,
   "metadata": {},
   "outputs": [],
   "source": [
    "using Plots"
   ]
  },
  {
   "cell_type": "code",
   "execution_count": 2,
   "metadata": {
    "scrolled": true
   },
   "outputs": [
    {
     "data": {
      "image/png": "[encoded data removed]",
      "image/svg+xml": "<?xml version=\"1.0\" encoding=\"utf-8\"?>\n<svg xmlns=\"http://www.w3.org/2000/svg\" xmlns:xlink=\"http://www.w3.org/1999/xlink\" width=\"600\" height=\"400\" viewBox=\"0 0 2400 1600\">\n<defs>\n  <clipPath id=\"clip100\">\n    <rect x=\"0\" y=\"0\" width=\"2400\" height=\"1600\"/>\n  </clipPath>\n</defs>\n<path clip-path=\"url(#clip100)\" d=\"M0 1600 L2400 1600 L2400 0 L0 0  Z\" fill=\"#ffffff\" fill-rule=\"evenodd\" fill-opacity=\"1\"/>\n<defs>\n  <clipPath id=\"clip101\">\n    <rect x=\"480\" y=\"0\" width=\"1681\" height=\"1600\"/>\n  </clipPath>\n</defs>\n<path clip-path=\"url(#clip100)\" d=\"M156.598 1486.45 L2352.76 1486.45 L2352.76 47.2441 L156.598 47.2441  Z\" fill=\"#ffffff\" fill-rule=\"evenodd\" fill-opacity=\"1\"/>\n<defs>\n  <clipPath id=\"clip102\">\n    <rect x=\"156\" y=\"47\" width=\"2197\" height=\"1440\"/>\n  </clipPath>\n</defs>\n<polyline clip-path=\"url(#clip102)\" style=\"stroke:#000000; stroke-linecap:round; stroke-linejoin:round; stroke-width:2; stroke-opacity:0.1; fill:none\" points=\"537.499,1486.45 537.499,47.2441 \"/>\n<polyline clip-path=\"url(#clip102)\" style=\"stroke:#000000; stroke-linecap:round; stroke-linejoin:round; stroke-width:2; stroke-opacity:0.1; fill:none\" points=\"935.931,1486.45 935.931,47.2441 \"/>\n<polyline clip-path=\"url(#clip102)\" style=\"stroke:#000000; stroke-linecap:round; stroke-linejoin:round; stroke-width:2; stroke-opacity:0.1; fill:none\" points=\"1334.36,1486.45 1334.36,47.2441 \"/>\n<polyline clip-path=\"url(#clip102)\" style=\"stroke:#000000; stroke-linecap:round; stroke-linejoin:round; stroke-width:2; stroke-opacity:0.1; fill:none\" points=\"1732.8,1486.45 1732.8,47.2441 \"/>\n<polyline clip-path=\"url(#clip102)\" style=\"stroke:#000000; stroke-linecap:round; stroke-linejoin:round; stroke-width:2; stroke-opacity:0.1; fill:none\" points=\"2131.23,1486.45 2131.23,47.2441 \"/>\n<polyline clip-path=\"url(#clip100)\" style=\"stroke:#000000; stroke-linecap:round; stroke-linejoin:round; stroke-width:4; stroke-opacity:1; fill:none\" points=\"156.598,1486.45 2352.76,1486.45 \"/>\n<polyline clip-path=\"url(#clip100)\" style=\"stroke:#000000; stroke-linecap:round; stroke-linejoin:round; stroke-width:4; stroke-opacity:1; fill:none\" points=\"537.499,1486.45 537.499,1467.55 \"/>\n<polyline clip-path=\"url(#clip100)\" style=\"stroke:#000000; stroke-linecap:round; stroke-linejoin:round; stroke-width:4; stroke-opacity:1; fill:none\" points=\"935.931,1486.45 935.931,1467.55 \"/>\n<polyline clip-path=\"url(#clip100)\" style=\"stroke:#000000; stroke-linecap:round; stroke-linejoin:round; stroke-width:4; stroke-opacity:1; fill:none\" points=\"1334.36,1486.45 1334.36,1467.55 \"/>\n<polyline clip-path=\"url(#clip100)\" style=\"stroke:#000000; stroke-linecap:round; stroke-linejoin:round; stroke-width:4; stroke-opacity:1; fill:none\" points=\"1732.8,1486.45 1732.8,1467.55 \"/>\n<polyline clip-path=\"url(#clip100)\" style=\"stroke:#000000; stroke-linecap:round; stroke-linejoin:round; stroke-width:4; stroke-opacity:1; fill:none\" points=\"2131.23,1486.45 2131.23,1467.55 \"/>\n<path clip-path=\"url(#clip100)\" d=\"M504.664 1514.29 L523.02 1514.29 L523.02 1518.22 L508.946 1518.22 L508.946 1526.7 Q509.965 1526.35 510.983 1526.19 Q512.002 1526 513.02 1526 Q518.807 1526 522.187 1529.17 Q525.567 1532.34 525.567 1537.76 Q525.567 1543.34 522.094 1546.44 Q518.622 1549.52 512.303 1549.52 Q510.127 1549.52 507.858 1549.15 Q505.613 1548.78 503.206 1548.04 L503.206 1543.34 Q505.289 1544.47 507.511 1545.03 Q509.733 1545.58 512.21 1545.58 Q516.215 1545.58 518.553 1543.48 Q520.891 1541.37 520.891 1537.76 Q520.891 1534.15 518.553 1532.04 Q516.215 1529.94 512.21 1529.94 Q510.335 1529.94 508.46 1530.35 Q506.608 1530.77 504.664 1531.65 L504.664 1514.29 Z\" fill=\"#000000\" fill-rule=\"nonzero\" fill-opacity=\"1\" /><path clip-path=\"url(#clip100)\" d=\"M534.779 1542.97 L539.664 1542.97 L539.664 1548.85 L534.779 1548.85 L534.779 1542.97 Z\" fill=\"#000000\" fill-rule=\"nonzero\" fill-opacity=\"1\" /><path clip-path=\"url(#clip100)\" d=\"M559.849 1517.37 Q556.238 1517.37 554.409 1520.93 Q552.603 1524.47 552.603 1531.6 Q552.603 1538.71 554.409 1542.27 Q556.238 1545.82 559.849 1545.82 Q563.483 1545.82 565.289 1542.27 Q567.117 1538.71 567.117 1531.6 Q567.117 1524.47 565.289 1520.93 Q563.483 1517.37 559.849 1517.37 M559.849 1513.66 Q565.659 1513.66 568.714 1518.27 Q571.793 1522.85 571.793 1531.6 Q571.793 1540.33 568.714 1544.94 Q565.659 1549.52 559.849 1549.52 Q554.039 1549.52 550.96 1544.94 Q547.904 1540.33 547.904 1531.6 Q547.904 1522.85 550.96 1518.27 Q554.039 1513.66 559.849 1513.66 Z\" fill=\"#000000\" fill-rule=\"nonzero\" fill-opacity=\"1\" /><path clip-path=\"url(#clip100)\" d=\"M902.251 1514.29 L924.473 1514.29 L924.473 1516.28 L911.927 1548.85 L907.043 1548.85 L918.848 1518.22 L902.251 1518.22 L902.251 1514.29 Z\" fill=\"#000000\" fill-rule=\"nonzero\" fill-opacity=\"1\" /><path clip-path=\"url(#clip100)\" d=\"M933.593 1542.97 L938.478 1542.97 L938.478 1548.85 L933.593 1548.85 L933.593 1542.97 Z\" fill=\"#000000\" fill-rule=\"nonzero\" fill-opacity=\"1\" /><path clip-path=\"url(#clip100)\" d=\"M948.709 1514.29 L967.065 1514.29 L967.065 1518.22 L952.991 1518.22 L952.991 1526.7 Q954.01 1526.35 955.029 1526.19 Q956.047 1526 957.066 1526 Q962.853 1526 966.232 1529.17 Q969.612 1532.34 969.612 1537.76 Q969.612 1543.34 966.14 1546.44 Q962.667 1549.52 956.348 1549.52 Q954.172 1549.52 951.904 1549.15 Q949.658 1548.78 947.251 1548.04 L947.251 1543.34 Q949.334 1544.47 951.556 1545.03 Q953.779 1545.58 956.255 1545.58 Q960.26 1545.58 962.598 1543.48 Q964.936 1541.37 964.936 1537.76 Q964.936 1534.15 962.598 1532.04 Q960.26 1529.94 956.255 1529.94 Q954.38 1529.94 952.505 1530.35 Q950.654 1530.77 948.709 1531.65 L948.709 1514.29 Z\" fill=\"#000000\" fill-rule=\"nonzero\" fill-opacity=\"1\" /><path clip-path=\"url(#clip100)\" d=\"M1286.44 1544.91 L1294.07 1544.91 L1294.07 1518.55 L1285.76 1520.21 L1285.76 1515.95 L1294.03 1514.29 L1298.7 1514.29 L1298.7 1544.91 L1306.34 1544.91 L1306.34 1548.85 L1286.44 1548.85 L1286.44 1544.91 Z\" fill=\"#000000\" fill-rule=\"nonzero\" fill-opacity=\"1\" /><path clip-path=\"url(#clip100)\" d=\"M1325.79 1517.37 Q1322.18 1517.37 1320.35 1520.93 Q1318.54 1524.47 1318.54 1531.6 Q1318.54 1538.71 1320.35 1542.27 Q1322.18 1545.82 1325.79 1545.82 Q1329.42 1545.82 1331.23 1542.27 Q1333.06 1538.71 1333.06 1531.6 Q1333.06 1524.47 1331.23 1520.93 Q1329.42 1517.37 1325.79 1517.37 M1325.79 1513.66 Q1331.6 1513.66 1334.65 1518.27 Q1337.73 1522.85 1337.73 1531.6 Q1337.73 1540.33 1334.65 1544.94 Q1331.6 1549.52 1325.79 1549.52 Q1319.98 1549.52 1316.9 1544.94 Q1313.84 1540.33 1313.84 1531.6 Q1313.84 1522.85 1316.9 1518.27 Q1319.98 1513.66 1325.79 1513.66 Z\" fill=\"#000000\" fill-rule=\"nonzero\" fill-opacity=\"1\" /><path clip-path=\"url(#clip100)\" d=\"M1345.95 1542.97 L1350.83 1542.97 L1350.83 1548.85 L1345.95 1548.85 L1345.95 1542.97 Z\" fill=\"#000000\" fill-rule=\"nonzero\" fill-opacity=\"1\" /><path clip-path=\"url(#clip100)\" d=\"M1371.02 1517.37 Q1367.41 1517.37 1365.58 1520.93 Q1363.77 1524.47 1363.77 1531.6 Q1363.77 1538.71 1365.58 1542.27 Q1367.41 1545.82 1371.02 1545.82 Q1374.65 1545.82 1376.46 1542.27 Q1378.29 1538.71 1378.29 1531.6 Q1378.29 1524.47 1376.46 1520.93 Q1374.65 1517.37 1371.02 1517.37 M1371.02 1513.66 Q1376.83 1513.66 1379.88 1518.27 Q1382.96 1522.85 1382.96 1531.6 Q1382.96 1540.33 1379.88 1544.94 Q1376.83 1549.52 1371.02 1549.52 Q1365.21 1549.52 1362.13 1544.94 Q1359.07 1540.33 1359.07 1531.6 Q1359.07 1522.85 1362.13 1518.27 Q1365.21 1513.66 1371.02 1513.66 Z\" fill=\"#000000\" fill-rule=\"nonzero\" fill-opacity=\"1\" /><path clip-path=\"url(#clip100)\" d=\"M1685.37 1544.91 L1693 1544.91 L1693 1518.55 L1684.69 1520.21 L1684.69 1515.95 L1692.96 1514.29 L1697.63 1514.29 L1697.63 1544.91 L1705.27 1544.91 L1705.27 1548.85 L1685.37 1548.85 L1685.37 1544.91 Z\" fill=\"#000000\" fill-rule=\"nonzero\" fill-opacity=\"1\" /><path clip-path=\"url(#clip100)\" d=\"M1718.74 1544.91 L1735.06 1544.91 L1735.06 1548.85 L1713.12 1548.85 L1713.12 1544.91 Q1715.78 1542.16 1720.37 1537.53 Q1724.97 1532.88 1726.15 1531.53 Q1728.4 1529.01 1729.28 1527.27 Q1730.18 1525.51 1730.18 1523.82 Q1730.18 1521.07 1728.24 1519.33 Q1726.31 1517.6 1723.21 1517.6 Q1721.01 1517.6 1718.56 1518.36 Q1716.13 1519.13 1713.35 1520.68 L1713.35 1515.95 Q1716.18 1514.82 1718.63 1514.24 Q1721.08 1513.66 1723.12 1513.66 Q1728.49 1513.66 1731.68 1516.35 Q1734.88 1519.03 1734.88 1523.52 Q1734.88 1525.65 1734.07 1527.57 Q1733.28 1529.47 1731.18 1532.07 Q1730.6 1532.74 1727.49 1535.95 Q1724.39 1539.15 1718.74 1544.91 Z\" fill=\"#000000\" fill-rule=\"nonzero\" fill-opacity=\"1\" /><path clip-path=\"url(#clip100)\" d=\"M1744.88 1542.97 L1749.76 1542.97 L1749.76 1548.85 L1744.88 1548.85 L1744.88 1542.97 Z\" fill=\"#000000\" fill-rule=\"nonzero\" fill-opacity=\"1\" /><path clip-path=\"url(#clip100)\" d=\"M1759.99 1514.29 L1778.35 1514.29 L1778.35 1518.22 L1764.28 1518.22 L1764.28 1526.7 Q1765.3 1526.35 1766.31 1526.19 Q1767.33 1526 1768.35 1526 Q1774.14 1526 1777.52 1529.17 Q1780.9 1532.34 1780.9 1537.76 Q1780.9 1543.34 1777.42 1546.44 Q1773.95 1549.52 1767.63 1549.52 Q1765.46 1549.52 1763.19 1549.15 Q1760.94 1548.78 1758.54 1548.04 L1758.54 1543.34 Q1760.62 1544.47 1762.84 1545.03 Q1765.06 1545.58 1767.54 1545.58 Q1771.55 1545.58 1773.88 1543.48 Q1776.22 1541.37 1776.22 1537.76 Q1776.22 1534.15 1773.88 1532.04 Q1771.55 1529.94 1767.54 1529.94 Q1765.67 1529.94 1763.79 1530.35 Q1761.94 1530.77 1759.99 1531.65 L1759.99 1514.29 Z\" fill=\"#000000\" fill-rule=\"nonzero\" fill-opacity=\"1\" /><path clip-path=\"url(#clip100)\" d=\"M2083.3 1544.91 L2090.94 1544.91 L2090.94 1518.55 L2082.63 1520.21 L2082.63 1515.95 L2090.89 1514.29 L2095.57 1514.29 L2095.57 1544.91 L2103.21 1544.91 L2103.21 1548.85 L2083.3 1548.85 L2083.3 1544.91 Z\" fill=\"#000000\" fill-rule=\"nonzero\" fill-opacity=\"1\" /><path clip-path=\"url(#clip100)\" d=\"M2112.7 1514.29 L2131.05 1514.29 L2131.05 1518.22 L2116.98 1518.22 L2116.98 1526.7 Q2118 1526.35 2119.02 1526.19 Q2120.04 1526 2121.05 1526 Q2126.84 1526 2130.22 1529.17 Q2133.6 1532.34 2133.6 1537.76 Q2133.6 1543.34 2130.13 1546.44 Q2126.66 1549.52 2120.34 1549.52 Q2118.16 1549.52 2115.89 1549.15 Q2113.65 1548.78 2111.24 1548.04 L2111.24 1543.34 Q2113.32 1544.47 2115.54 1545.03 Q2117.77 1545.58 2120.24 1545.58 Q2124.25 1545.58 2126.59 1543.48 Q2128.92 1541.37 2128.92 1537.76 Q2128.92 1534.15 2126.59 1532.04 Q2124.25 1529.94 2120.24 1529.94 Q2118.37 1529.94 2116.49 1530.35 Q2114.64 1530.77 2112.7 1531.65 L2112.7 1514.29 Z\" fill=\"#000000\" fill-rule=\"nonzero\" fill-opacity=\"1\" /><path clip-path=\"url(#clip100)\" d=\"M2142.81 1542.97 L2147.7 1542.97 L2147.7 1548.85 L2142.81 1548.85 L2142.81 1542.97 Z\" fill=\"#000000\" fill-rule=\"nonzero\" fill-opacity=\"1\" /><path clip-path=\"url(#clip100)\" d=\"M2167.88 1517.37 Q2164.27 1517.37 2162.44 1520.93 Q2160.64 1524.47 2160.64 1531.6 Q2160.64 1538.71 2162.44 1542.27 Q2164.27 1545.82 2167.88 1545.82 Q2171.52 1545.82 2173.32 1542.27 Q2175.15 1538.71 2175.15 1531.6 Q2175.15 1524.47 2173.32 1520.93 Q2171.52 1517.37 2167.88 1517.37 M2167.88 1513.66 Q2173.69 1513.66 2176.75 1518.27 Q2179.83 1522.85 2179.83 1531.6 Q2179.83 1540.33 2176.75 1544.94 Q2173.69 1549.52 2167.88 1549.52 Q2162.07 1549.52 2158.99 1544.94 Q2155.94 1540.33 2155.94 1531.6 Q2155.94 1522.85 2158.99 1518.27 Q2162.07 1513.66 2167.88 1513.66 Z\" fill=\"#000000\" fill-rule=\"nonzero\" fill-opacity=\"1\" /><polyline clip-path=\"url(#clip102)\" style=\"stroke:#000000; stroke-linecap:round; stroke-linejoin:round; stroke-width:2; stroke-opacity:0.1; fill:none\" points=\"156.598,1267.5 2352.76,1267.5 \"/>\n<polyline clip-path=\"url(#clip102)\" style=\"stroke:#000000; stroke-linecap:round; stroke-linejoin:round; stroke-width:2; stroke-opacity:0.1; fill:none\" points=\"156.598,911.074 2352.76,911.074 \"/>\n<polyline clip-path=\"url(#clip102)\" style=\"stroke:#000000; stroke-linecap:round; stroke-linejoin:round; stroke-width:2; stroke-opacity:0.1; fill:none\" points=\"156.598,554.646 2352.76,554.646 \"/>\n<polyline clip-path=\"url(#clip102)\" style=\"stroke:#000000; stroke-linecap:round; stroke-linejoin:round; stroke-width:2; stroke-opacity:0.1; fill:none\" points=\"156.598,198.219 2352.76,198.219 \"/>\n<polyline clip-path=\"url(#clip100)\" style=\"stroke:#000000; stroke-linecap:round; stroke-linejoin:round; stroke-width:4; stroke-opacity:1; fill:none\" points=\"156.598,1486.45 156.598,47.2441 \"/>\n<polyline clip-path=\"url(#clip100)\" style=\"stroke:#000000; stroke-linecap:round; stroke-linejoin:round; stroke-width:4; stroke-opacity:1; fill:none\" points=\"156.598,1267.5 175.496,1267.5 \"/>\n<polyline clip-path=\"url(#clip100)\" style=\"stroke:#000000; stroke-linecap:round; stroke-linejoin:round; stroke-width:4; stroke-opacity:1; fill:none\" points=\"156.598,911.074 175.496,911.074 \"/>\n<polyline clip-path=\"url(#clip100)\" style=\"stroke:#000000; stroke-linecap:round; stroke-linejoin:round; stroke-width:4; stroke-opacity:1; fill:none\" points=\"156.598,554.646 175.496,554.646 \"/>\n<polyline clip-path=\"url(#clip100)\" style=\"stroke:#000000; stroke-linecap:round; stroke-linejoin:round; stroke-width:4; stroke-opacity:1; fill:none\" points=\"156.598,198.219 175.496,198.219 \"/>\n<path clip-path=\"url(#clip100)\" d=\"M64.0708 1253.3 Q60.4597 1253.3 58.631 1256.87 Q56.8254 1260.41 56.8254 1267.54 Q56.8254 1274.64 58.631 1278.21 Q60.4597 1281.75 64.0708 1281.75 Q67.705 1281.75 69.5105 1278.21 Q71.3392 1274.64 71.3392 1267.54 Q71.3392 1260.41 69.5105 1256.87 Q67.705 1253.3 64.0708 1253.3 M64.0708 1249.6 Q69.8809 1249.6 72.9365 1254.2 Q76.0151 1258.79 76.0151 1267.54 Q76.0151 1276.26 72.9365 1280.87 Q69.8809 1285.45 64.0708 1285.45 Q58.2606 1285.45 55.1819 1280.87 Q52.1264 1276.26 52.1264 1267.54 Q52.1264 1258.79 55.1819 1254.2 Q58.2606 1249.6 64.0708 1249.6 Z\" fill=\"#000000\" fill-rule=\"nonzero\" fill-opacity=\"1\" /><path clip-path=\"url(#clip100)\" d=\"M84.2327 1278.9 L89.1169 1278.9 L89.1169 1284.78 L84.2327 1284.78 L84.2327 1278.9 Z\" fill=\"#000000\" fill-rule=\"nonzero\" fill-opacity=\"1\" /><path clip-path=\"url(#clip100)\" d=\"M113.469 1266.15 Q116.825 1266.87 118.7 1269.13 Q120.598 1271.4 120.598 1274.74 Q120.598 1279.85 117.08 1282.65 Q113.561 1285.45 107.08 1285.45 Q104.904 1285.45 102.589 1285.01 Q100.297 1284.6 97.8437 1283.74 L97.8437 1279.23 Q99.7882 1280.36 102.103 1280.94 Q104.418 1281.52 106.941 1281.52 Q111.339 1281.52 113.631 1279.78 Q115.945 1278.05 115.945 1274.74 Q115.945 1271.68 113.793 1269.97 Q111.663 1268.23 107.844 1268.23 L103.816 1268.23 L103.816 1264.39 L108.029 1264.39 Q111.478 1264.39 113.307 1263.02 Q115.135 1261.63 115.135 1259.04 Q115.135 1256.38 113.237 1254.97 Q111.362 1253.53 107.844 1253.53 Q105.922 1253.53 103.723 1253.95 Q101.524 1254.37 98.8854 1255.24 L98.8854 1251.08 Q101.547 1250.34 103.862 1249.97 Q106.2 1249.6 108.26 1249.6 Q113.584 1249.6 116.686 1252.03 Q119.788 1254.43 119.788 1258.56 Q119.788 1261.43 118.145 1263.42 Q116.501 1265.38 113.469 1266.15 Z\" fill=\"#000000\" fill-rule=\"nonzero\" fill-opacity=\"1\" /><path clip-path=\"url(#clip100)\" d=\"M62.9365 896.873 Q59.3254 896.873 57.4967 900.438 Q55.6912 903.979 55.6912 911.109 Q55.6912 918.215 57.4967 921.78 Q59.3254 925.322 62.9365 925.322 Q66.5707 925.322 68.3763 921.78 Q70.205 918.215 70.205 911.109 Q70.205 903.979 68.3763 900.438 Q66.5707 896.873 62.9365 896.873 M62.9365 893.169 Q68.7467 893.169 71.8022 897.776 Q74.8809 902.359 74.8809 911.109 Q74.8809 919.836 71.8022 924.442 Q68.7467 929.025 62.9365 929.025 Q57.1264 929.025 54.0477 924.442 Q50.9921 919.836 50.9921 911.109 Q50.9921 902.359 54.0477 897.776 Q57.1264 893.169 62.9365 893.169 Z\" fill=\"#000000\" fill-rule=\"nonzero\" fill-opacity=\"1\" /><path clip-path=\"url(#clip100)\" d=\"M83.0984 922.474 L87.9827 922.474 L87.9827 928.354 L83.0984 928.354 L83.0984 922.474 Z\" fill=\"#000000\" fill-rule=\"nonzero\" fill-opacity=\"1\" /><path clip-path=\"url(#clip100)\" d=\"M111.015 897.868 L99.2095 916.317 L111.015 916.317 L111.015 897.868 M109.788 893.794 L115.668 893.794 L115.668 916.317 L120.598 916.317 L120.598 920.206 L115.668 920.206 L115.668 928.354 L111.015 928.354 L111.015 920.206 L95.4132 920.206 L95.4132 915.692 L109.788 893.794 Z\" fill=\"#000000\" fill-rule=\"nonzero\" fill-opacity=\"1\" /><path clip-path=\"url(#clip100)\" d=\"M64.418 540.445 Q60.8069 540.445 58.9782 544.01 Q57.1726 547.551 57.1726 554.681 Q57.1726 561.787 58.9782 565.352 Q60.8069 568.894 64.418 568.894 Q68.0522 568.894 69.8578 565.352 Q71.6865 561.787 71.6865 554.681 Q71.6865 547.551 69.8578 544.01 Q68.0522 540.445 64.418 540.445 M64.418 536.741 Q70.2281 536.741 73.2837 541.348 Q76.3624 545.931 76.3624 554.681 Q76.3624 563.408 73.2837 568.014 Q70.2281 572.598 64.418 572.598 Q58.6078 572.598 55.5291 568.014 Q52.4736 563.408 52.4736 554.681 Q52.4736 545.931 55.5291 541.348 Q58.6078 536.741 64.418 536.741 Z\" fill=\"#000000\" fill-rule=\"nonzero\" fill-opacity=\"1\" /><path clip-path=\"url(#clip100)\" d=\"M84.5799 566.047 L89.4641 566.047 L89.4641 571.926 L84.5799 571.926 L84.5799 566.047 Z\" fill=\"#000000\" fill-rule=\"nonzero\" fill-opacity=\"1\" /><path clip-path=\"url(#clip100)\" d=\"M99.6956 537.366 L118.052 537.366 L118.052 541.301 L103.978 541.301 L103.978 549.774 Q104.996 549.426 106.015 549.264 Q107.033 549.079 108.052 549.079 Q113.839 549.079 117.219 552.25 Q120.598 555.422 120.598 560.838 Q120.598 566.417 117.126 569.519 Q113.654 572.598 107.334 572.598 Q105.159 572.598 102.89 572.227 Q100.645 571.857 98.2372 571.116 L98.2372 566.417 Q100.321 567.551 102.543 568.107 Q104.765 568.662 107.242 568.662 Q111.246 568.662 113.584 566.556 Q115.922 564.449 115.922 560.838 Q115.922 557.227 113.584 555.121 Q111.246 553.014 107.242 553.014 Q105.367 553.014 103.492 553.431 Q101.64 553.848 99.6956 554.727 L99.6956 537.366 Z\" fill=\"#000000\" fill-rule=\"nonzero\" fill-opacity=\"1\" /><path clip-path=\"url(#clip100)\" d=\"M63.2606 184.017 Q59.6495 184.017 57.8208 187.582 Q56.0152 191.124 56.0152 198.253 Q56.0152 205.36 57.8208 208.924 Q59.6495 212.466 63.2606 212.466 Q66.8948 212.466 68.7004 208.924 Q70.5291 205.36 70.5291 198.253 Q70.5291 191.124 68.7004 187.582 Q66.8948 184.017 63.2606 184.017 M63.2606 180.314 Q69.0707 180.314 72.1263 184.92 Q75.205 189.503 75.205 198.253 Q75.205 206.98 72.1263 211.586 Q69.0707 216.17 63.2606 216.17 Q57.4504 216.17 54.3717 211.586 Q51.3162 206.98 51.3162 198.253 Q51.3162 189.503 54.3717 184.92 Q57.4504 180.314 63.2606 180.314 Z\" fill=\"#000000\" fill-rule=\"nonzero\" fill-opacity=\"1\" /><path clip-path=\"url(#clip100)\" d=\"M83.4225 209.619 L88.3067 209.619 L88.3067 215.499 L83.4225 215.499 L83.4225 209.619 Z\" fill=\"#000000\" fill-rule=\"nonzero\" fill-opacity=\"1\" /><path clip-path=\"url(#clip100)\" d=\"M109.071 196.355 Q105.922 196.355 104.071 198.508 Q102.242 200.661 102.242 204.411 Q102.242 208.137 104.071 210.313 Q105.922 212.466 109.071 212.466 Q112.219 212.466 114.047 210.313 Q115.899 208.137 115.899 204.411 Q115.899 200.661 114.047 198.508 Q112.219 196.355 109.071 196.355 M118.353 181.702 L118.353 185.962 Q116.594 185.128 114.788 184.688 Q113.006 184.249 111.246 184.249 Q106.617 184.249 104.163 187.374 Q101.733 190.499 101.385 196.818 Q102.751 194.804 104.811 193.739 Q106.871 192.651 109.348 192.651 Q114.557 192.651 117.566 195.823 Q120.598 198.971 120.598 204.411 Q120.598 209.735 117.45 212.952 Q114.302 216.17 109.071 216.17 Q103.075 216.17 99.9039 211.586 Q96.7326 206.98 96.7326 198.253 Q96.7326 190.059 100.621 185.198 Q104.51 180.314 111.061 180.314 Q112.82 180.314 114.603 180.661 Q116.408 181.008 118.353 181.702 Z\" fill=\"#000000\" fill-rule=\"nonzero\" fill-opacity=\"1\" /><polyline clip-path=\"url(#clip102)\" style=\"stroke:#009af9; stroke-linecap:round; stroke-linejoin:round; stroke-width:4; stroke-opacity:1; fill:none\" points=\"218.754,87.9763 356.877,509.972 495,747.616 633.123,902.714 771.246,1013.26 909.369,1096.81 1047.49,1162.64 1185.62,1216.14 1323.74,1260.7 1461.86,1298.53 1599.98,1331.15 1738.11,1359.65 1876.23,1384.83 2014.35,1407.27 2152.48,1427.45 2290.6,1445.72 \"/>\n</svg>\n",
      "text/html": [
       "<?xml version=\"1.0\" encoding=\"utf-8\"?>\n",
       "<svg xmlns=\"http://www.w3.org/2000/svg\" xmlns:xlink=\"http://www.w3.org/1999/xlink\" width=\"600\" height=\"400\" viewBox=\"0 0 2400 1600\">\n",
       "<defs>\n",
       "  <clipPath id=\"clip150\">\n",
       "    <rect x=\"0\" y=\"0\" width=\"2400\" height=\"1600\"/>\n",
       "  </clipPath>\n",
       "</defs>\n",
       "<path clip-path=\"url(#clip150)\" d=\"M0 1600 L2400 1600 L2400 0 L0 0  Z\" fill=\"#ffffff\" fill-rule=\"evenodd\" fill-opacity=\"1\"/>\n",
       "<defs>\n",
       "  <clipPath id=\"clip151\">\n",
       "    <rect x=\"480\" y=\"0\" width=\"1681\" height=\"1600\"/>\n",
       "  </clipPath>\n",
       "</defs>\n",
       "<path clip-path=\"url(#clip150)\" d=\"M156.598 1486.45 L2352.76 1486.45 L2352.76 47.2441 L156.598 47.2441  Z\" fill=\"#ffffff\" fill-rule=\"evenodd\" fill-opacity=\"1\"/>\n",
       "<defs>\n",
       "  <clipPath id=\"clip152\">\n",
       "    <rect x=\"156\" y=\"47\" width=\"2197\" height=\"1440\"/>\n",
       "  </clipPath>\n",
       "</defs>\n",
       "<polyline clip-path=\"url(#clip152)\" style=\"stroke:#000000; stroke-linecap:round; stroke-linejoin:round; stroke-width:2; stroke-opacity:0.1; fill:none\" points=\"537.499,1486.45 537.499,47.2441 \"/>\n",
       "<polyline clip-path=\"url(#clip152)\" style=\"stroke:#000000; stroke-linecap:round; stroke-linejoin:round; stroke-width:2; stroke-opacity:0.1; fill:none\" points=\"935.931,1486.45 935.931,47.2441 \"/>\n",
       "<polyline clip-path=\"url(#clip152)\" style=\"stroke:#000000; stroke-linecap:round; stroke-linejoin:round; stroke-width:2; stroke-opacity:0.1; fill:none\" points=\"1334.36,1486.45 1334.36,47.2441 \"/>\n",
       "<polyline clip-path=\"url(#clip152)\" style=\"stroke:#000000; stroke-linecap:round; stroke-linejoin:round; stroke-width:2; stroke-opacity:0.1; fill:none\" points=\"1732.8,1486.45 1732.8,47.2441 \"/>\n",
       "<polyline clip-path=\"url(#clip152)\" style=\"stroke:#000000; stroke-linecap:round; stroke-linejoin:round; stroke-width:2; stroke-opacity:0.1; fill:none\" points=\"2131.23,1486.45 2131.23,47.2441 \"/>\n",
       "<polyline clip-path=\"url(#clip150)\" style=\"stroke:#000000; stroke-linecap:round; stroke-linejoin:round; stroke-width:4; stroke-opacity:1; fill:none\" points=\"156.598,1486.45 2352.76,1486.45 \"/>\n",
       "<polyline clip-path=\"url(#clip150)\" style=\"stroke:#000000; stroke-linecap:round; stroke-linejoin:round; stroke-width:4; stroke-opacity:1; fill:none\" points=\"537.499,1486.45 537.499,1467.55 \"/>\n",
       "<polyline clip-path=\"url(#clip150)\" style=\"stroke:#000000; stroke-linecap:round; stroke-linejoin:round; stroke-width:4; stroke-opacity:1; fill:none\" points=\"935.931,1486.45 935.931,1467.55 \"/>\n",
       "<polyline clip-path=\"url(#clip150)\" style=\"stroke:#000000; stroke-linecap:round; stroke-linejoin:round; stroke-width:4; stroke-opacity:1; fill:none\" points=\"1334.36,1486.45 1334.36,1467.55 \"/>\n",
       "<polyline clip-path=\"url(#clip150)\" style=\"stroke:#000000; stroke-linecap:round; stroke-linejoin:round; stroke-width:4; stroke-opacity:1; fill:none\" points=\"1732.8,1486.45 1732.8,1467.55 \"/>\n",
       "<polyline clip-path=\"url(#clip150)\" style=\"stroke:#000000; stroke-linecap:round; stroke-linejoin:round; stroke-width:4; stroke-opacity:1; fill:none\" points=\"2131.23,1486.45 2131.23,1467.55 \"/>\n",
       "<path clip-path=\"url(#clip150)\" d=\"M504.664 1514.29 L523.02 1514.29 L523.02 1518.22 L508.946 1518.22 L508.946 1526.7 Q509.965 1526.35 510.983 1526.19 Q512.002 1526 513.02 1526 Q518.807 1526 522.187 1529.17 Q525.567 1532.34 525.567 1537.76 Q525.567 1543.34 522.094 1546.44 Q518.622 1549.52 512.303 1549.52 Q510.127 1549.52 507.858 1549.15 Q505.613 1548.78 503.206 1548.04 L503.206 1543.34 Q505.289 1544.47 507.511 1545.03 Q509.733 1545.58 512.21 1545.58 Q516.215 1545.58 518.553 1543.48 Q520.891 1541.37 520.891 1537.76 Q520.891 1534.15 518.553 1532.04 Q516.215 1529.94 512.21 1529.94 Q510.335 1529.94 508.46 1530.35 Q506.608 1530.77 504.664 1531.65 L504.664 1514.29 Z\" fill=\"#000000\" fill-rule=\"nonzero\" fill-opacity=\"1\" /><path clip-path=\"url(#clip150)\" d=\"M534.779 1542.97 L539.664 1542.97 L539.664 1548.85 L534.779 1548.85 L534.779 1542.97 Z\" fill=\"#000000\" fill-rule=\"nonzero\" fill-opacity=\"1\" /><path clip-path=\"url(#clip150)\" d=\"M559.849 1517.37 Q556.238 1517.37 554.409 1520.93 Q552.603 1524.47 552.603 1531.6 Q552.603 1538.71 554.409 1542.27 Q556.238 1545.82 559.849 1545.82 Q563.483 1545.82 565.289 1542.27 Q567.117 1538.71 567.117 1531.6 Q567.117 1524.47 565.289 1520.93 Q563.483 1517.37 559.849 1517.37 M559.849 1513.66 Q565.659 1513.66 568.714 1518.27 Q571.793 1522.85 571.793 1531.6 Q571.793 1540.33 568.714 1544.94 Q565.659 1549.52 559.849 1549.52 Q554.039 1549.52 550.96 1544.94 Q547.904 1540.33 547.904 1531.6 Q547.904 1522.85 550.96 1518.27 Q554.039 1513.66 559.849 1513.66 Z\" fill=\"#000000\" fill-rule=\"nonzero\" fill-opacity=\"1\" /><path clip-path=\"url(#clip150)\" d=\"M902.251 1514.29 L924.473 1514.29 L924.473 1516.28 L911.927 1548.85 L907.043 1548.85 L918.848 1518.22 L902.251 1518.22 L902.251 1514.29 Z\" fill=\"#000000\" fill-rule=\"nonzero\" fill-opacity=\"1\" /><path clip-path=\"url(#clip150)\" d=\"M933.593 1542.97 L938.478 1542.97 L938.478 1548.85 L933.593 1548.85 L933.593 1542.97 Z\" fill=\"#000000\" fill-rule=\"nonzero\" fill-opacity=\"1\" /><path clip-path=\"url(#clip150)\" d=\"M948.709 1514.29 L967.065 1514.29 L967.065 1518.22 L952.991 1518.22 L952.991 1526.7 Q954.01 1526.35 955.029 1526.19 Q956.047 1526 957.066 1526 Q962.853 1526 966.232 1529.17 Q969.612 1532.34 969.612 1537.76 Q969.612 1543.34 966.14 1546.44 Q962.667 1549.52 956.348 1549.52 Q954.172 1549.52 951.904 1549.15 Q949.658 1548.78 947.251 1548.04 L947.251 1543.34 Q949.334 1544.47 951.556 1545.03 Q953.779 1545.58 956.255 1545.58 Q960.26 1545.58 962.598 1543.48 Q964.936 1541.37 964.936 1537.76 Q964.936 1534.15 962.598 1532.04 Q960.26 1529.94 956.255 1529.94 Q954.38 1529.94 952.505 1530.35 Q950.654 1530.77 948.709 1531.65 L948.709 1514.29 Z\" fill=\"#000000\" fill-rule=\"nonzero\" fill-opacity=\"1\" /><path clip-path=\"url(#clip150)\" d=\"M1286.44 1544.91 L1294.07 1544.91 L1294.07 1518.55 L1285.76 1520.21 L1285.76 1515.95 L1294.03 1514.29 L1298.7 1514.29 L1298.7 1544.91 L1306.34 1544.91 L1306.34 1548.85 L1286.44 1548.85 L1286.44 1544.91 Z\" fill=\"#000000\" fill-rule=\"nonzero\" fill-opacity=\"1\" /><path clip-path=\"url(#clip150)\" d=\"M1325.79 1517.37 Q1322.18 1517.37 1320.35 1520.93 Q1318.54 1524.47 1318.54 1531.6 Q1318.54 1538.71 1320.35 1542.27 Q1322.18 1545.82 1325.79 1545.82 Q1329.42 1545.82 1331.23 1542.27 Q1333.06 1538.71 1333.06 1531.6 Q1333.06 1524.47 1331.23 1520.93 Q1329.42 1517.37 1325.79 1517.37 M1325.79 1513.66 Q1331.6 1513.66 1334.65 1518.27 Q1337.73 1522.85 1337.73 1531.6 Q1337.73 1540.33 1334.65 1544.94 Q1331.6 1549.52 1325.79 1549.52 Q1319.98 1549.52 1316.9 1544.94 Q1313.84 1540.33 1313.84 1531.6 Q1313.84 1522.85 1316.9 1518.27 Q1319.98 1513.66 1325.79 1513.66 Z\" fill=\"#000000\" fill-rule=\"nonzero\" fill-opacity=\"1\" /><path clip-path=\"url(#clip150)\" d=\"M1345.95 1542.97 L1350.83 1542.97 L1350.83 1548.85 L1345.95 1548.85 L1345.95 1542.97 Z\" fill=\"#000000\" fill-rule=\"nonzero\" fill-opacity=\"1\" /><path clip-path=\"url(#clip150)\" d=\"M1371.02 1517.37 Q1367.41 1517.37 1365.58 1520.93 Q1363.77 1524.47 1363.77 1531.6 Q1363.77 1538.71 1365.58 1542.27 Q1367.41 1545.82 1371.02 1545.82 Q1374.65 1545.82 1376.46 1542.27 Q1378.29 1538.71 1378.29 1531.6 Q1378.29 1524.47 1376.46 1520.93 Q1374.65 1517.37 1371.02 1517.37 M1371.02 1513.66 Q1376.83 1513.66 1379.88 1518.27 Q1382.96 1522.85 1382.96 1531.6 Q1382.96 1540.33 1379.88 1544.94 Q1376.83 1549.52 1371.02 1549.52 Q1365.21 1549.52 1362.13 1544.94 Q1359.07 1540.33 1359.07 1531.6 Q1359.07 1522.85 1362.13 1518.27 Q1365.21 1513.66 1371.02 1513.66 Z\" fill=\"#000000\" fill-rule=\"nonzero\" fill-opacity=\"1\" /><path clip-path=\"url(#clip150)\" d=\"M1685.37 1544.91 L1693 1544.91 L1693 1518.55 L1684.69 1520.21 L1684.69 1515.95 L1692.96 1514.29 L1697.63 1514.29 L1697.63 1544.91 L1705.27 1544.91 L1705.27 1548.85 L1685.37 1548.85 L1685.37 1544.91 Z\" fill=\"#000000\" fill-rule=\"nonzero\" fill-opacity=\"1\" /><path clip-path=\"url(#clip150)\" d=\"M1718.74 1544.91 L1735.06 1544.91 L1735.06 1548.85 L1713.12 1548.85 L1713.12 1544.91 Q1715.78 1542.16 1720.37 1537.53 Q1724.97 1532.88 1726.15 1531.53 Q1728.4 1529.01 1729.28 1527.27 Q1730.18 1525.51 1730.18 1523.82 Q1730.18 1521.07 1728.24 1519.33 Q1726.31 1517.6 1723.21 1517.6 Q1721.01 1517.6 1718.56 1518.36 Q1716.13 1519.13 1713.35 1520.68 L1713.35 1515.95 Q1716.18 1514.82 1718.63 1514.24 Q1721.08 1513.66 1723.12 1513.66 Q1728.49 1513.66 1731.68 1516.35 Q1734.88 1519.03 1734.88 1523.52 Q1734.88 1525.65 1734.07 1527.57 Q1733.28 1529.47 1731.18 1532.07 Q1730.6 1532.74 1727.49 1535.95 Q1724.39 1539.15 1718.74 1544.91 Z\" fill=\"#000000\" fill-rule=\"nonzero\" fill-opacity=\"1\" /><path clip-path=\"url(#clip150)\" d=\"M1744.88 1542.97 L1749.76 1542.97 L1749.76 1548.85 L1744.88 1548.85 L1744.88 1542.97 Z\" fill=\"#000000\" fill-rule=\"nonzero\" fill-opacity=\"1\" /><path clip-path=\"url(#clip150)\" d=\"M1759.99 1514.29 L1778.35 1514.29 L1778.35 1518.22 L1764.28 1518.22 L1764.28 1526.7 Q1765.3 1526.35 1766.31 1526.19 Q1767.33 1526 1768.35 1526 Q1774.14 1526 1777.52 1529.17 Q1780.9 1532.34 1780.9 1537.76 Q1780.9 1543.34 1777.42 1546.44 Q1773.95 1549.52 1767.63 1549.52 Q1765.46 1549.52 1763.19 1549.15 Q1760.94 1548.78 1758.54 1548.04 L1758.54 1543.34 Q1760.62 1544.47 1762.84 1545.03 Q1765.06 1545.58 1767.54 1545.58 Q1771.55 1545.58 1773.88 1543.48 Q1776.22 1541.37 1776.22 1537.76 Q1776.22 1534.15 1773.88 1532.04 Q1771.55 1529.94 1767.54 1529.94 Q1765.67 1529.94 1763.79 1530.35 Q1761.94 1530.77 1759.99 1531.65 L1759.99 1514.29 Z\" fill=\"#000000\" fill-rule=\"nonzero\" fill-opacity=\"1\" /><path clip-path=\"url(#clip150)\" d=\"M2083.3 1544.91 L2090.94 1544.91 L2090.94 1518.55 L2082.63 1520.21 L2082.63 1515.95 L2090.89 1514.29 L2095.57 1514.29 L2095.57 1544.91 L2103.21 1544.91 L2103.21 1548.85 L2083.3 1548.85 L2083.3 1544.91 Z\" fill=\"#000000\" fill-rule=\"nonzero\" fill-opacity=\"1\" /><path clip-path=\"url(#clip150)\" d=\"M2112.7 1514.29 L2131.05 1514.29 L2131.05 1518.22 L2116.98 1518.22 L2116.98 1526.7 Q2118 1526.35 2119.02 1526.19 Q2120.04 1526 2121.05 1526 Q2126.84 1526 2130.22 1529.17 Q2133.6 1532.34 2133.6 1537.76 Q2133.6 1543.34 2130.13 1546.44 Q2126.66 1549.52 2120.34 1549.52 Q2118.16 1549.52 2115.89 1549.15 Q2113.65 1548.78 2111.24 1548.04 L2111.24 1543.34 Q2113.32 1544.47 2115.54 1545.03 Q2117.77 1545.58 2120.24 1545.58 Q2124.25 1545.58 2126.59 1543.48 Q2128.92 1541.37 2128.92 1537.76 Q2128.92 1534.15 2126.59 1532.04 Q2124.25 1529.94 2120.24 1529.94 Q2118.37 1529.94 2116.49 1530.35 Q2114.64 1530.77 2112.7 1531.65 L2112.7 1514.29 Z\" fill=\"#000000\" fill-rule=\"nonzero\" fill-opacity=\"1\" /><path clip-path=\"url(#clip150)\" d=\"M2142.81 1542.97 L2147.7 1542.97 L2147.7 1548.85 L2142.81 1548.85 L2142.81 1542.97 Z\" fill=\"#000000\" fill-rule=\"nonzero\" fill-opacity=\"1\" /><path clip-path=\"url(#clip150)\" d=\"M2167.88 1517.37 Q2164.27 1517.37 2162.44 1520.93 Q2160.64 1524.47 2160.64 1531.6 Q2160.64 1538.71 2162.44 1542.27 Q2164.27 1545.82 2167.88 1545.82 Q2171.52 1545.82 2173.32 1542.27 Q2175.15 1538.71 2175.15 1531.6 Q2175.15 1524.47 2173.32 1520.93 Q2171.52 1517.37 2167.88 1517.37 M2167.88 1513.66 Q2173.69 1513.66 2176.75 1518.27 Q2179.83 1522.85 2179.83 1531.6 Q2179.83 1540.33 2176.75 1544.94 Q2173.69 1549.52 2167.88 1549.52 Q2162.07 1549.52 2158.99 1544.94 Q2155.94 1540.33 2155.94 1531.6 Q2155.94 1522.85 2158.99 1518.27 Q2162.07 1513.66 2167.88 1513.66 Z\" fill=\"#000000\" fill-rule=\"nonzero\" fill-opacity=\"1\" /><polyline clip-path=\"url(#clip152)\" style=\"stroke:#000000; stroke-linecap:round; stroke-linejoin:round; stroke-width:2; stroke-opacity:0.1; fill:none\" points=\"156.598,1267.5 2352.76,1267.5 \"/>\n",
       "<polyline clip-path=\"url(#clip152)\" style=\"stroke:#000000; stroke-linecap:round; stroke-linejoin:round; stroke-width:2; stroke-opacity:0.1; fill:none\" points=\"156.598,911.074 2352.76,911.074 \"/>\n",
       "<polyline clip-path=\"url(#clip152)\" style=\"stroke:#000000; stroke-linecap:round; stroke-linejoin:round; stroke-width:2; stroke-opacity:0.1; fill:none\" points=\"156.598,554.646 2352.76,554.646 \"/>\n",
       "<polyline clip-path=\"url(#clip152)\" style=\"stroke:#000000; stroke-linecap:round; stroke-linejoin:round; stroke-width:2; stroke-opacity:0.1; fill:none\" points=\"156.598,198.219 2352.76,198.219 \"/>\n",
       "<polyline clip-path=\"url(#clip150)\" style=\"stroke:#000000; stroke-linecap:round; stroke-linejoin:round; stroke-width:4; stroke-opacity:1; fill:none\" points=\"156.598,1486.45 156.598,47.2441 \"/>\n",
       "<polyline clip-path=\"url(#clip150)\" style=\"stroke:#000000; stroke-linecap:round; stroke-linejoin:round; stroke-width:4; stroke-opacity:1; fill:none\" points=\"156.598,1267.5 175.496,1267.5 \"/>\n",
       "<polyline clip-path=\"url(#clip150)\" style=\"stroke:#000000; stroke-linecap:round; stroke-linejoin:round; stroke-width:4; stroke-opacity:1; fill:none\" points=\"156.598,911.074 175.496,911.074 \"/>\n",
       "<polyline clip-path=\"url(#clip150)\" style=\"stroke:#000000; stroke-linecap:round; stroke-linejoin:round; stroke-width:4; stroke-opacity:1; fill:none\" points=\"156.598,554.646 175.496,554.646 \"/>\n",
       "<polyline clip-path=\"url(#clip150)\" style=\"stroke:#000000; stroke-linecap:round; stroke-linejoin:round; stroke-width:4; stroke-opacity:1; fill:none\" points=\"156.598,198.219 175.496,198.219 \"/>\n",
       "<path clip-path=\"url(#clip150)\" d=\"M64.0708 1253.3 Q60.4597 1253.3 58.631 1256.87 Q56.8254 1260.41 56.8254 1267.54 Q56.8254 1274.64 58.631 1278.21 Q60.4597 1281.75 64.0708 1281.75 Q67.705 1281.75 69.5105 1278.21 Q71.3392 1274.64 71.3392 1267.54 Q71.3392 1260.41 69.5105 1256.87 Q67.705 1253.3 64.0708 1253.3 M64.0708 1249.6 Q69.8809 1249.6 72.9365 1254.2 Q76.0151 1258.79 76.0151 1267.54 Q76.0151 1276.26 72.9365 1280.87 Q69.8809 1285.45 64.0708 1285.45 Q58.2606 1285.45 55.1819 1280.87 Q52.1264 1276.26 52.1264 1267.54 Q52.1264 1258.79 55.1819 1254.2 Q58.2606 1249.6 64.0708 1249.6 Z\" fill=\"#000000\" fill-rule=\"nonzero\" fill-opacity=\"1\" /><path clip-path=\"url(#clip150)\" d=\"M84.2327 1278.9 L89.1169 1278.9 L89.1169 1284.78 L84.2327 1284.78 L84.2327 1278.9 Z\" fill=\"#000000\" fill-rule=\"nonzero\" fill-opacity=\"1\" /><path clip-path=\"url(#clip150)\" d=\"M113.469 1266.15 Q116.825 1266.87 118.7 1269.13 Q120.598 1271.4 120.598 1274.74 Q120.598 1279.85 117.08 1282.65 Q113.561 1285.45 107.08 1285.45 Q104.904 1285.45 102.589 1285.01 Q100.297 1284.6 97.8437 1283.74 L97.8437 1279.23 Q99.7882 1280.36 102.103 1280.94 Q104.418 1281.52 106.941 1281.52 Q111.339 1281.52 113.631 1279.78 Q115.945 1278.05 115.945 1274.74 Q115.945 1271.68 113.793 1269.97 Q111.663 1268.23 107.844 1268.23 L103.816 1268.23 L103.816 1264.39 L108.029 1264.39 Q111.478 1264.39 113.307 1263.02 Q115.135 1261.63 115.135 1259.04 Q115.135 1256.38 113.237 1254.97 Q111.362 1253.53 107.844 1253.53 Q105.922 1253.53 103.723 1253.95 Q101.524 1254.37 98.8854 1255.24 L98.8854 1251.08 Q101.547 1250.34 103.862 1249.97 Q106.2 1249.6 108.26 1249.6 Q113.584 1249.6 116.686 1252.03 Q119.788 1254.43 119.788 1258.56 Q119.788 1261.43 118.145 1263.42 Q116.501 1265.38 113.469 1266.15 Z\" fill=\"#000000\" fill-rule=\"nonzero\" fill-opacity=\"1\" /><path clip-path=\"url(#clip150)\" d=\"M62.9365 896.873 Q59.3254 896.873 57.4967 900.438 Q55.6912 903.979 55.6912 911.109 Q55.6912 918.215 57.4967 921.78 Q59.3254 925.322 62.9365 925.322 Q66.5707 925.322 68.3763 921.78 Q70.205 918.215 70.205 911.109 Q70.205 903.979 68.3763 900.438 Q66.5707 896.873 62.9365 896.873 M62.9365 893.169 Q68.7467 893.169 71.8022 897.776 Q74.8809 902.359 74.8809 911.109 Q74.8809 919.836 71.8022 924.442 Q68.7467 929.025 62.9365 929.025 Q57.1264 929.025 54.0477 924.442 Q50.9921 919.836 50.9921 911.109 Q50.9921 902.359 54.0477 897.776 Q57.1264 893.169 62.9365 893.169 Z\" fill=\"#000000\" fill-rule=\"nonzero\" fill-opacity=\"1\" /><path clip-path=\"url(#clip150)\" d=\"M83.0984 922.474 L87.9827 922.474 L87.9827 928.354 L83.0984 928.354 L83.0984 922.474 Z\" fill=\"#000000\" fill-rule=\"nonzero\" fill-opacity=\"1\" /><path clip-path=\"url(#clip150)\" d=\"M111.015 897.868 L99.2095 916.317 L111.015 916.317 L111.015 897.868 M109.788 893.794 L115.668 893.794 L115.668 916.317 L120.598 916.317 L120.598 920.206 L115.668 920.206 L115.668 928.354 L111.015 928.354 L111.015 920.206 L95.4132 920.206 L95.4132 915.692 L109.788 893.794 Z\" fill=\"#000000\" fill-rule=\"nonzero\" fill-opacity=\"1\" /><path clip-path=\"url(#clip150)\" d=\"M64.418 540.445 Q60.8069 540.445 58.9782 544.01 Q57.1726 547.551 57.1726 554.681 Q57.1726 561.787 58.9782 565.352 Q60.8069 568.894 64.418 568.894 Q68.0522 568.894 69.8578 565.352 Q71.6865 561.787 71.6865 554.681 Q71.6865 547.551 69.8578 544.01 Q68.0522 540.445 64.418 540.445 M64.418 536.741 Q70.2281 536.741 73.2837 541.348 Q76.3624 545.931 76.3624 554.681 Q76.3624 563.408 73.2837 568.014 Q70.2281 572.598 64.418 572.598 Q58.6078 572.598 55.5291 568.014 Q52.4736 563.408 52.4736 554.681 Q52.4736 545.931 55.5291 541.348 Q58.6078 536.741 64.418 536.741 Z\" fill=\"#000000\" fill-rule=\"nonzero\" fill-opacity=\"1\" /><path clip-path=\"url(#clip150)\" d=\"M84.5799 566.047 L89.4641 566.047 L89.4641 571.926 L84.5799 571.926 L84.5799 566.047 Z\" fill=\"#000000\" fill-rule=\"nonzero\" fill-opacity=\"1\" /><path clip-path=\"url(#clip150)\" d=\"M99.6956 537.366 L118.052 537.366 L118.052 541.301 L103.978 541.301 L103.978 549.774 Q104.996 549.426 106.015 549.264 Q107.033 549.079 108.052 549.079 Q113.839 549.079 117.219 552.25 Q120.598 555.422 120.598 560.838 Q120.598 566.417 117.126 569.519 Q113.654 572.598 107.334 572.598 Q105.159 572.598 102.89 572.227 Q100.645 571.857 98.2372 571.116 L98.2372 566.417 Q100.321 567.551 102.543 568.107 Q104.765 568.662 107.242 568.662 Q111.246 568.662 113.584 566.556 Q115.922 564.449 115.922 560.838 Q115.922 557.227 113.584 555.121 Q111.246 553.014 107.242 553.014 Q105.367 553.014 103.492 553.431 Q101.64 553.848 99.6956 554.727 L99.6956 537.366 Z\" fill=\"#000000\" fill-rule=\"nonzero\" fill-opacity=\"1\" /><path clip-path=\"url(#clip150)\" d=\"M63.2606 184.017 Q59.6495 184.017 57.8208 187.582 Q56.0152 191.124 56.0152 198.253 Q56.0152 205.36 57.8208 208.924 Q59.6495 212.466 63.2606 212.466 Q66.8948 212.466 68.7004 208.924 Q70.5291 205.36 70.5291 198.253 Q70.5291 191.124 68.7004 187.582 Q66.8948 184.017 63.2606 184.017 M63.2606 180.314 Q69.0707 180.314 72.1263 184.92 Q75.205 189.503 75.205 198.253 Q75.205 206.98 72.1263 211.586 Q69.0707 216.17 63.2606 216.17 Q57.4504 216.17 54.3717 211.586 Q51.3162 206.98 51.3162 198.253 Q51.3162 189.503 54.3717 184.92 Q57.4504 180.314 63.2606 180.314 Z\" fill=\"#000000\" fill-rule=\"nonzero\" fill-opacity=\"1\" /><path clip-path=\"url(#clip150)\" d=\"M83.4225 209.619 L88.3067 209.619 L88.3067 215.499 L83.4225 215.499 L83.4225 209.619 Z\" fill=\"#000000\" fill-rule=\"nonzero\" fill-opacity=\"1\" /><path clip-path=\"url(#clip150)\" d=\"M109.071 196.355 Q105.922 196.355 104.071 198.508 Q102.242 200.661 102.242 204.411 Q102.242 208.137 104.071 210.313 Q105.922 212.466 109.071 212.466 Q112.219 212.466 114.047 210.313 Q115.899 208.137 115.899 204.411 Q115.899 200.661 114.047 198.508 Q112.219 196.355 109.071 196.355 M118.353 181.702 L118.353 185.962 Q116.594 185.128 114.788 184.688 Q113.006 184.249 111.246 184.249 Q106.617 184.249 104.163 187.374 Q101.733 190.499 101.385 196.818 Q102.751 194.804 104.811 193.739 Q106.871 192.651 109.348 192.651 Q114.557 192.651 117.566 195.823 Q120.598 198.971 120.598 204.411 Q120.598 209.735 117.45 212.952 Q114.302 216.17 109.071 216.17 Q103.075 216.17 99.9039 211.586 Q96.7326 206.98 96.7326 198.253 Q96.7326 190.059 100.621 185.198 Q104.51 180.314 111.061 180.314 Q112.82 180.314 114.603 180.661 Q116.408 181.008 118.353 181.702 Z\" fill=\"#000000\" fill-rule=\"nonzero\" fill-opacity=\"1\" /><polyline clip-path=\"url(#clip152)\" style=\"stroke:#009af9; stroke-linecap:round; stroke-linejoin:round; stroke-width:4; stroke-opacity:1; fill:none\" points=\"218.754,87.9763 356.877,509.972 495,747.616 633.123,902.714 771.246,1013.26 909.369,1096.81 1047.49,1162.64 1185.62,1216.14 1323.74,1260.7 1461.86,1298.53 1599.98,1331.15 1738.11,1359.65 1876.23,1384.83 2014.35,1407.27 2152.48,1427.45 2290.6,1445.72 \"/>\n",
       "</svg>\n"
      ]
     },
     "execution_count": 2,
     "metadata": {},
     "output_type": "execute_result"
    }
   ],
   "source": [
    "x = range(3, 16, length = 16)\n",
    "y = log(2)./log.(x)\n",
    "plot(x, y, legend = false)"
   ]
  },
  {
   "cell_type": "markdown",
   "metadata": {},
   "source": [
    "Como es decreciente, tenemos que $T(n)\\geq \\frac{k}{\\lg(2k+1)}$, es decir, $T(n)=\\Omega(\\frac{n}{\\lg(n)})$."
   ]
  },
  {
   "cell_type": "markdown",
   "metadata": {},
   "source": [
    "Por otro lado, $T(n)\\leq \\sum_{i=2}^{n}\\frac{1}{\\lg(i)} \\sim \\int_{2}^{n}\\frac{1}{\\lg(x)}dx \\sim \\int_{2}^{n}\\frac{1}{\\ln(x)}dx$.\n",
    "\n",
    "A pesar, que la integral no tiene solución en términos elementales, observemos que $(\\frac{x}{\\ln(x)})'=\\frac{1}{ln(x)}-\\frac{1}{(ln(x))^2}$ por lo que $\\int_{2}^{n}\\frac{1}{\\ln(x)}dx=O(\\frac{n}{\\lg(n)})$, luego\n",
    "\n",
    "$$T(n)=\\theta(\\frac{n}{\\lg(n)}).$$"
   ]
  },
  {
   "cell_type": "markdown",
   "metadata": {},
   "source": [
    "Para ver una solución en Wolfram Mathemática [aquí](https://www.wolframalpha.com/input?i=T%5Bn%5D%3D%3DT%5Bn-2%5D%2Blog%5B2%5D%2Flog%5Bn%5D).\n",
    "\n",
    "Regresar al **[Índice](#indice)**."
   ]
  },
  {
   "cell_type": "markdown",
   "metadata": {},
   "source": [
    "<a id='Ejemplo5'></a>\n",
    "### 5. Ejemplo 5"
   ]
  },
  {
   "cell_type": "markdown",
   "metadata": {},
   "source": [
    "Dentro del material disponible en la página de Erick Demaine, en alguna ocasión encontré los siguientes examenes con sus respuestas [liga](https://www.dropbox.com/scl/fo/0aci6iqi59qbyrji7socw/h?dl=0&rlkey=2721jzfzwedt7xbfkc78fgh9y).\n",
    "\n",
    "La siguiente recursión aparece allí:"
   ]
  },
  {
   "cell_type": "markdown",
   "metadata": {},
   "source": [
    "**Resuelve**. $T(n)=T(\\frac{n}{2})+T(\\sqrt{n})+n$."
   ]
  },
  {
   "cell_type": "markdown",
   "metadata": {},
   "source": [
    "Cuya solución dice: Como $T(\\frac{n}{2})$ es mucho mayor que $T(\\sqrt{n})$, ignora el segundo término. Como la recursión $R(n)=R(\\frac{n}{2})+n$ cumple que $R(n)=\\theta(n)$, entonces $T(n)=\\theta(n)$.\n",
    "\n",
    "Comprobemos esta afirmación."
   ]
  },
  {
   "cell_type": "markdown",
   "metadata": {},
   "source": [
    "**Comprobación por inducción sobre $n$.**\n",
    "\n",
    "*Caso base.* Asumimos $T(\\theta(1))=\\theta(1)$.\n",
    "\n",
    "*Hipótesis.* $T(k)=\\theta(k)=ck+o(n)$ para toda $k$ tal que $1 \\leq k <n$ y $c$ una constante absoluta.\n",
    "\n",
    "*Inducción.* Como $T(n)=T(\\frac{n}{2})+T(\\sqrt{n})+1$, entonces \n",
    "\n",
    "$T(n)=c\\frac{n}{2}+o(\\frac{n}{2})+c\\sqrt(n)+o(\\sqrt(n))+n=\\frac{c}{2}n+n+o(n)$\n",
    "\n",
    "Para $\\frac{c}{2}+1=1$, es decir, para $c=2$, se cumple que\n",
    "\n",
    "$T(n)=cn+o(n)$. QED"
   ]
  },
  {
   "cell_type": "markdown",
   "metadata": {},
   "source": [
    "Para ver qué hace Wolfram Mathematica [aquí](https://www.wolframalpha.com/input?i=T%5Bn%5D%3D%3DT%5Bn%2F2%5D%2BT%5Bn**0.5%5D%2Bn).\n",
    "\n",
    "Regresar al **[Índice](#indice)**."
   ]
  },
  {
   "cell_type": "markdown",
   "metadata": {},
   "source": [
    "<a id='OtrosRecursos'></a>\n",
    "## 3. Otros recursos\n",
    "\n",
    "Este video es una clase acerca de recursión [liga](https://youtu.be/WPSeyjX1-4s).\n",
    "\n",
    "Esta página son ejemplos para resolver recursiones de Wolfram [liga](https://www.wolframalpha.com/examples/mathematics/discrete-mathematics/recurrences).\n",
    "\n",
    "Esta página es acerca de la sintaxis para funciones recursivas en Wolfram [liga](https://reference.wolfram.com/language/ref/RSolve.html).\n",
    "\n",
    "Ver Métodos Fundamentales de Economía Matemática de Chiang (pg. 544) para ver métodos de resoluciones de ecuaciones en diferencias.\n",
    "\n",
    "Regresar al **[Índice](#indice)**."
   ]
  }
 ],
 "metadata": {
  "kernelspec": {
   "display_name": "Julia 1.9.0",
   "language": "julia",
   "name": "julia-1.9"
  },
  "language_info": {
   "file_extension": ".jl",
   "mimetype": "application/julia",
   "name": "julia",
   "version": "1.9.0"
  }
 },
 "nbformat": 4,
 "nbformat_minor": 4
}
