{
 "cells": [
  {
   "cell_type": "markdown",
   "metadata": {},
   "source": [
    "# Sesión 08\n",
    "> Por Christian Rubio Montiel."
   ]
  },
  {
   "cell_type": "markdown",
   "metadata": {},
   "source": [
    "En esta sesión se resuelven diferentes recursiones mediante el método maestro y el método del árbol. Se aborda el uso de Markdown en Julia: [Markdawn](https://www.dropbox.com/scl/fo/1paqfidrkjj115m9dmxos/h?rlkey=ggmhkj59gnrq6xo1d9qqbm8wx&dl=0)."
   ]
  },
  {
   "cell_type": "markdown",
   "metadata": {},
   "source": [
    "<a id='indice'></a>\n",
    "### Índice\n",
    "---\n",
    "1. **[Método maestro](#MetodoMaestro)**\n",
    "    1. **[Ejemplo 1](#Ejemplo1)**\n",
    "    2. **[Ejemplo 2](#Ejemplo2)**\n",
    "    3. **[Ejemplo 3](#Ejemplo3)**\n",
    "    4. **[Ejemplo 4](#Ejemplo4)**\n",
    "2. **[Método del árbol](#MetodoArbol)**\n",
    "    1. **[Ejemplo 5](#Ejemplo5)**\n",
    "    2. **[Ejemplo 6](#Ejemplo6)**\n",
    "---"
   ]
  },
  {
   "cell_type": "markdown",
   "metadata": {},
   "source": [
    "<a id='MetodoMaestro'></a>\n",
    "## 1. Método maestro"
   ]
  },
  {
   "cell_type": "markdown",
   "metadata": {},
   "source": [
    "El método maestro resuelve un tipo particular de recursiones, las cuales son comunes que resulten al calcular el tiempo de ejecución de un algoritmo, esto son de la forma\n",
    "$$T(n)=aT(\\frac{n}{b})+f(n)$$\n",
    "donde $a\\geq1$, $b>1$ constantes absolutas y $f(n)$ es una función asintóticalmente positiva. Se asume que $n$ es un entero positivo, $T(1)=\\theta(1)$ y que $\\frac{n}{b}$ es $\\left\\lfloor \\frac{n}{b}\\right\\rfloor$ o bien $\\left\\lceil \\frac{n}{b}\\right\\rceil$. Hay 3 casos, dependiendo de la comparación entre la parte de $aT(\\frac{n}{b})$, cuya solución es $n^{\\log_b(a)}$, y $f(n)$. Sea $\\epsilon>0$ y $0<c<1$.\n",
    "\n",
    "1. Si $f(n)=O(n^{\\log_b(a)-\\epsilon})$ entonces $T(n)=\\theta(n^{\\log_b(a)})$.\n",
    "2. Si $f(n)=\\theta(n^{\\log_b(a)})$ entonces $T(n)=\\theta(n^{\\log_b(a)}\\lg(n))$.\n",
    "3. Si $f(n)=\\Omega(n^{\\log_b(a)+\\epsilon})$ y $af(\\frac{n}{b})\\leq cf(n)$, con $n>>0$, entonces $T(n)=\\theta(f(n))$.\n",
    "\n",
    "Para ver el artículo original, ver [Liga](https://dl.acm.org/doi/pdf/10.1145/1008861.1008865)."
   ]
  },
  {
   "cell_type": "markdown",
   "metadata": {},
   "source": [
    "<a id='Ejemplo1'></a>\n",
    "### A. Ejemplo 1"
   ]
  },
  {
   "cell_type": "markdown",
   "metadata": {},
   "source": [
    "**Resuelve**. $T(n)=9T(\\frac{n}{3})+n$."
   ]
  },
  {
   "cell_type": "markdown",
   "metadata": {},
   "source": [
    "**Solución por el método maestro**.\n",
    "\n",
    "Tenemos que $a=9$, $b=3$, $f(n)=n$, $\\log_b(a)=\\log_3(3^2)=2$, $n^{\\log_b(a)}=n^2$. Comparamos $f(n)$ vs $n^{\\log_b(a)}$, es decir, $n$ vs $n^2$ que claramente es mayor $n^2$ por lo que consideramos el caso 1.\n",
    "\n",
    "Como $n=O(n^{2-0.1})=O(n^{1.9})$, confirmamos que aplica el caso 1, entonces $T(n)=\\theta(n^2)$.\n",
    "\n",
    "Dicho de otro modo, $aT(\\frac{n}{b})$ domina (por un factor polinómico) a $f(n)$, cuya solución es $n^{\\log_b(a)}=n^2$."
   ]
  },
  {
   "cell_type": "markdown",
   "metadata": {},
   "source": [
    "Para ver una solución en Wolfram Mathemática [aquí](https://www.wolframalpha.com/input?i=T%5Bn%5D%3D%3D9T%5Bn%2F3%5D%2Bn).\n",
    "\n",
    "Regresar al **[Índice](#indice)**."
   ]
  },
  {
   "cell_type": "markdown",
   "metadata": {},
   "source": [
    "<a id='Ejemplo2'></a>\n",
    "### B. Ejemplo 2"
   ]
  },
  {
   "cell_type": "markdown",
   "metadata": {},
   "source": [
    "**Resuelve**. $T(n)=T(\\frac{2n}{3})+1$."
   ]
  },
  {
   "cell_type": "markdown",
   "metadata": {},
   "source": [
    "**Solución por el método maestro**.\n",
    "\n",
    "Tenemos que $a=1$, $b=\\frac{3}{2}$, $f(n)=1$, $\\log_b(a)=\\log_{3/2}(1)=0$, $n^{\\log_b(a)}=n^0=1$. Comparamos $f(n)$ vs $n^{\\log_b(a)}$, es decir, $1$ vs $1$ que claramente son iguales por lo que consideramos el caso 2.\n",
    "\n",
    "Como $1=\\theta(1)$, confirmamos que aplica el caso 2, entonces $T(n)=\\theta(1*\\lg(n))=\\theta(\\lg(n))$.\n",
    "\n",
    "Dicho de otro modo, $aT(\\frac{n}{b})$ es asintóticamente igual a $f(n)$, cuya solución involucra a $\\lg(n)$."
   ]
  },
  {
   "cell_type": "markdown",
   "metadata": {},
   "source": [
    "Para ver una solución en Wolfram Mathemática [aquí](https://www.wolframalpha.com/input?i=T%5Bn%5D%3D%3DT%5B2n%2F3%5D%2B1).\n",
    "\n",
    "Regresar al **[Índice](#indice)**."
   ]
  },
  {
   "cell_type": "markdown",
   "metadata": {},
   "source": [
    "<a id='Ejemplo3'></a>\n",
    "### C. Ejemplo 3"
   ]
  },
  {
   "cell_type": "markdown",
   "metadata": {},
   "source": [
    "**Resuelve**. $T(n)=3T(\\frac{n}{4})+n\\lg(n)$."
   ]
  },
  {
   "cell_type": "markdown",
   "metadata": {},
   "source": [
    "**Solución por el método maestro**.\n",
    "\n",
    "Tenemos que $a=3$, $b=4$, $f(n)=n\\lg(n)$, $\\log_b(a)=\\log_{4}(3)\\approx 0.793$, $n^{\\log_b(a)}\\approx n^{0.793}$. Comparamos $f(n)$ vs $n^{\\log_b(a)}$, es decir, $n\\lg(n)$ vs $n^{0.793}$ que claramente $n\\lg(n)$ es mayor que $n^{0.793}$ por lo que consideramos el caso 3.\n",
    "\n",
    "Como $n\\lg(n)=\\Omega(n^{0.793+0.1})$, confirmamos que aplica el caso 3, ya que $3f(\\frac{n}{4})\\leq cf(n)$, es decir, $3\\frac{n}{4}\\lg(\\frac{n}{4})\\leq cn\\lg(n)$ para $c=\\frac{3}{4}$, se cumple puesto que $\\lg(n)-2\\leq \\lg(n)$.\n",
    "\n",
    "entonces $T(n)=\\theta(n\\lg(n))$.\n",
    "\n",
    "Dicho de otro modo, $aT(\\frac{n}{b})$ es asintóticamente menor (por un factor polinómico) a $f(n)$, es decir $n\\lg(n)$."
   ]
  },
  {
   "cell_type": "markdown",
   "metadata": {},
   "source": [
    "Para ver una solución en Wolfram Mathemática [aquí](https://www.wolframalpha.com/input?i=T%5Bn%5D%3D%3D3T%5Bn%2F4%5D%2Bnlog%5Bn%5D%2Flog%5B2%5D).\n",
    "\n",
    "Regresar al **[Índice](#indice)**."
   ]
  },
  {
   "cell_type": "markdown",
   "metadata": {},
   "source": [
    "<a id='Ejemplo4'></a>\n",
    "### D. Ejemplo 4"
   ]
  },
  {
   "cell_type": "markdown",
   "metadata": {},
   "source": [
    "**Resuelve**. $T(n)=2T({\\frac{n}{2}})+n\\lg(n)$."
   ]
  },
  {
   "cell_type": "markdown",
   "metadata": {},
   "source": [
    "**Solución por el método maestro**.\n",
    "\n",
    "Tenemos que $a=2$, $b=2$, $f(n)=n\\lg(n)$, $\\log_b(a)=\\log_{2}(2)=1$, $n^{\\log_b(a)}=n$. Comparamos $f(n)$ vs $n^{\\log_b(a)}$, es decir, $n\\lg(n)$ vs $n^{0.793}$ que claramente $n\\lg(n)$ es mayor que $n$ por lo que consideramos el caso 3.\n",
    "\n",
    "Sin embargo, a pesar de que $n\\lg(n)=\\omega(n)$ no se cumple que $n\\lg(n)=\\Omega(n^{1+\\epsilon})$ ya que $\\lg(n)$ asintóticamente es menor que cualquier polinómio. Por lo que no se puede resolver por el método maestro. El método por sustitución nos dió como resultado $T(n)=\\theta(n(\\lg(n))^2)$ (ejemplo 3)."
   ]
  },
  {
   "cell_type": "markdown",
   "metadata": {},
   "source": [
    "Para ver una solución en Wolfram Mathemática [aquí](https://www.wolframalpha.com/input?i=T%5Bn%5D%3D%3D2T%5Bn%2F2%5D%2Bnlog%28n%29%2Flog%282%29).\n",
    "\n",
    "Regresar al **[Índice](#indice)**."
   ]
  },
  {
   "cell_type": "markdown",
   "metadata": {},
   "source": [
    "<a id='MetodoArbol'></a>\n",
    "## 2. Método del árbol"
   ]
  },
  {
   "cell_type": "markdown",
   "metadata": {},
   "source": [
    "El método del árbol, es usado en la demostración del método maestro. Este método nos da una intuición acerca de la solución de cierto tipo de recursiones."
   ]
  },
  {
   "cell_type": "markdown",
   "metadata": {},
   "source": [
    "<a id='Ejemplo5'></a>\n",
    "### A. Ejemplo 5"
   ]
  },
  {
   "cell_type": "markdown",
   "metadata": {},
   "source": [
    "**Resuelve**. $T(n)=2T(\\frac{n}{2})+n$."
   ]
  },
  {
   "cell_type": "markdown",
   "metadata": {},
   "source": [
    "**Solución por el método del árbol**.\n",
    "\n",
    "<img src=\"Fig3.jpg\" alt=\"Figura 3\" width=\"700\"/>\n",
    "\n",
    "> `Figura 3: Se muestra la recursión como un árbol. `\n",
    "\n",
    "Dado que en cada nivel se realiza un trabajo de $n$ y la altura del árbol es $\\lg(n)$, entonces $T(n)=\\theta(n\\lg(n))$, cuya solución ya se había comprobado por el método de sustitución."
   ]
  },
  {
   "cell_type": "markdown",
   "metadata": {},
   "source": [
    "<a id='Ejemplo6'></a>\n",
    "### B. Ejemplo 6"
   ]
  },
  {
   "cell_type": "markdown",
   "metadata": {},
   "source": [
    "**Resuelve**. $T(n)=T(\\frac{n}{3})+T(\\frac{2n}{3})+\\theta(n)$."
   ]
  },
  {
   "cell_type": "markdown",
   "metadata": {},
   "source": [
    "**Solución por el método del árbol**.\n",
    "\n",
    "<img src=\"Fig4.jpg\" alt=\"Figura 4\" width=\"700\"/>\n",
    "\n",
    "> `Figura 4: Se muestra la recursión como un árbol. `\n",
    "\n",
    "Dado que en cada nivel se realiza un trabajo de $n$ y la altura del árbol es $\\log_{\\frac{3}{2}}(n)$ (la rama más a la derecha es la más larga, que el $k$-ésimo paso $\\frac{2^k}{3^k}n=1$, así, $n=(\\frac{3}{2})^k$), entonces $T(n)=\\theta(n)\\theta(\\log_{\\frac{3}{2}}(n))=\\theta(n\\lg(n))$."
   ]
  },
  {
   "cell_type": "markdown",
   "metadata": {},
   "source": [
    "Para ver una solución en Wolfram Mathemática [aquí](https://www.wolframalpha.com/input?i=T%5Bn%5D%3D%3DT%5Bn%2F3%5D%2BT%5B2n%2F3%5D%2Bn).\n",
    "\n",
    "Regresar al **[Índice](#indice)**."
   ]
  }
 ],
 "metadata": {
  "kernelspec": {
   "display_name": "Julia 1.9.0",
   "language": "julia",
   "name": "julia-1.9"
  },
  "language_info": {
   "file_extension": ".jl",
   "mimetype": "application/julia",
   "name": "julia",
   "version": "1.9.0"
  }
 },
 "nbformat": 4,
 "nbformat_minor": 4
}
