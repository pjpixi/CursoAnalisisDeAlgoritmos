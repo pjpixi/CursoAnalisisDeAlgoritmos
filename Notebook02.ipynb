{
 "cells": [
  {
   "cell_type": "markdown",
   "metadata": {},
   "source": [
    "# Sesión 02\n",
    "> Por Christian Rubio Montiel"
   ]
  },
  {
   "cell_type": "markdown",
   "metadata": {},
   "source": [
    "En esta sesión se introducen al curso, conceptos básicos como el modelo RAM, algoritmo, tiempo de ejecución, el problema de ordenación, el algoritmo de Insertion Sort y se argumenta por qué es correcto. Se introduce el uso de Julia: [Introducción](https://www.dropbox.com/scl/fo/sa87mveqww2k02pezs81t/h?rlkey=pp9zfir0nz0x6djycmkj49zch&dl=0)."
   ]
  },
  {
   "cell_type": "markdown",
   "metadata": {},
   "source": [
    "<a id='indice'></a>\n",
    "\n",
    "### Índice\n",
    "---\n",
    "1. **[Introducción al curso](#introduccion)**\n",
    "2. **[Conceptos básicos](#conceptos)**\n",
    "3. **[El problema de ordenación](#problema)**\n",
    "4. **[Referencias](#referencias)**\n",
    "---"
   ]
  },
  {
   "cell_type": "markdown",
   "metadata": {},
   "source": [
    "<a id='introduccion'></a>\n",
    "## 1 Introducción"
   ]
  },
  {
   "cell_type": "markdown",
   "metadata": {},
   "source": [
    "La importancia de entender el análisis y el diseño de algoritmos va más allá de lo teórico. Un algoritmo puede traer consecuencias importantes a la vida cotidiana. Como motivación, dejo este listado de videos relacionados al curso:\n",
    "1. Video acerca de Autotune [liga](https://www.youtube.com/watch?v=a_H1nQkGUrE)\n",
    "2. Video acerca de Shazam [liga](https://www.youtube.com/watch?v=OE4gcdjFbmc)\n",
    "3. Blog acerca de Google [liga](https://rockcontent.com/es/blog/quien-fundo-google/) y Page Rank [liga](https://youtu.be/b3fwA3EWCd8)\n",
    "4. Documental de Netflix: [The billion dollar code](https://en.wikipedia.org/wiki/The_Billion_Dollar_Code)\n",
    "5. Documental de Netflix: [High Score El mundo de los videojuegos](https://en.wikipedia.org/wiki/High_Score_(TV_series))\n",
    "6. Video acerca de los algoritmos más importantes de la historia [liga1](https://youtu.be/kflbmvCWdwk), [liga2](https://youtu.be/2Xkv-W9tOXU)\n",
    "\n",
    "Recomiendo el [canal de YouTube del MIT](https://www.youtube.com/@mitocw) donde encontrarán maravillosas lecciones para aprender sobre algoritmos. En especial, recomiendo las lecciones dadas por el profesor [Erick Demaine](https://en.wikipedia.org/wiki/Erik_Demaine) así como su página personal [liga](http://erikdemaine.org) y parte de su material [liga](https://erikdemaine.org/classes/). También está este curso: [liga](https://ocw.mit.edu/courses/6-006-introduction-to-algorithms-spring-2020/video_galleries/lecture-videos/)  o los que pueda hallar en [Coursera](https://www.coursera.org) o [JuliaAcademy](https://juliaacademy.com).\n",
    "\n",
    "Como una breve parte de la historia a los algoritmos, les recomiendo los siguientes recursos:\n",
    "1. Documental sobre la historia de las matemáticas, en particular acerca del problema 10 de Hilbert (del min 36 al 44) [liga a YouTube](https://www.youtube.com/watch?v=ll6FZgkC3a0&t=2172s) y [liga a la BBC](https://www.bbc.co.uk/programmes/b00dxjls/episodes/guide)\n",
    "2. Una serie de videos acerca del Juego de la vida de Conway:\n",
    "   1. Video 1 [liga](https://youtu.be/OWXD_wJxCKQ)\n",
    "   2. Video 2 [liga](https://youtu.be/omMcrvVGTMs)\n",
    "   3. Video 3 [liga](https://youtu.be/qPtKv9fSHZY)\n",
    "   4. Video 4 [liga](https://youtu.be/xgZuW6Jz5dc)\n",
    "3. Un video MUY RECOMENDABLE acerca del Juego de la vida, Completitud, Consistencia y Decibilidad [liga](https://youtu.be/RRg38oNQ9vk)"
   ]
  },
  {
   "cell_type": "markdown",
   "metadata": {},
   "source": [
    "Regresar al **[Índice](#indice)**."
   ]
  },
  {
   "cell_type": "markdown",
   "metadata": {},
   "source": [
    "<a id='conceptos'></a>\n",
    "## 2 Conceptos básicos"
   ]
  },
  {
   "cell_type": "markdown",
   "metadata": {},
   "source": [
    "Primero, nos remontamos al concepto de **máquina de Turing** que se puede representar con diagramas sutilmente distintos, pero que básicamente se compone de una cinta de 0s y 1s tan larga como sea necesaria, un cabezal que puede desplazarse a lo largo de la cinta, que puede leer la cinta y cambiar el valor leído o bien dejarlo como está. Luego contamos con una serie de instrucciones que podemos pensar como tarjetas que nos dicen lo que hará el cabezal y cual es la instrucción (tarjeta) a seguir.\n",
    "Para mayor claridad del concepto, puede ver los siguientes videos:\n",
    "- Video sobre máquinas de Turing [liga](https://www.youtube.com/watch?v=iaXLDz_UeYY)\n",
    "- Otro video sobre una máquina de Turing [liga](https://youtu.be/S1PVPluvV9I)\n",
    "\n",
    "Una computadora es un sistema físico sofisticado construído basado en el concepto de una máquina de Turing.\n",
    "\n",
    "Un **algoritmo** es cualquier procedimiento computacional bien definido que toma un conjunto de valores como **entrada** y produce un conjunto de valores como **salida**. En nuestra máquina de Turing, un algoritmo será un conjunto de instrucciones que podemos pensar como tarjetas. En la sección 1.2 de [$[2]$](#referencias) describen a una máquina de Turing y sus ejemplos 1.1 y 1.2 (pg. 6) describen un algoritmo en una máquina de Turing de manera formal.\n",
    "\n",
    "Entonces, un algoritmo resulta ser una herramienta para resolver **problemas computacionales** bien especificados. Llevar un algoritmo a que resuelva un problema en una computadora es lo que denominamos **implementar** para obtener un **programa**. Así que, un algoritmo es básicamente el análogo matemático de un programa de computadora, dicho de otra forma, lo que puede resolver un programa de computadora se puede traducir a un algoritmo y viceversa.\n",
    "\n",
    "El diseño de un algoritmo es a través de matemáticas y luego se implementa en un programa mediante **código computacional**. Un curso de análisis y diseño de algoritmos se trata sobre la parte matemática.\n",
    "\n",
    "| Computación                | Matemáticas                 |\n",
    "|----------------------------|-----------------------------|\n",
    "| Programa                   | Algoritmo                   | \n",
    "| Lenguaje de programación   | Seudocódigo                 | \n",
    "| Computadora                | Modelo de computación       | \n",
    "| Random-access memory (RAM) | Random-access machine (RAM) | \n",
    "\n",
    "> `Tabla 1: Analogías entre computación y matemáticas, ver [3].`\n",
    "\n",
    "**Seudocódigo** es español (o inglés) bien estructurado dirigido a humanos. Afortunadamente, no es necesario diseñar algoritmos desde una máquina de Turing, sino a través de seudocódigo.\n",
    "\n",
    "**Analizar** un algoritmo significa predecir los recursos que necesita el algoritmo. En este contexto, recurso quiere decir memoria o ancho de banda de comunicación, pero la mayoría de las veces es el **tiempo computacional** lo que queremos medir. Generalmente queremos identificar el algoritmo más eficiente pero para esto, debemos de contar con un modelo de computación.\n",
    "\n",
    "El modelo de computación **random-access machine (RAM)** asume un proceso donde las instrucciones son ejecutadas una después de otra. Estrictamente hablando, se deberían de definir las instrucciones y sus costos, sin embargo, hacer esto detalladamente se vuelve tedioso y realmente da poco información útil para el diseño y análisis del algoritmo, esto nos lleva al uso de la **notación asintótica**.\n",
    "\n",
    "Las **instrucciones** en el modelo RAM son de varios tipos: aritméticas (suma, resta, multiplicación, división, residuo, piso, techo, etc.), de datos (enteros o puntos flotantes), mover datos (cargar, guardar, copiar), de control (condicionales, llamar subrutinas, return). Cada instrucción toma una cantidad **constante de tiempo**. Se debe de tener cuidado de no abusar del modelo RAM, por ejemplo, la función ordenar no se puede considerar una instrucción, ni tampoco la entrada de un entero arbitrariamente grande.\n",
    "\n",
    "Las computadoras contienen otras instrucciones que representan el *área gris* del modelo RAM, por ejemplo, la exponenciación: en general no se considera una instrucción porque ejecutar $x^y$ dependerá de las entradas $x$ y $y$. Incluso la instrucción shift-left en muchas computadoras es equivalente a $2^k$ donde $k$ es el número de posiciones a mover a la izquierda, entonces $k$ debe de ser lo suficientemente pequeño para que la instrucción en la computadora real sea considerada como instrucción en el modelo RAM.\n",
    "\n",
    "El modelo RAM no atiende la jerarquía de memoria, ni la memoria virtual y claro está, el lenguaje de implementación. Existen otros modelos que si consideran la jerarquía de memoria pero el análisis de los algoritmos en esos modelos son bastante más complicados. Sin embargo, el modelo RAM tiene la virtud de predecir excelentemente el rendimiento de las máquinas reales.\n",
    "\n",
    "El **tiempo computacional** de un algoritmo dependerá de la entrada dada, porque depende del número de instrucciones (pasos u operaciones primitivas) que realice. Entonces es conveniente definir **paso** independientemente de la máquina tanto como sea posible. Así, una función constante de tiempo se requerirá para ejecutar una línea de seudocódigo (pensando en que sólo contiene operaciones primitivas, ya que en una línea se puede mandar llamar a una subrutina que en si misma podría tener un tiempo de ejecución mayor a constante).\n",
    "\n",
    "El **tiempo computacional** de un algoritmo se toma sobre la entrada que más tiempo computacional requiere, llamada **el peor caso**. En ocasiones estaremos más interesados en saber el **tiempo computacional esperado** que es al considerar una entrada aleatoria, así que para este tipo de análisis se requieren conocimientos de probabilidad."
   ]
  },
  {
   "cell_type": "markdown",
   "metadata": {},
   "source": [
    "Regresar al **[Índice](#indice)**."
   ]
  },
  {
   "cell_type": "markdown",
   "metadata": {},
   "source": [
    "<a id='problema'></a>\n",
    "## 3 El problema de ordenación"
   ]
  },
  {
   "cell_type": "markdown",
   "metadata": {},
   "source": [
    "El **problema de ordenación** será nuestra musa durante la primer parte del curso, tal problema es el siguiente:\n",
    "\n",
    "La entrada de nuestro problema es una secuencia $A$ de $n$ números $[ a_1, a_2, \\dots, a_n]$. La solución de nuestro problema, es decir, la salida, es una permutación de la secuencia original $[ a_{i_1}, a_{i_2}, \\dots, a_{i_n}]$ tal que $a_{i_1}\\leq a_{i_2} \\leq \\dots \\leq a_{i_n}$.\n",
    "\n",
    "Una **instancia del problema** es una entrada particular. Un algoritmo se dice que es **correcto** si para cada instancia de entrada da la salida correcta. Y decimos que un algoritmo correcto **resuelve** el problema computacional dado.\n",
    "\n",
    "El primer algoritmo que veremos que resuelve el problema de ordenación sigue el principio de ordenar cartas en la mano en un juego de cartas: se toma una carta y se inserta en el orden adecuado, siguiendo este procedimiento de la primer carta a la última."
   ]
  },
  {
   "cell_type": "markdown",
   "metadata": {},
   "source": [
    "- *Aquí, el profesor realiza físicamente el algoritmo con un mazo de cartas y mostrar el siguiente seudocódigo.*\n",
    "\n",
    "El siguiente seudocódigo recibe como entrada un arreglo $A$ de $n$ números.\n",
    "\n",
    "*INSERTION-SORT($A$)*\n",
    "1. **for** $j=2$ **to** $n$ **do**\n",
    "2. $\\hspace{0.3cm}key=a_j$\n",
    "3. $\\hspace{0.3cm}i=j-1$\n",
    "4. $\\hspace{0.3cm}$**while** $i>0$ y $a_i>key$\n",
    "5. $\\hspace{1cm}a_{i+1}=a_i$\n",
    "6. $\\hspace{1cm}i=i-1$\n",
    "7. $\\hspace{0.3cm}a_{i+1}=key$"
   ]
  },
  {
   "cell_type": "markdown",
   "metadata": {},
   "source": [
    "- Si el alumno tiene alguna duda acerca de las instrucciones, puede revisar para mayor claridad la tabla 1.1 (pg. 8) de [$[2]$](#referencias).\n",
    "- Aquí, el profesor explica el seudocódigo línea a línea. Probablemente, un ejemplo del funcionamiento del algoritmo es útil, como el ejemplo de la figura 2.\n",
    "\n",
    "<img src=\"Fig021.png\" alt=\"Figura 1\" width=\"500\"/>\n",
    "\n",
    "> `Figura 1: Se muestra como funciona INSERTION-SORT para la entrada A=[5, 2, 4, 6, 1, 3], ver [1]. `\n",
    "\n",
    "Notemos que en la figura 1, el cuadro negro contiene la variable \"key\", mientras que los cuadros grises es el lado ordenado. También es relevante observar que este algoritmo ordena la entrada de números sobre el mismo arreglo, a lo que decimos ordenar **en su lugar**."
   ]
  },
  {
   "cell_type": "markdown",
   "metadata": {},
   "source": [
    "Dado el modelo RAM, se asume que las instrucciones siguen un orden lineal, es por ello que verificar que un algoritmo es correcto basta con aplicar inducción matemática teniendo en cuenta que el proceso debe de ser finito, en este caso es sobre el número de elementos en $A$. El caso base corresponde a la **iniciación** del algoritmo, en este ejemplo, un número está ordenado. La hipótesis junto con la inducción se le denomina **mantención o loop invariante**, en este algoritmo es considerar los cuadros grises (hipótesis) e insertar key en el lugar correspondiente (inducción). Garantizar que el algoritmo **termina** o dicho de otro modo, que no se queda en bucle implica que el algoritmo es finito y por lo tanto es correcto.\n",
    "\n",
    "Si el alumno requiere prácticar ejercicios sobre inducción matemáticas recomiendo el libro de Sominski de Inducción Matemática."
   ]
  },
  {
   "cell_type": "markdown",
   "metadata": {},
   "source": [
    "Regresar al **[Índice](#indice)**."
   ]
  },
  {
   "cell_type": "markdown",
   "metadata": {},
   "source": [
    "<a id='referencias'></a>\n",
    "## 4. Referencias\n",
    "\n",
    "$[1]$ Cormen, T. H., Leiserson, C. E., Rivest, R. L. y Stein C. (2022). **Introduction to algorithms**. MIT Press, 4E.\n",
    "\n",
    "$[2]$ Comellas, F., Fábrega, J., Sánchez, A. y Serra O. (2002). Matemáticas discretas. Ediciones UPC.\n",
    "\n",
    "$[3]$ Demaine, E. (2011, acceso: Julio de 2023). **Lecture 2: Models of Computation**. Canal de YouTube: MIT OpenCourseWare. [liga](https://youtu.be/Zc54gFhdpLA)."
   ]
  }
 ],
 "metadata": {
  "kernelspec": {
   "display_name": "Julia 1.9.0",
   "language": "julia",
   "name": "julia-1.9"
  },
  "language_info": {
   "file_extension": ".jl",
   "mimetype": "application/julia",
   "name": "julia",
   "version": "1.9.0"
  }
 },
 "nbformat": 4,
 "nbformat_minor": 4
}
