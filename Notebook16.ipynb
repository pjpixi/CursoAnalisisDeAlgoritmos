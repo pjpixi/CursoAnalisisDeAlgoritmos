{
 "cells": [
  {
   "cell_type": "markdown",
   "metadata": {},
   "source": [
    "# Sesión 16\n",
    "> Por Christian Rubio Montiel"
   ]
  },
  {
   "cell_type": "markdown",
   "metadata": {},
   "source": [
    "Aplicación del Examen I."
   ]
  },
  {
   "cell_type": "markdown",
   "metadata": {},
   "source": [
    "<a id='indice'></a>\n",
    "\n",
    "### Índice\n",
    "---\n",
    "1. **[Ejemplo de examen I de cursos previos](#examenes)**\n",
    "---"
   ]
  },
  {
   "cell_type": "markdown",
   "metadata": {},
   "source": [
    "<a id='examenes'></a>\n",
    "## 1 Ejemplo de examen I de cursos previos"
   ]
  },
  {
   "cell_type": "markdown",
   "metadata": {},
   "source": [
    "Examen I de Análisis de Algoritmos del 21 de septiembre de 2022.\n",
    "\n",
    "Instrucciones: Conteste y **justifique** cada problema. Cada problema vale 2.5 puntos.\n",
    "\n",
    "1. Resuelva la siguiente recursión: $T(n)=3n^{3/4}T(n^{1/4})+n\\cdot\\lg n\\cdot\\lg\\lg n$.\n",
    "\n",
    "Hint: use cambio de variable dos veces (en el primero divida sobre\n",
    "$n$ y en el segundo considere a $n$ como potencia de $2$), luego\n",
    "aplique el método maestro.\n",
    "\n",
    "2. Resuelva la siguiente recursión vía sustitución (considere a $d$ como el último dígito de su número de cuenta): $T(n)=T(n-(d+1))+\\lg n$.\n",
    "\n",
    "3. Halle un algoritmo iterativo (seudocódigo) que encuentre un número dado $x$ en un arreglo ordenado $A[1..n]$, cuyo tiempo de ejecución sea $\\theta(\\lg n)$ (tiene que calcular el tiempo de ejecución línea a línea y verificar que el algoritmo es correcto).\n",
    "\n",
    "4. Dada una lista de $n$ enteros $\\{x_{1},x_{2},\\ldots,x_{n}\\}$ y un número $y$, encuentre un algoritmo (seudocódigo) que en $O(n\\lg (n))$ encuentre la pareja $(i,j)$ tal que $x_{i}+x_{j}$ es a lo sumo $y$, además es máxima (tiene que calcular el tiempo de ejecución línea a línea y verificar que el algoritmo es correcto). "
   ]
  },
  {
   "cell_type": "markdown",
   "metadata": {},
   "source": [
    "Regresar al **[Índice](#indice)**."
   ]
  }
 ],
 "metadata": {
  "kernelspec": {
   "display_name": "Julia 1.9.0",
   "language": "julia",
   "name": "julia-1.9"
  },
  "language_info": {
   "file_extension": ".jl",
   "mimetype": "application/julia",
   "name": "julia",
   "version": "1.9.0"
  }
 },
 "nbformat": 4,
 "nbformat_minor": 4
}
