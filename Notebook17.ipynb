{
 "cells": [
  {
   "cell_type": "markdown",
   "metadata": {},
   "source": [
    "# Sesión 17\n",
    "> Por Christian Rubio Montiel (CRM), implementación por Josue Río Campos Becerra y CRM.\n",
    "\n",
    "> Algunoas observaciones tomadas del profesor Jonathan Córdoba."
   ]
  },
  {
   "cell_type": "markdown",
   "metadata": {},
   "source": [
    "En esta sesión se hace un repaso sobre representaciones de una gráfica, pilas, colas, listas ligadas, y estructuras de datos para conjuntos disjuntos. Se aborda el uso de los paquetes Graphs.jl y DataStructures.jl de Julia."
   ]
  },
  {
   "cell_type": "markdown",
   "metadata": {},
   "source": [
    "<a id='indice'></a>\n",
    "### Índice\n",
    "---\n",
    "1. **[Matriz de adyacencia](#MatrizAdyacencia)**\n",
    "2. **[Lista](#lista)**\n",
    "3. **[Colas](#colas)**\n",
    "4. **[Pilas](#pilas)**\n",
    "5. **[Listas Ligadas](#listasligadas)**\n",
    "6. **[Conjuntos disjuntos](#cdisjuntos)**\n",
    "7. **[Referencias](#referencias)**\n",
    "---"
   ]
  },
  {
   "cell_type": "markdown",
   "metadata": {},
   "source": [
    "Durante el 3er semestre de la carrera de MAC se lleva la asignatura de [Estructuras de Datos](https://mac.acatlan.unam.mx/media/temarios/1644/1311.pdf), por lo que el repaso será breve y puntual en las estructuras que se utilizán en el resto de este curso."
   ]
  },
  {
   "cell_type": "markdown",
   "metadata": {},
   "source": [
    "Una *estructura de datos* es un conjunto de datos, relacionados junto con un conjunto de  operaciones que se les aplica a la estructura misma y a los datos con la finalidad de organizar, administrar y almacenar.\n",
    "\n",
    "Los algoritmos tienen tiempos de ejecución que depende de la estructura de datos empleada, buscando siempre la eficiencia."
   ]
  },
  {
   "cell_type": "markdown",
   "metadata": {},
   "source": [
    "Julia no tiene por default otras estructuras de datos además de las ya mencionadas en el apartado de arreglos. Recurrimos a paquetes que nos ayuden con estas estructuras de datos: [Graphs.jl](https://juliagraphs.org/Graphs.jl/stable/) y [DataStructures.jl](https://juliacollections.github.io/DataStructures.jl/stable/)."
   ]
  },
  {
   "cell_type": "markdown",
   "metadata": {},
   "source": [
    "<a id='MatrizAdyacencia'></a>\n",
    "## 1. Matriz de adyacencia"
   ]
  },
  {
   "cell_type": "markdown",
   "metadata": {},
   "source": [
    "La representación de una gráfica $G$, de orden $n$, mediante su matriz de *adyacencia* $A$ será conveniente si es *densa*, esto es, que $m=|E(G)|=\\Theta(n^2)$; o bien cuando el número de aristas sea cercano a $O(n^2)$.\n",
    "\n",
    "En ocasiones, cuando no tenemos información sobre la gráfica, posiblemente sea conveniente el uso de esta representación, pero definitivamente dependerá del problema en cuestión.\n",
    "\n",
    "Notemos que leer la matriz $A$ toma un tiempo de $\\Theta(n^2)$, mientras que leer la matriz de *incidencia* toma un tiempo de $\\Theta(nm)$. La representación de una gráfica mediante su matriz de incidencia no es recomendada, salvo en ciertas excepciones. Lo mismo aplica en el caso de gráficas que en el caso de di-, multi-, seudo- o hiper- gráfica."
   ]
  },
  {
   "cell_type": "markdown",
   "metadata": {},
   "source": [
    "<img src=\"Fig171.png\" alt=\"Figura 1\" width=\"100\"/>\n",
    "\n",
    "> `Figura 1: Diagrama de una gráfica G, cuyo conjunto de vértices es {1,2,3,4,5} y conjunto de aristas es {12,15,23,24,25,34,45}.`"
   ]
  },
  {
   "cell_type": "markdown",
   "metadata": {},
   "source": [
    "Matriz de adyacencia $A$ de la gráfica $G$ de la figura 1, usando el orden canónico de los vértices."
   ]
  },
  {
   "cell_type": "code",
   "execution_count": 1,
   "metadata": {},
   "outputs": [
    {
     "data": {
      "text/plain": [
       "5×5 Matrix{Int64}:\n",
       " 0  1  0  0  1\n",
       " 1  0  1  1  1\n",
       " 0  1  0  1  0\n",
       " 0  1  1  0  1\n",
       " 1  1  0  1  0"
      ]
     },
     "execution_count": 1,
     "metadata": {},
     "output_type": "execute_result"
    }
   ],
   "source": [
    "A=[0 1 0 0 1;1 0 1 1 1;0 1 0 1 0;0 1 1 0 1;1 1 0 1 0]"
   ]
  },
  {
   "cell_type": "markdown",
   "metadata": {},
   "source": [
    "Usando el paquete Graphs que previamente fue instalado, podemos guardar la gráfica en una variable."
   ]
  },
  {
   "cell_type": "code",
   "execution_count": 2,
   "metadata": {},
   "outputs": [
    {
     "data": {
      "text/plain": [
       "{5, 7} undirected simple Int64 graph"
      ]
     },
     "execution_count": 2,
     "metadata": {},
     "output_type": "execute_result"
    }
   ],
   "source": [
    "using Graphs\n",
    "g=SimpleGraph(A)"
   ]
  },
  {
   "cell_type": "markdown",
   "metadata": {},
   "source": [
    "Ahora, podemos obtener la matriz de adyacencia de la gráfica guardada en nuestra variable."
   ]
  },
  {
   "cell_type": "code",
   "execution_count": 3,
   "metadata": {},
   "outputs": [
    {
     "data": {
      "text/plain": [
       "5×5 SparseArrays.SparseMatrixCSC{Int64, Int64} with 14 stored entries:\n",
       " ⋅  1  ⋅  ⋅  1\n",
       " 1  ⋅  1  1  1\n",
       " ⋅  1  ⋅  1  ⋅\n",
       " ⋅  1  1  ⋅  1\n",
       " 1  1  ⋅  1  ⋅"
      ]
     },
     "execution_count": 3,
     "metadata": {},
     "output_type": "execute_result"
    }
   ],
   "source": [
    "adjacency_matrix(g)"
   ]
  },
  {
   "cell_type": "markdown",
   "metadata": {},
   "source": [
    "Regresar al **[Índice](#indice)**."
   ]
  },
  {
   "cell_type": "markdown",
   "metadata": {},
   "source": [
    "<a id='lista'></a>\n",
    "## 2. Lista"
   ]
  },
  {
   "cell_type": "markdown",
   "metadata": {},
   "source": [
    "La representación de una gráfica $G$, de orden $n$, mediante una *lista* $L$ será conveniente si es *rala*, esto es, que $m=\\Theta(n)$; o bien cuando el número de aristas sea cercano a $\\Omega(n)$."
   ]
  },
  {
   "cell_type": "code",
   "execution_count": 4,
   "metadata": {},
   "outputs": [
    {
     "name": "stdout",
     "output_type": "stream",
     "text": [
      "1: 2 5 \n",
      "2: 1 3 4 5 \n",
      "3: 2 4 \n",
      "4: 2 3 5 \n",
      "5: 1 2 4 \n"
     ]
    }
   ],
   "source": [
    "for u in vertices(g) print(\"$u: \")\n",
    "for v in neighbors(g, u) print(\"$v \")\n",
    "end\n",
    "    println()\n",
    "end"
   ]
  },
  {
   "cell_type": "markdown",
   "metadata": {},
   "source": [
    "Notemos que leer una lista $L$ toma un tiempo de $\\Theta(n+m)$, que será cuadrado si la gráfica es densa, y lineal si es rala; lo cual se logra porque la lista compacta la información con respecto a una matriz de adyacencia."
   ]
  },
  {
   "cell_type": "markdown",
   "metadata": {},
   "source": [
    "Para obtener una lista de una gráfica guardada en una variable $g$ es como sigue."
   ]
  },
  {
   "cell_type": "code",
   "execution_count": 5,
   "metadata": {},
   "outputs": [
    {
     "data": {
      "text/plain": [
       "5-element Vector{Vector{Int64}}:\n",
       " [2, 5]\n",
       " [1, 3, 4, 5]\n",
       " [2, 4]\n",
       " [2, 3, 5]\n",
       " [1, 2, 4]"
      ]
     },
     "execution_count": 5,
     "metadata": {},
     "output_type": "execute_result"
    }
   ],
   "source": [
    "g.fadjlist #Hay un error en la implementación, por lo que no funciona fadjlist(g)"
   ]
  },
  {
   "cell_type": "markdown",
   "metadata": {},
   "source": [
    "Regresar al **[Índice](#indice)**."
   ]
  },
  {
   "cell_type": "markdown",
   "metadata": {},
   "source": [
    "<a id='colas'></a>\n",
    "## 3. Colas"
   ]
  },
  {
   "cell_type": "markdown",
   "metadata": {},
   "source": [
    "Una cola (queue) es una estructura de datos lineal (mod $n$), con la característica llamada FIFO (Firts-in, Firts-out) que permite la inserción (enqueue) de un elemento en el extremo final (tail[Q]) y la eliminación (dequeue) de un elemento en el otro extremo frente (head[Q])."
   ]
  },
  {
   "cell_type": "markdown",
   "metadata": {},
   "source": [
    "Julia nos permite trabajar con colas a través del uso del paquete *DataStructures* que debe ser instalado previamente.\n",
    "\n",
    "**NOTA**: El contenedor Queue es de tipo *Deque* que hace referencia comunmente a una estructura de datos de tipo cola donde es posible agregar o remover elementos de ambos extremos."
   ]
  },
  {
   "cell_type": "markdown",
   "metadata": {},
   "source": [
    "*ENQUEUE($Q$,$x$)*\n",
    "1. $Q[tail[Q]]=x$\n",
    "2. **if** $tail[Q]=length[Q]$\n",
    "3. $\\hspace{0.3cm}$**then** $tail[Q]=1$\n",
    "4. $\\hspace{0.3cm}$**else** $tail[Q]=tail[Q]+1$"
   ]
  },
  {
   "cell_type": "code",
   "execution_count": 6,
   "metadata": {},
   "outputs": [],
   "source": [
    "using DataStructures"
   ]
  },
  {
   "cell_type": "code",
   "execution_count": 7,
   "metadata": {},
   "outputs": [
    {
     "data": {
      "text/plain": [
       "Queue{Int64}(Deque [Int64[]])"
      ]
     },
     "execution_count": 7,
     "metadata": {},
     "output_type": "execute_result"
    }
   ],
   "source": [
    "c = Queue{Int64}()"
   ]
  },
  {
   "cell_type": "code",
   "execution_count": 8,
   "metadata": {},
   "outputs": [],
   "source": [
    "for i in 1:10\n",
    "    enqueue!(c, i)\n",
    "end"
   ]
  },
  {
   "cell_type": "code",
   "execution_count": 9,
   "metadata": {},
   "outputs": [
    {
     "name": "stdout",
     "output_type": "stream",
     "text": [
      "1\n",
      "2\n",
      "3\n",
      "4\n",
      "5\n",
      "6\n",
      "7\n",
      "8\n",
      "9\n",
      "10\n"
     ]
    }
   ],
   "source": [
    "for item in c\n",
    "    println(item)\n",
    "end"
   ]
  },
  {
   "cell_type": "code",
   "execution_count": 10,
   "metadata": {},
   "outputs": [
    {
     "data": {
      "text/plain": [
       "(1, 10, 10)"
      ]
     },
     "execution_count": 10,
     "metadata": {},
     "output_type": "execute_result"
    }
   ],
   "source": [
    "first(c),last(c),length(c)"
   ]
  },
  {
   "cell_type": "markdown",
   "metadata": {},
   "source": [
    "*DEQUEUE($Q$)*\n",
    "1. $x=Q[head[Q]]$\n",
    "2. **if** $head[Q]=length[Q]$\n",
    "3. $\\hspace{0.3cm}$**then** $head[Q]=1$\n",
    "4. $\\hspace{0.3cm}$**else** $head[Q]=head[Q]+1$\n",
    "5. **return** $x$"
   ]
  },
  {
   "cell_type": "code",
   "execution_count": 11,
   "metadata": {},
   "outputs": [],
   "source": [
    "for i in 1:5\n",
    "    dequeue!(c)\n",
    "end"
   ]
  },
  {
   "cell_type": "code",
   "execution_count": 12,
   "metadata": {},
   "outputs": [
    {
     "name": "stdout",
     "output_type": "stream",
     "text": [
      "6\n",
      "7\n",
      "8\n",
      "9\n",
      "10\n"
     ]
    }
   ],
   "source": [
    "for item in c\n",
    "    println(item)\n",
    "end"
   ]
  },
  {
   "cell_type": "markdown",
   "metadata": {},
   "source": [
    "Tenemos otras funciones deltro del paquete DataStructures."
   ]
  },
  {
   "cell_type": "code",
   "execution_count": 13,
   "metadata": {},
   "outputs": [
    {
     "data": {
      "text/plain": [
       "Queue{Int64}(Deque [Int64[]])"
      ]
     },
     "execution_count": 13,
     "metadata": {},
     "output_type": "execute_result"
    }
   ],
   "source": [
    "empty!(c) # Limpiar cola"
   ]
  },
  {
   "cell_type": "code",
   "execution_count": 14,
   "metadata": {},
   "outputs": [
    {
     "data": {
      "text/plain": [
       "true"
      ]
     },
     "execution_count": 14,
     "metadata": {},
     "output_type": "execute_result"
    }
   ],
   "source": [
    "isempty(c) # Verificar si la cola está vacía"
   ]
  },
  {
   "cell_type": "code",
   "execution_count": 15,
   "metadata": {},
   "outputs": [
    {
     "data": {
      "text/plain": [
       "Queue{Float64}(Deque [Float64[]])"
      ]
     },
     "execution_count": 15,
     "metadata": {},
     "output_type": "execute_result"
    }
   ],
   "source": [
    "d = Queue{Float64}() # Podemos crear una cola de datos de tipo X, en este ejemplo X=Float64"
   ]
  },
  {
   "cell_type": "code",
   "execution_count": 16,
   "metadata": {},
   "outputs": [
    {
     "data": {
      "text/plain": [
       "Float64"
      ]
     },
     "execution_count": 16,
     "metadata": {},
     "output_type": "execute_result"
    }
   ],
   "source": [
    "eltype(d)"
   ]
  },
  {
   "cell_type": "markdown",
   "metadata": {},
   "source": [
    "Regresar al **[Índice](#indice)**."
   ]
  },
  {
   "cell_type": "markdown",
   "metadata": {},
   "source": [
    "<a id='pilas'></a>\n",
    "## 4. Pilas"
   ]
  },
  {
   "cell_type": "markdown",
   "metadata": {},
   "source": [
    "Una pila (stack) es una estructura de datos lineal, con la característica llamada  LIFO (Last-In, First-Out) por lo que hay que considerar el desbordamiento (stack-overflow) al insertar (push) datos, en la última posición (top[Q]), y vaciar la pila (stack-underflow) al borrar (pop) datos un dato."
   ]
  },
  {
   "cell_type": "markdown",
   "metadata": {},
   "source": [
    "Julia nos permite trabajar con pilas a través del uso del paquete *DataStructures* que debe ser instalado previamente.\n",
    "\n",
    "**NOTA**: El contenedor Stack es de tipo *Deque* que hace referencia comunmente a una estructura de datos de tipo cola donde es posible agregar o remover elementos de ambos extremos."
   ]
  },
  {
   "cell_type": "markdown",
   "metadata": {},
   "source": [
    "*STACK-EMPTY($S$)*\n",
    "1. **if** $top[S]=0$\n",
    "2. $\\hspace{0.3cm}$**then return** TRUE\n",
    "3. $\\hspace{0.3cm}$**else return** FALSE"
   ]
  },
  {
   "cell_type": "markdown",
   "metadata": {},
   "source": [
    "*PUSH($S$,$x$)*\n",
    "1. $top[S]=top[S]+1$\n",
    "2. $S[top[S]]=x$"
   ]
  },
  {
   "cell_type": "markdown",
   "metadata": {},
   "source": [
    "*POP($S$)*\n",
    "1. **if** STACK-EMPTY($S$)\n",
    "2. $\\hspace{0.3cm}$**then** error \"underflow\"\n",
    "3. $\\hspace{0.3cm}$**else** $top[S]=tail[S]-1$\n",
    "4. $\\hspace{1cm}$**return** $S[tail[S]+1]$"
   ]
  },
  {
   "cell_type": "code",
   "execution_count": 17,
   "metadata": {},
   "outputs": [
    {
     "data": {
      "text/plain": [
       "Stack{Int64}(Deque [Int64[]])"
      ]
     },
     "execution_count": 17,
     "metadata": {},
     "output_type": "execute_result"
    }
   ],
   "source": [
    "using DataStructures\n",
    "\n",
    "s = Stack{Int64}()"
   ]
  },
  {
   "cell_type": "code",
   "execution_count": 18,
   "metadata": {},
   "outputs": [],
   "source": [
    "for i in 1:10\n",
    "    push!(s, i)\n",
    "end"
   ]
  },
  {
   "cell_type": "code",
   "execution_count": 19,
   "metadata": {},
   "outputs": [
    {
     "name": "stdout",
     "output_type": "stream",
     "text": [
      "10\n",
      "9\n",
      "8\n",
      "7\n",
      "6\n",
      "5\n",
      "4\n",
      "3\n",
      "2\n",
      "1\n"
     ]
    }
   ],
   "source": [
    "for item in s\n",
    "    println(item)\n",
    "end"
   ]
  },
  {
   "cell_type": "code",
   "execution_count": 20,
   "metadata": {},
   "outputs": [
    {
     "data": {
      "text/plain": [
       "(10, 1, 10)"
      ]
     },
     "execution_count": 20,
     "metadata": {},
     "output_type": "execute_result"
    }
   ],
   "source": [
    "first(s),last(s),length(s)"
   ]
  },
  {
   "cell_type": "code",
   "execution_count": 21,
   "metadata": {},
   "outputs": [],
   "source": [
    "for i in 1:5\n",
    "    pop!(s)\n",
    "end"
   ]
  },
  {
   "cell_type": "code",
   "execution_count": 22,
   "metadata": {},
   "outputs": [
    {
     "name": "stdout",
     "output_type": "stream",
     "text": [
      "5\n",
      "4\n",
      "3\n",
      "2\n",
      "1\n"
     ]
    }
   ],
   "source": [
    "for item in s\n",
    "    println(item)\n",
    "end"
   ]
  },
  {
   "cell_type": "code",
   "execution_count": 23,
   "metadata": {},
   "outputs": [
    {
     "data": {
      "text/plain": [
       "Stack{Int64}(Deque [Int64[]])"
      ]
     },
     "execution_count": 23,
     "metadata": {},
     "output_type": "execute_result"
    }
   ],
   "source": [
    "empty!(s)"
   ]
  },
  {
   "cell_type": "code",
   "execution_count": 24,
   "metadata": {},
   "outputs": [
    {
     "data": {
      "text/plain": [
       "true"
      ]
     },
     "execution_count": 24,
     "metadata": {},
     "output_type": "execute_result"
    }
   ],
   "source": [
    "isempty(s)"
   ]
  },
  {
   "cell_type": "code",
   "execution_count": 25,
   "metadata": {},
   "outputs": [
    {
     "data": {
      "text/plain": [
       "Stack{Float32}(Deque [Float32[]])"
      ]
     },
     "execution_count": 25,
     "metadata": {},
     "output_type": "execute_result"
    }
   ],
   "source": [
    "p = Stack{Float32}()"
   ]
  },
  {
   "cell_type": "code",
   "execution_count": 26,
   "metadata": {},
   "outputs": [
    {
     "data": {
      "text/plain": [
       "Float32"
      ]
     },
     "execution_count": 26,
     "metadata": {},
     "output_type": "execute_result"
    }
   ],
   "source": [
    "eltype(p)"
   ]
  },
  {
   "cell_type": "markdown",
   "metadata": {},
   "source": [
    "Regresar al **[Índice](#indice)**."
   ]
  },
  {
   "cell_type": "markdown",
   "metadata": {},
   "source": [
    "<a id='listasligadas'></a>\n",
    "## 5. Listas Ligadas"
   ]
  },
  {
   "cell_type": "markdown",
   "metadata": {},
   "source": [
    "Una lista ligada es una estructura de datos lineal, donde el orden en una lista enlazada está determinado por punteros en cada objeto. Así, las listas ligadas proporcionan una representación simple y flexible para conjuntos dinámicos.\n",
    "\n",
    "Los punteros (next y prev) son atributos de los datos (key). Una lista puede ser simple, apuntando en una sola dirección; doblemente ligada, apuntando en ambas direcciones; o circular, donde head (derecha) y tail (izquierda) se apuntan entre si."
   ]
  },
  {
   "cell_type": "code",
   "execution_count": 27,
   "metadata": {},
   "outputs": [
    {
     "data": {
      "text/plain": [
       "nil()"
      ]
     },
     "execution_count": 27,
     "metadata": {},
     "output_type": "execute_result"
    }
   ],
   "source": [
    "l1=nil() #lista vacía"
   ]
  },
  {
   "cell_type": "code",
   "execution_count": 28,
   "metadata": {},
   "outputs": [
    {
     "data": {
      "text/plain": [
       "list(2, 3, 4, 5)"
      ]
     },
     "execution_count": 28,
     "metadata": {},
     "output_type": "execute_result"
    }
   ],
   "source": [
    "l2=list(2,3,4,5)"
   ]
  },
  {
   "cell_type": "code",
   "execution_count": 29,
   "metadata": {},
   "outputs": [
    {
     "data": {
      "text/plain": [
       "(2, list(3, 4, 5))"
      ]
     },
     "execution_count": 29,
     "metadata": {},
     "output_type": "execute_result"
    }
   ],
   "source": [
    "head(l2), tail(l2)"
   ]
  },
  {
   "cell_type": "markdown",
   "metadata": {},
   "source": [
    "Podemos buscar un elemeto con *key* k en una lista, en un tiempo lineal."
   ]
  },
  {
   "cell_type": "markdown",
   "metadata": {},
   "source": [
    "*LIST-SEARCH($L$,$k$)*\n",
    "1. $x=head[L]$\n",
    "2. **while** $x\\not =$ NIL **and** $key[x]\\not = k$\n",
    "3. $\\hspace{0.3cm} x=next[x]$\n",
    "4. **return** $x$"
   ]
  },
  {
   "cell_type": "markdown",
   "metadata": {},
   "source": [
    "Podemos insertar un elemento al inicio de la lista en un tiempo constante."
   ]
  },
  {
   "cell_type": "markdown",
   "metadata": {},
   "source": [
    "*LIST-PREPEND($L$,$x$)*\n",
    "1. $x.next=L.head$\n",
    "2. $x.prev=$ NIL\n",
    "3. **if** $L.head \\not =$ NIL\n",
    "4. $\\hspace{0.3cm}$ **then** $L.head.prev=x$\n",
    "5. $L.head=x$"
   ]
  },
  {
   "cell_type": "markdown",
   "metadata": {},
   "source": [
    "Podemos insertar un elemento después de un elemento $y$ de la lista en un tiempo constante."
   ]
  },
  {
   "cell_type": "markdown",
   "metadata": {},
   "source": [
    "*LIST-INSERT($x$,$y$)*\n",
    "1. $x.next=y.next$\n",
    "2. $x.prev=y$\n",
    "3. **if** $y.next \\not =$ NIL\n",
    "4. $\\hspace{0.3cm}$ **then** $y.next.prev=x$\n",
    "5. $y.next=x$"
   ]
  },
  {
   "cell_type": "markdown",
   "metadata": {},
   "source": [
    "Podemos borrar un elemento de la lista en un tiempo constante, siempre que tenemos *key*, si no primero hay que buscarlo."
   ]
  },
  {
   "cell_type": "markdown",
   "metadata": {},
   "source": [
    "*LIST-DELETE($L$,$x$)*\n",
    "1. **if** $x.prev\\not=$ NIL\n",
    "2. $\\hspace{0.3cm}$ **then** $x.prev.next=x.next$\n",
    "3. $\\hspace{0.3cm}$ **else** $L.head = x.next$\n",
    "4. **if** $x.next\\not=$ NIL\n",
    "5. $\\hspace{0.3cm}$ **then** $x.next.prev=x.prev$"
   ]
  },
  {
   "cell_type": "markdown",
   "metadata": {},
   "source": [
    "Regresar al **[Índice](#indice)**."
   ]
  },
  {
   "cell_type": "markdown",
   "metadata": {},
   "source": [
    "<a id='cdisjuntos'></a>\n",
    "## 6. Conjuntos disjuntos"
   ]
  },
  {
   "cell_type": "markdown",
   "metadata": {},
   "source": [
    "Dada una partición de un conjunto, le podemos vincular una relación de equivalencia donde cada clase tendrá un representante.\n",
    "\n",
    "Computacionalmente, tendremos tres operaciones.\n",
    "1. $MAKE-SET(x)$: Genera la clase singulas del elemento $x$.\n",
    "2. $UNION(x,y)$: Fusiona la clase del elemnto $x$ con la clase del elemento $y$.\n",
    "3. $FIND-SET(x)$: Regresa el representante de la clase del elemento $x$.\n",
    "\n",
    "Las implementaciones dependerán de la estructura empleada, por ejemplo, si son arreglos o listas ligadas."
   ]
  },
  {
   "cell_type": "markdown",
   "metadata": {},
   "source": [
    "Por ejemplo, usando listas ligadas, las operaciones $MAKE-SET(x)$ y $FIND-SET(x)$ son constantes ya que cada elemento de una lista apunta a su representante (head).\n",
    "\n",
    "Sin embargo, $UNION(x,y)$ toma un tiempo $O(n)$ en el peor caso (ya que la lista de $y$ se destruye pues cada uno de sus elementos tiene que apuntar a un nuevo representante.\n",
    "\n",
    "Por lo que generar un conjunto de $n$ elementos tras $m$ operaciones $MAKE-SET(x)$ y $FIND-SET(x)$ y una heurística óptima de las operaciones $UNION(x,y)$ tiene una complejidad de $O(m+n\\lg(n))$."
   ]
  },
  {
   "cell_type": "markdown",
   "metadata": {},
   "source": [
    "En el caso de usar arreglos lineales o usar heaps, cambiarán los tiempos de ejecución respectivamente.\n",
    "\n",
    "Se puntualiza que usar árboles enraizados optimiza los procesos. Generar un conjunto de $n$ elementos tras $m$ operaciones $MAKE-SET(x)$ y $FIND-SET(x)$ y una heurística óptima de las operaciones $UNION(x,y)$ tiene una complejidad de $O(m\\alpha(n))$ donde $\\alpha(n)$ es una función de crecimiento muy lento."
   ]
  },
  {
   "cell_type": "markdown",
   "metadata": {},
   "source": [
    "En Julia, se tienen implementados las funciones usando árboles enraizados."
   ]
  },
  {
   "cell_type": "code",
   "execution_count": 30,
   "metadata": {},
   "outputs": [
    {
     "data": {
      "text/plain": [
       "IntDisjointSets{Int64}([1, 2, 3, 4, 5, 6, 7, 8, 9, 10], [0, 0, 0, 0, 0, 0, 0, 0, 0, 0], 10)"
      ]
     },
     "execution_count": 30,
     "metadata": {},
     "output_type": "execute_result"
    }
   ],
   "source": [
    "a = IntDisjointSets(10) # creates a forest comprised of 10 singletons"
   ]
  },
  {
   "cell_type": "code",
   "execution_count": 31,
   "metadata": {},
   "outputs": [
    {
     "data": {
      "text/plain": [
       "3"
      ]
     },
     "execution_count": 31,
     "metadata": {},
     "output_type": "execute_result"
    }
   ],
   "source": [
    "union!(a, 3, 5) # merges the sets that contain 3 and 5 into one and returns the root of the new set"
   ]
  },
  {
   "cell_type": "code",
   "execution_count": 33,
   "metadata": {},
   "outputs": [
    {
     "data": {
      "text/plain": [
       "1"
      ]
     },
     "execution_count": 33,
     "metadata": {},
     "output_type": "execute_result"
    }
   ],
   "source": [
    "root_union!(a, 1, 2) # merges the sets that have root x and y into one and returns the root of the new set"
   ]
  },
  {
   "cell_type": "code",
   "execution_count": 35,
   "metadata": {},
   "outputs": [
    {
     "data": {
      "text/plain": [
       "3"
      ]
     },
     "execution_count": 35,
     "metadata": {},
     "output_type": "execute_result"
    }
   ],
   "source": [
    "find_root(a, 5)  # finds the root element of the subset that contains 3"
   ]
  },
  {
   "cell_type": "code",
   "execution_count": 36,
   "metadata": {},
   "outputs": [
    {
     "data": {
      "text/plain": [
       "false"
      ]
     },
     "execution_count": 36,
     "metadata": {},
     "output_type": "execute_result"
    }
   ],
   "source": [
    "in_same_set(a, 1, 3) # determines whether x and y are in the same set"
   ]
  },
  {
   "cell_type": "code",
   "execution_count": 39,
   "metadata": {},
   "outputs": [
    {
     "data": {
      "text/plain": [
       "11"
      ]
     },
     "execution_count": 39,
     "metadata": {},
     "output_type": "execute_result"
    }
   ],
   "source": [
    "elem = push!(a)          # adds a single element in a new set; returns the new element\n",
    "                         # (this operation is often called MakeSet)"
   ]
  },
  {
   "cell_type": "code",
   "execution_count": 40,
   "metadata": {},
   "outputs": [
    {
     "data": {
      "text/plain": [
       "DisjointSets{AbstractString} with 4 elements:\n",
       "  \"a\"\n",
       "  \"b\"\n",
       "  \"c\"\n",
       "  \"d\""
      ]
     },
     "execution_count": 40,
     "metadata": {},
     "output_type": "execute_result"
    }
   ],
   "source": [
    "b = DisjointSets{AbstractString}([\"a\", \"b\", \"c\", \"d\"])"
   ]
  },
  {
   "cell_type": "code",
   "execution_count": 41,
   "metadata": {},
   "outputs": [
    {
     "data": {
      "text/plain": [
       "\"a\""
      ]
     },
     "execution_count": 41,
     "metadata": {},
     "output_type": "execute_result"
    }
   ],
   "source": [
    "union!(b, \"a\", \"b\")"
   ]
  },
  {
   "cell_type": "code",
   "execution_count": 42,
   "metadata": {},
   "outputs": [
    {
     "data": {
      "text/plain": [
       "false"
      ]
     },
     "execution_count": 42,
     "metadata": {},
     "output_type": "execute_result"
    }
   ],
   "source": [
    "in_same_set(b, \"c\", \"d\")"
   ]
  },
  {
   "cell_type": "code",
   "execution_count": 43,
   "metadata": {},
   "outputs": [
    {
     "data": {
      "text/plain": [
       "\"f\""
      ]
     },
     "execution_count": 43,
     "metadata": {},
     "output_type": "execute_result"
    }
   ],
   "source": [
    "push!(b, \"f\")"
   ]
  },
  {
   "cell_type": "markdown",
   "metadata": {},
   "source": [
    "Regresar al **[Índice](#indice)**."
   ]
  },
  {
   "cell_type": "markdown",
   "metadata": {},
   "source": [
    "<a id='referencias'></a>\n",
    "## 4. Referencias\n",
    "\n",
    "$[1]$ Cormen, T. H., Leiserson, C. E., Rivest, R. L. y Stein C. (2022). **Introduction to algorithms**. MIT Press, 4E."
   ]
  }
 ],
 "metadata": {
  "kernelspec": {
   "display_name": "Julia 1.9.0",
   "language": "julia",
   "name": "julia-1.9"
  },
  "language_info": {
   "file_extension": ".jl",
   "mimetype": "application/julia",
   "name": "julia",
   "version": "1.9.0"
  }
 },
 "nbformat": 4,
 "nbformat_minor": 4
}
