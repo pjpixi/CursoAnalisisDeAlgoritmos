{
 "cells": [
  {
   "cell_type": "markdown",
   "metadata": {},
   "source": [
    "# Sesión 15\n",
    "> Por Christian Rubio Montiel"
   ]
  },
  {
   "cell_type": "markdown",
   "metadata": {},
   "source": [
    "Sesión dedicada a las dudas de los alumnos sobre la Tarea I."
   ]
  },
  {
   "cell_type": "markdown",
   "metadata": {},
   "source": [
    "<a id='indice'></a>\n",
    "\n",
    "### Índice\n",
    "---\n",
    "1. **[Tarea I](#tareaI)**\n",
    "2. **[Referencias](#referencias)**\n",
    "---"
   ]
  },
  {
   "cell_type": "markdown",
   "metadata": {},
   "source": [
    "<a id='tareaI'></a>\n",
    "## 1 Tarea I"
   ]
  },
  {
   "cell_type": "markdown",
   "metadata": {},
   "source": [
    "La tarea I consiste principalmente de ejercicios contenidos en el libro de Cormen [$[1]$](#referencias). Se divide la tarea de manera semanal."
   ]
  },
  {
   "cell_type": "markdown",
   "metadata": {},
   "source": [
    "Semana 1. \n",
    "\n",
    "- Sección 2.1 Insertion sort\n",
    "- Sección 2.2 Analyzing algorithms\n",
    "- Sección 2.3 Designing algorithms"
   ]
  },
  {
   "cell_type": "markdown",
   "metadata": {},
   "source": [
    "Semana 2. \n",
    "\n",
    "- Sección 3.1 $O$-notation, $\\Omega$-notation, and $\\Theta$-notation\n",
    "- Sección 3.2 Asymptotic notation: formal defitions\n",
    "- Sección 3.3 Standard notations and common functions"
   ]
  },
  {
   "cell_type": "markdown",
   "metadata": {},
   "source": [
    "Semana 3.\n",
    "\n",
    "- Sección 4.3 The substitution method for solving recurrences\n",
    "- Sección 4.4 The recursion-tree method for solving recurrences\n",
    "- Sección 4.5 The master method for solving recurrences"
   ]
  },
  {
   "cell_type": "markdown",
   "metadata": {},
   "source": [
    "Semana 4.\n",
    "\n",
    "- Sección 6.1 Heaps\n",
    "- Sección 6.2 Maintaining the heap property\n",
    "- Sección 6.3 Building a heap\n",
    "- Sección 6.4 The heapsort algorithm\n",
    "- Sección 7.1 Description of quicksort"
   ]
  },
  {
   "cell_type": "markdown",
   "metadata": {},
   "source": [
    "Semana 5. \n",
    "\n",
    "- Sección 7.2 Performance of quicksort\n",
    "- Sección 7.3 A randomized version of quicksort\n",
    "- Sección 8.1 Lower bounds for sorting\n",
    "- Sección 8.2 Counting sort\n",
    "- Sección 8.3 Radix sort"
   ]
  },
  {
   "cell_type": "markdown",
   "metadata": {},
   "source": [
    "Semana 6. Escribir el seudocódigo, verificar que es correcto, hallar tiempo de ejecución e implementar en Julia los algoritmos que solucionan los siguientes problemas:\n",
    "\n",
    "1. Implemente el algoritmo de la división.\n",
    "\n",
    "2. Sea un natural $n$, usando sólo comparaciones, halle un algoritmo que en $\\lg(n)$ encuentre a $n$.\n",
    "\n",
    "3. Dados dos conjuntos $A$ y $B$ de $n$ números, y un número $x$, diseñe un algoritmo que en $O(n\\lg(n))$ encuentre, si existe, un elemento $a$ en $A$ y otro $b$ en $B$ tales que $a+b=x$.\n",
    "\n",
    "4. Supongamos que tenemos una lista $A$ con $n$ elementos, y que cada elemento en la lista es *verde*, *rojo* o *azul*. Encuentre un algoritmo lineal que solucione el problema de ordenar los elementos en nuestra lista de tal forma que aparezcan los elementos *verdes*, después los *rojos* y al final los *azules*. Las operaciones que tenemos disponibles son \n",
    "    1. $Color(A,i)$: nos da el color del elemento del elemento $i$ en la lista $A$. \n",
    "    2. $Intercambio(A,i,j)$: intercambia el elemento $i$ de $A$ con el elemento $j$.\n",
    "    \n",
    "5. Dada una lista de $n$ enteros $\\{x_1,x_2,\\dots,x_n\\}$ y un número $y$, encuentre un algoritmo que en $O(n\\lg(n))$ encuentre la pareja $(i,j)$ tal que $x_i+x_j$ es a lo sumo $y$ y además es máxima."
   ]
  },
  {
   "cell_type": "markdown",
   "metadata": {},
   "source": [
    "Semana 7.  Escribir el seudocódigo, verificar que es correcto, hallar tiempo de ejecución e implementar en Julia los algoritmos que solucionan los siguientes problemas:\n",
    "\n",
    "6. Implemente un algoritmo de la Criba de Eratóstenes.\n",
    "\n",
    "7. Queremos ordenar una lista $S$ de $n$ elementos enteros que contiene muchos elementos duplicados. Supongamos que los elementos de $S$ sólo toman $O(\\lg(n))$ valores distintos. Encuentre un algoritmo que tome a lo más $O(n\\lg(\\lg(n)))$ tiempo para ordenar $S$.\n",
    "\n",
    "8. Supongamos que tenemos dos listas ordenadas $S$ y $T$, cada una con $n$ elementos. Encuentre un algoritmo que en $O(\\lg(n))$ encuentre el $n$-ésimo elemento de $S\\cup T$.\n",
    "\n",
    "9. Dada una bolsa con $n$ tornillos de distintos tamaños y otra con sus $n$ tuercas. Tenemos que encontrar para cada tornillo su tuerca. En cada paso sólo puede comparar un tornillo y una tuerca y verificar si una tuerca corresponde al tornillo, o si el diámetro del tornillo es mayor o menor al diámetro de la tuerca ya que la diferencia en tamaño es tan pequeño que no puede compara los tornillos entre ellos y las tuercas entre ellas. Encuentre un algoritmo que resuelva el problema en $O(n^2)$ en el peor de los casos, pero que su tiempo esperado sea $O(n\\lg(n))$.\n",
    "\n",
    "10. Dados $n$ números naturales entre $1$ y $n^2$, encuentre un algoritmo lineal que los ordene."
   ]
  },
  {
   "cell_type": "markdown",
   "metadata": {},
   "source": [
    "Regresar al **[Índice](#indice)**."
   ]
  },
  {
   "cell_type": "markdown",
   "metadata": {},
   "source": [
    "<a id='referencias'></a>\n",
    "## 2. Referencias\n",
    "\n",
    "$[1]$ Cormen, T. H., Leiserson, C. E., Rivest, R. L. y Stein C. (2022). **Introduction to algorithms**. MIT Press, 4E."
   ]
  }
 ],
 "metadata": {
  "kernelspec": {
   "display_name": "Julia 1.9.2",
   "language": "julia",
   "name": "julia-1.9"
  },
  "language_info": {
   "file_extension": ".jl",
   "mimetype": "application/julia",
   "name": "julia",
   "version": "1.9.2"
  }
 },
 "nbformat": 4,
 "nbformat_minor": 4
}
