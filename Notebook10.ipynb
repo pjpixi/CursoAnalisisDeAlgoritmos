{
 "cells": [
  {
   "cell_type": "markdown",
   "metadata": {},
   "source": [
    "# Sesión 10\n",
    "> Por Christian Rubio Montiel (CRM)\n",
    "Implementación por Moisés Borjan Ramírez, Josue Río Campos Becerra, Oscar David Domínguez Dávila, Luis Ramos Guerrero y Kevin Martin Rivera Castro y CRM"
   ]
  },
  {
   "cell_type": "markdown",
   "metadata": {},
   "source": [
    "En esta sesión se introduce una nueva estructura de datos y se de otra solución óptima al problema de ordenación mediante el algoritmo llamado Heapsort. Se aborda el uso de instrucciones en Julia: [Instrucciones](https://www.dropbox.com/s/ll1ke40q7wxt54a/Instrucciones.ipynb?dl=0)."
   ]
  },
  {
   "cell_type": "markdown",
   "metadata": {},
   "source": [
    "<a id='indice'></a>\n",
    "### Índice\n",
    "---\n",
    "1. **[Max-heaps](#Max-heaps)**\n",
    "2. **[MAX-HEAPIFY](#Max-heapify)**\n",
    "3. **[Referencias](#referencias)**\n",
    "---"
   ]
  },
  {
   "cell_type": "markdown",
   "metadata": {},
   "source": [
    "El algoritmo de Heapsort combina características de Insertion y Merge Sort, además de introducir otra técnica de diseños de algoritmos a través de una estructura de datos llamada heap (montículo) que es un árbol binario.\n",
    "\n",
    "Dado un arreglo $A$, por ejemplo, $A=[16,14,10,8,7,9,3,2,4,1]$ las posiciones de los elementos van del $1$ al $10$. Con fines didácticos, escribiremos como subíndice la posición del número cuando haga falta, por ejemplo, \n",
    "$A=[16_1,14_2,10_3,8_4,7_5,9_6,3_7,2_8,4_9,1_{10}]$.\n",
    "\n",
    "En Julia, escribimos en arreglo $A$ como sigue, y podemos saber el número en la posición $i$ al ejecutar $A[i]$."
   ]
  },
  {
   "cell_type": "code",
   "execution_count": 1,
   "metadata": {},
   "outputs": [],
   "source": [
    "A=[16,14,10,8,7,9,3,2,4,1];"
   ]
  },
  {
   "cell_type": "code",
   "execution_count": 2,
   "metadata": {},
   "outputs": [
    {
     "data": {
      "text/plain": [
       "16"
      ]
     },
     "execution_count": 2,
     "metadata": {},
     "output_type": "execute_result"
    }
   ],
   "source": [
    "A[1]"
   ]
  },
  {
   "cell_type": "markdown",
   "metadata": {},
   "source": [
    "Un *árbol binario* es un árbol de $n$ vértices, con un vértice distinguido $v$ llamado *raíz*, el cual tiene a lo más dos vecinos, los cuales se llaman *hijo derecho* e *hijo izquierdo*; estos a su vez, tienen a lo más dos vecinos, los cuales se llaman *hijo derecho* e *hijo izquierdo* y así sucesivamente.\n",
    "\n",
    "En esta parte, trabajaremos con los *árboles binarios completos* que son aquellos árboles binarios donde $|N^i(v)|=2^i$ donde $1\\leq i < k$ con $k$ el radio del árbol y $N^k(v)$ se forma por hojas que se llena de izquierda a derecha.\n",
    "\n",
    "Vamos a acomodar el arreglo $A$ en esta estructura de datos:"
   ]
  },
  {
   "cell_type": "markdown",
   "metadata": {},
   "source": [
    "<img src=\"Fig101.png\" alt=\"Figura 5\" width=\"600\"/>\n",
    "\n",
    "> `Figura 5: Arreglo visto como un árbol binario completo, ver [2]. A la izquierda del árbol se indican las alturas h_i y a la derecha del árbol se indican la i-ésima vecindad N^i(v) de la raíz v.`"
   ]
  },
  {
   "cell_type": "markdown",
   "metadata": {},
   "source": [
    "Entonces, cada vértice del árbol corresponde a un elemento del arreglo. Debajo de cada vértice se indica la posición correspondiente en el arreglo. La raíz $v=N^0(v)$ es el elemento de la primer posición. Su vecindad $N(v)=N^1(v)$ son los 2 hijos de $v$, su hijo izquierdo corresponde al elemento del de la posición 2, su hijo derecho corresponde al elemento del de la posición 3. Su segunda vecindad $N^2(v)$ está forma por 4 vértices, con índices del 4 al 7. En general, cada vecindad tendrá el doble de elementos que la vecindad anterior, salvo posiblemente los vértices en la última vecindad. Para verificar esto, podemos establecer una biyección de los vértices en la $i$-ésima vecindad con los hijos izquierdos, y una biyección entre los hijos izquierdos con los derechos."
   ]
  },
  {
   "cell_type": "markdown",
   "metadata": {},
   "source": [
    "Entonces, si el radio del árbol es $k$, la $i$-ésima vecindad (también llamada el *$i$-ésimo nivel*) tendrá $2^i$ vértices si $0\\leq i < k$, y $2^k\\leq n < 2^{k-1}$, por lo que $k\\leq \\lg(n) < k+1 $ y entonces $k=\\left\\lfloor \\lg(n) \\right\\rfloor$. En el ejemplo, $\\left\\lfloor \\lg(10) \\right\\rfloor=\\left\\lfloor 3.3... \\right\\rfloor=3$.\n",
    "\n",
    "Por esta razón, si un vértice $u$ tiene índice $j$ (la posición $j$-ésima del arreglo), la distancia de la raíz a $u$ es $\\left\\lfloor \\lg(j) \\right\\rfloor$."
   ]
  },
  {
   "cell_type": "code",
   "execution_count": 3,
   "metadata": {},
   "outputs": [
    {
     "data": {
      "text/plain": [
       "3.321928094887362"
      ]
     },
     "execution_count": 3,
     "metadata": {},
     "output_type": "execute_result"
    }
   ],
   "source": [
    "log2(10)"
   ]
  },
  {
   "cell_type": "markdown",
   "metadata": {},
   "source": [
    "Dependiendo del texto, se pueden dar distintas nomenclaturas. Aquí definimos la altura $h$ del árbol como $k+1$, los vértices a altura $i$ serán quellos en el nivel $k+1-i$, denotada $h_i$."
   ]
  },
  {
   "cell_type": "markdown",
   "metadata": {},
   "source": [
    "Observemos lo siguiente. La raíz está en la posición $1$, su hijo izquierdo está en la posición $2$, el cual, a su vez está en la posición $2^2$ su hijo izquierdo. Entonces, el primer vértice en el $i$-ésimo nivel está en la posición $1+2+2^2+...+2^{i-1}+1=2^i-1+1=2^i$.\n",
    "\n",
    "Esto nos indica que un vértice en el $i-1$-ésimo con un índice $2^{i-1}+l$ ($0\\leq l < 2^{i-1}$), su hijo izquierdo estará en la posición $2^i+2l=2(2^{i+1}+l)$. Dicho de otro modo, cualquier vértice en la posición $j$, su hijo izquierdo está en la posición $2j$ y su hijo derecho está en la posición $2j+1$ siempre que $2j\\leq n$, o bien, $2j+1\\leq n$."
   ]
  },
  {
   "cell_type": "markdown",
   "metadata": {},
   "source": [
    "Regresar al **[Índice](#indice)**."
   ]
  },
  {
   "cell_type": "markdown",
   "metadata": {},
   "source": [
    "<a id='Max-heaps'></a>\n",
    "## 1. Max-heaps"
   ]
  },
  {
   "cell_type": "markdown",
   "metadata": {},
   "source": [
    "Para movernos sobre el arreglo $A$ de tal forma que la estructura de datos es un árbol completo, requerimos de los siguientes seudocódigos que reciben de entrada un índice $i$ del arreglo, con $1\\leq i \\leq n$."
   ]
  },
  {
   "cell_type": "markdown",
   "metadata": {},
   "source": [
    "*LEFT($i$)*\n",
    "1. **return** $2i$\n",
    "\n",
    "*RIGHT($i$)*\n",
    "1. **return** $2i+1$\n",
    "\n",
    "*PARENT($i$)*\n",
    "1. **return** $\\left\\lfloor \\frac{i}{2}\\right\\rfloor$"
   ]
  },
  {
   "cell_type": "markdown",
   "metadata": {},
   "source": [
    "Claramente, cada una de estas rutinas son de tiempo constante $\\theta(1)$, y son correctas por la explicación previa."
   ]
  },
  {
   "cell_type": "code",
   "execution_count": 4,
   "metadata": {},
   "outputs": [
    {
     "data": {
      "text/plain": [
       "PARENT (generic function with 1 method)"
      ]
     },
     "execution_count": 4,
     "metadata": {},
     "output_type": "execute_result"
    }
   ],
   "source": [
    "function LEFT(i)\n",
    "    return 2*i\n",
    "end\n",
    "\n",
    "function RIGHT(i)\n",
    "    return 2*i+1\n",
    "end\n",
    "\n",
    "function PARENT(i)\n",
    "    return div(i,2)\n",
    "end"
   ]
  },
  {
   "cell_type": "markdown",
   "metadata": {},
   "source": [
    "Decimos que un arreglo es *max-heap* si para cada vértice $A[PARENT(i)]\\geq A[i]$, lo que implica que el elemento en la raíz será el máximo del arreglo.\n",
    "\n",
    "Decimos que un arreglo es *min-heap* si para cada vértice $A[PARENT(i)]\\leq A[i]$, lo que implica que el elemento en la raíz será el mínimo del arreglo."
   ]
  },
  {
   "cell_type": "markdown",
   "metadata": {},
   "source": [
    "El árbol de la Figura 5 es un ejemplo de un max-heap, sin embargo, el arreglo $A$ no está ordenado."
   ]
  },
  {
   "cell_type": "markdown",
   "metadata": {},
   "source": [
    "Regresar al **[Índice](#indice)**."
   ]
  },
  {
   "cell_type": "markdown",
   "metadata": {},
   "source": [
    "<a id='Max-heapify'></a>\n",
    "   ## 2. MAX-HEAPIFY"
   ]
  },
  {
   "cell_type": "markdown",
   "metadata": {},
   "source": [
    "En la técnica de *divide y vencerás* usada en el algoritmo de MAX-HEAP, el mezclado de dos árboles binarios enraizados completos que son max-heaps y que sus respectivas raíces comparten el mismO padre se da en la siguiente rutina.\n",
    "\n",
    "En este algoritmo, la entrada es un arreglo $A$ de $n$ números y un índice $i$ de un vértice cuyos hijos son las raíces de max-heaps. La salida será el arreglo $A$ tal que del índice $i$ es la raíz de un max heap.\n",
    "\n",
    "*MAX-HEAPIFY($A$,$i$)*\n",
    "1. $l=LEFT(i)$\n",
    "2. $r=RIGHT(i)$\n",
    "3. **if** $l\\leq heapSize[A]$ and $A[l]>A[i]$ **then**\n",
    "4. $\\hspace{0.6cm}largest=l$\n",
    "5. $\\hspace{0.6cm}$**else** $largest=i$\n",
    "6. **if** $r\\leq heapSize[A]$ and $A[r]>A[largest]$ **then**\n",
    "7. $\\hspace{0.6cm}largest=r$\n",
    "8. **if** $largest \\not = i$ **then**\n",
    "9. $\\hspace{0.6cm}$exchange($A[i],A[largest]$)\n",
    "10. $\\hspace{0.6cm}$MAX-HEAPIFY($A$,$largest$)"
   ]
  },
  {
   "cell_type": "markdown",
   "metadata": {},
   "source": [
    "Ver que el algoritmo es correcto, es relativamente sencillo. El caso base es trivial, ya que un árbol trivial es max-heap. En las primeras nueve líneas, se verifica cuál es el elemento mayor entre el padre $i$ y sus hijos. El loop invariante se verifica puesto que por hipótesis de inducción el índice $largest$ está en un árbol de menor altura, devolviendo así un max-heap.\n",
    "\n",
    "El tiempo de ejecución también es relativamente sencillo calcularlo. Como el índice $i$ se detiene en la recursión cuando $largest$ es una hoja, así que en el peor de los casos se recorre la altura del árbol, por lo que el algoritmo tiene un tiempo de ejecución $O(\\lg(n))$."
   ]
  },
  {
   "cell_type": "code",
   "execution_count": 5,
   "metadata": {},
   "outputs": [
    {
     "data": {
      "text/plain": [
       "MAX_HEAPIFY (generic function with 1 method)"
      ]
     },
     "execution_count": 5,
     "metadata": {},
     "output_type": "execute_result"
    }
   ],
   "source": [
    "function MAX_HEAPIFY(A,i,heapSizeA)\n",
    "    l = LEFT(i)\n",
    "    r = RIGHT(i)\n",
    "    if l <= heapSizeA && A[l] > A[i]\n",
    "        largest = l\n",
    "    else\n",
    "        largest = i\n",
    "    end\n",
    "    if r <= heapSizeA && A[r] > A[largest]\n",
    "        largest = r\n",
    "    end\n",
    "    if largest != i\n",
    "        A[i], A[largest] = A[largest], A[i]\n",
    "        MAX_HEAPIFY(A,largest,heapSizeA)\n",
    "    end\n",
    "end"
   ]
  },
  {
   "cell_type": "markdown",
   "metadata": {},
   "source": [
    "Regresar al **[Índice](#indice)**."
   ]
  },
  {
   "cell_type": "markdown",
   "metadata": {},
   "source": [
    "<a id='referencias'></a>\n",
    "## 3. Referencias\n",
    "\n",
    "$[1]$ Cormen, T. H., Leiserson, C. E., Rivest, R. L. y Stein C. (2022). **Introduction to algorithms**. MIT Press, 4E."
   ]
  }
 ],
 "metadata": {
  "kernelspec": {
   "display_name": "Julia 1.9.1",
   "language": "julia",
   "name": "julia-1.9"
  },
  "language_info": {
   "file_extension": ".jl",
   "mimetype": "application/julia",
   "name": "julia",
   "version": "1.9.1"
  }
 },
 "nbformat": 4,
 "nbformat_minor": 4
}
