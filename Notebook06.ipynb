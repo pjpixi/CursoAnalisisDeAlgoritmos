{
 "cells": [
  {
   "cell_type": "markdown",
   "metadata": {},
   "source": [
    "# Sesión 06\n",
    "> Por Christian Rubio Montiel."
   ]
  },
  {
   "cell_type": "markdown",
   "metadata": {},
   "source": [
    "En esta sesión se resuelven diferentes recursiones mediante el método de sustitución y se verifica que sean correctas. Se aborda el uso de arreglos de Julia: [Arreglos](https://www.dropbox.com/s/od5o17ummmazl40/Arreglos.ipynb?dl=0)."
   ]
  },
  {
   "cell_type": "markdown",
   "metadata": {},
   "source": [
    "<a id='indice'></a>\n",
    "### Índice\n",
    "---\n",
    "**Recursiones**\n",
    "1. **[Ejemplo 1](#Ejemplo1)**\n",
    "2. **[Ejemplo 2](#Ejemplo2)**\n",
    "3. **[Ejemplo 3](#Ejemplo3)**\n",
    "4. **[Ejemplo 4](#Ejemplo4)**\n",
    "5. **[Ejemplo 5](#Ejemplo5)**\n",
    "6. **[Ejemplo 6](#Ejemplo6)**\n",
    "7. **[Ejemplo 7](#Ejemplo7)**\n",
    "---"
   ]
  },
  {
   "cell_type": "markdown",
   "metadata": {},
   "source": [
    "## Recursiones"
   ]
  },
  {
   "cell_type": "markdown",
   "metadata": {},
   "source": [
    "Iniciaremos resolviendo recursiones sencillas usando notación asíntotica.\n",
    "\n",
    "Haremos énfasis en cómo verificar que la solución de una recursión es correcta. Explicaremos lo referente al caso base."
   ]
  },
  {
   "cell_type": "markdown",
   "metadata": {},
   "source": [
    "<a id='Ejemplo1'></a>\n",
    "### 1. Ejemplo 1"
   ]
  },
  {
   "cell_type": "markdown",
   "metadata": {},
   "source": [
    "**Resuelve**. $T(n)=T(\\frac{n}{2})+1$ con $T(1)=1$, tal que $n$ es potencia de $2$."
   ]
  },
  {
   "cell_type": "markdown",
   "metadata": {},
   "source": [
    "**Solución por sustitución**.\n",
    "\n",
    "$T(\\frac{n}{2})=T(\\frac{n}{2^2})+1$ por lo que $T(n)=T(\\frac{n}{2^2})+2$.\n",
    "\n",
    "$T(\\frac{n}{2^2})=T(\\frac{n}{2^3})+1$ por lo que $T(n)=T(\\frac{n}{2^3})+3$.\n",
    "\n",
    "Si repetimos este proceso obtenemos que\n",
    "\n",
    "$T(n)=T(\\frac{n}{2^k})+k$.\n",
    "\n",
    "Esta recursión se detiene en el caso base, así que $\\frac{n}{2^k}=1$, es decir, $n=2^k$, o bien $\\lg(n)=k$.\n",
    "\n",
    "Entonces, $T(n)=T(1)+\\lg(n)=\\lg(n)+1=\\theta(\\lg(n))$."
   ]
  },
  {
   "cell_type": "markdown",
   "metadata": {},
   "source": [
    "**Comprobación por inducción sobre $n$.**\n",
    "\n",
    "*Caso base.* Por un lado, $T(1)=1$. Por otro lado, $\\lg(1)+1=1$. Por lo que el caso base es correcto.\n",
    "\n",
    "*Hipótesis.* $T(k)=\\lg(k)+1$ para toda $k$ tal que $1 \\leq k <n$.\n",
    "\n",
    "*Inducción.* Como $T(n)=T(\\frac{n}{2})+1$, entonces \n",
    "\n",
    "$T(n)=\\lg(\\frac{n}{2})+1+1=\\lg(n)-\\lg(2)+1+1=\\lg(n)-1+1+1=\\lg(n)+1$. QED"
   ]
  },
  {
   "cell_type": "markdown",
   "metadata": {},
   "source": [
    "La solución de la recursión del ejemplo 1 se puede extender al caso general para cualquier $n$ como sigue: Dado que $n$ se encuentra entre potencias de 2 consecutivas, es decir, $2^k\\leq n < 2^{k+1}$ para algún $k$; entonces, $n=c2^k$ para alguna constante $c\\in [1,2)$, entonces $\\lg(\\frac{n}{c})=k$, asumiendo el caso base como $T(c)=\\theta(1)$, tenemos que\n",
    "$$T(n)=T(c)+\\lg(n)-\\lg(c)=\\theta(\\lg(n)).$$\n",
    "\n",
    "Ahora resolveremos de nuevo el caso general de $n$, con un caso base $T(1)$ que es una constante dada, pero usando notación asintótica en el proceso."
   ]
  },
  {
   "cell_type": "markdown",
   "metadata": {},
   "source": [
    "**Resuelve**. $T(n)=T(\\frac{n}{2})+\\theta(1)$ con $T(1)=\\theta(1)$."
   ]
  },
  {
   "cell_type": "markdown",
   "metadata": {},
   "source": [
    "**Solución por sustitución**.\n",
    "\n",
    "$T(\\frac{n}{2})=T(\\frac{n}{2^2})+\\theta(1)$ por lo que $T(n)=T(\\frac{n}{2^2})+2\\theta(1)$.\n",
    "\n",
    "$T(\\frac{n}{2^2})=T(\\frac{n}{2^3})+\\theta(1)$ por lo que $T(n)=T(\\frac{n}{2^3})+3\\theta(1)$.\n",
    "\n",
    "Si repetimos este proceso obtenemos que\n",
    "\n",
    "$T(n)=T(\\frac{n}{2^k})+k\\theta(1)$.\n",
    "\n",
    "Esta recursión se detiene en el caso base, así que $\\frac{n}{2^k}=1$, es decir, $n=2^k$, o bien $\\lg(n)=k$.\n",
    "\n",
    "Entonces, \n",
    "\n",
    "$T(n)=T(1)+\\lg(n)\\theta(1)$\n",
    "\n",
    "$\\hspace{0.92cm}=\\theta(1)+\\theta(\\lg(n))$\n",
    "\n",
    "$\\hspace{0.92cm}=\\theta(\\lg(n))$. QED."
   ]
  },
  {
   "cell_type": "markdown",
   "metadata": {},
   "source": [
    "Para ver una solución en Wolfram Mathemática [aquí](https://www.wolframalpha.com/input?i=T%5Bn%5D%3D%3DT%5Bn%2F2%5D%2B1).\n",
    "\n",
    "Regresar al **[Índice](#indice)**."
   ]
  },
  {
   "cell_type": "markdown",
   "metadata": {},
   "source": [
    "<a id='Ejemplo2'></a>\n",
    "### 2. Ejemplo 2"
   ]
  },
  {
   "cell_type": "markdown",
   "metadata": {},
   "source": [
    "**Resuelve**. $T(n)=2T(\\frac{n}{2})+\\theta(n)$ con $T(2)=\\theta(1)$."
   ]
  },
  {
   "cell_type": "markdown",
   "metadata": {},
   "source": [
    "**Solución por sustitución**.\n",
    "\n",
    "$T(\\frac{n}{2})=2T(\\frac{n}{2^2})+\\theta(\\frac{n}{2})$ por lo que \n",
    "\n",
    "$T(n)=2T(\\frac{n}{2})+\\theta(n)$\n",
    "\n",
    "$\\hspace{0.92cm}=2(2T(\\frac{n}{2^2})+\\theta(\\frac{n}{2}))+\\theta(n)$\n",
    "\n",
    "$\\hspace{0.92cm}=2^2T(\\frac{n}{2^2})+2\\theta(\\frac{n}{2}))+\\theta(n)$\n",
    "\n",
    "$\\hspace{0.92cm}=2^2T(\\frac{n}{2^2})+\\theta(n)+\\theta(n)$\n",
    "\n",
    "$\\hspace{0.92cm}=2^2T(\\frac{n}{2^2})+2\\theta(n).$\n",
    "\n",
    "Si repetimos este proceso obtenemos que\n",
    "\n",
    "$T(n)=2^kT(\\frac{n}{2^k})+k\\theta(n)$.\n",
    "\n",
    "Esta recursión se detiene en el caso base, así que $\\frac{n}{2^k}=2$, es decir, $n=2^{k+1}$, o bien $\\lg(n)=k+1$. Entonces, \n",
    "\n",
    "$T(n)=\\frac{n}{2}T(2)+(\\lg(n)-1)\\theta(n)$\n",
    "\n",
    "$\\hspace{0.92cm}=n\\theta(1)+\\theta(n\\lg(n))-\\theta(n)$\n",
    "\n",
    "$\\hspace{0.92cm}=\\theta(n\\lg(n))$."
   ]
  },
  {
   "cell_type": "markdown",
   "metadata": {},
   "source": [
    "**Comprobación por inducción sobre $n$.**\n",
    "\n",
    "*Caso base.* Por un lado, $T(2)=\\theta(1)$. Por otro lado, $\\theta(2\\lg(2))=\\theta(1)$. Por lo que el caso base es correcto.\n",
    "\n",
    "*Hipótesis.* $T(k)=ck\\lg(k)+o(k\\lg(k))=\\theta(n\\lg(n))$ para toda $k$ tal que $1 \\leq k <n$.\n",
    "\n",
    "*Inducción.* Como $T(n)=2T(\\frac{n}{2})+\\theta(1)$, entonces \n",
    "\n",
    "$T(n)=2(c\\frac{n}{2}\\lg(\\frac{n}{2})+o(\\frac{n}{2}\\lg(\\frac{n}{2}))+\\theta(1)$\n",
    "\n",
    "$\\hspace{0.92cm}=cn(\\lg(n)-1)+o(n(\\lg(n)-1))+\\theta(1)$\n",
    "\n",
    "$\\hspace{0.92cm}=cn\\lg(n)-cn+o(n(\\lg(n)-1))+\\theta(1)$\n",
    "\n",
    "$\\hspace{0.92cm}=cn\\lg(n)+o(n(\\lg(n)))$\n",
    "\n",
    "$\\hspace{0.92cm}=\\theta(n\\lg(n))$. QED"
   ]
  },
  {
   "cell_type": "markdown",
   "metadata": {},
   "source": [
    "Para ver una solución en Wolfram Mathemática [aquí](https://www.wolframalpha.com/input?i=T%5Bn%5D%3D%3D2T%5Bn%2F2%5D%2Bn).\n",
    "\n",
    "Regresar al **[Índice](#indice)**."
   ]
  },
  {
   "cell_type": "markdown",
   "metadata": {},
   "source": [
    "<a id='Ejemplo3'></a>\n",
    "### 3. Ejemplo 3"
   ]
  },
  {
   "cell_type": "markdown",
   "metadata": {},
   "source": [
    "**Resuelve**. $T(n)=2T(\\frac{n}{2})+n\\lg(n)$ con $T(1)=1$, tal que $n$ es potencia de $2$."
   ]
  },
  {
   "cell_type": "markdown",
   "metadata": {},
   "source": [
    "**Solución por sustitución**.\n",
    "\n",
    "$T(n)=2(2T(\\frac{n}{2^2})+\\frac{n}{2}\\lg(\\frac{n}{2}))+n\\lg(n)$\n",
    "\n",
    "$\\hspace{0.92cm}=2^2T(\\frac{n}{2^2})+n\\lg(\\frac{n}{2})+n\\lg(n)$\n",
    "\n",
    "$\\hspace{0.92cm}=2^2T(\\frac{n}{2^2})+n(\\lg(n)-1)+n\\lg(n)$\n",
    "\n",
    "$\\hspace{0.92cm}=2^2T(\\frac{n}{2^2})+2n\\lg(n)-n$.\n",
    "\n",
    "Haciendo otra iteración obtenemos\n",
    "\n",
    "$T(n)=2^2T(\\frac{n}{2^2})+2n\\lg(n)-n$\n",
    "\n",
    "$\\hspace{0.92cm}=2^2(2T(\\frac{n}{2^3})+\\frac{n}{2^2}\\lg(\\frac{n}{2^2}))+2n\\lg(n)-n$\n",
    "\n",
    "$\\hspace{0.92cm}=2^3T(\\frac{n}{2^3})+n\\lg(\\frac{n}{2^2})+2n\\lg(n)-n$\n",
    "\n",
    "$\\hspace{0.92cm}=2^3T(\\frac{n}{2^3})+n(\\lg(n)-2)+2n\\lg(n)-n$\n",
    "\n",
    "$\\hspace{0.92cm}=2^3T(\\frac{n}{2^3})+3n\\lg(n)-n(1+2).$\n",
    "\n",
    "Si repetimos este proceso obtenemos que\n",
    "\n",
    "$T(n)=2^kT(\\frac{n}{2^k})+kn\\lg(n)-n\\frac{k(k-1)}{2}$.\n",
    "\n",
    "Esta recursión se detiene en el caso base, así que $\\frac{n}{2^k}=1$, es decir, $n=2^k$, o bien $\\lg(n)=k$. Entonces, \n",
    "\n",
    "$T(n)=nT(1)+\\lg(n)n\\lg(n)-n\\frac{\\lg(n)(\\lg(n)-1)}{2}$\n",
    "\n",
    "$\\hspace{0.92cm}=n+n(\\lg(n))^2-n\\frac{(\\lg(n))^2-\\lg(n)}{2}$\n",
    "\n",
    "$\\hspace{0.92cm}=n+\\frac{n(\\lg(n))^2}{2}+\\frac{n\\lg(n)}{2}$\n",
    "\n",
    "$\\hspace{0.92cm}=\\frac{n(\\lg(n))^2}{2}+\\frac{n\\lg(n)}{2}+n$\n",
    "\n",
    "$\\hspace{0.92cm}=\\theta(n(\\lg(n))^2).$"
   ]
  },
  {
   "cell_type": "markdown",
   "metadata": {},
   "source": [
    "**Comprobación por inducción sobre $n$.**\n",
    "\n",
    "*Caso base.* Por un lado, $T(1)=1$. Por otro lado, $\\frac{(\\lg(1))^2}{2}+\\frac{\\lg(1)}{2}+1=1$. Por lo que el caso base es correcto.\n",
    "\n",
    "*Hipótesis.* $T(k)=\\frac{k(\\lg(k))^2}{2}+\\frac{k\\lg(k)}{2}+k$ para toda $k$ tal que $1 \\leq k <n$, en particular\n",
    "\n",
    "$T(\\frac{n}{2})=\\frac{\\frac{n}{2}(\\lg(\\frac{n}{2}))^2}{2}+\\frac{\\frac{n}{2}\\lg(\\frac{n}{2})}{2}+\\frac{n}{2}$.\n",
    "\n",
    "*Inducción.* Como $T(n)=2T(\\frac{n}{2})+n\\lg(n)$, entonces \n",
    "\n",
    "$T(n)=2(\\frac{\\frac{n}{2}(\\lg(\\frac{n}{2}))^2}{2}+\\frac{\\frac{n}{2}\\lg(\\frac{n}{2})}{2}+\\frac{n}{2})+n\\lg(n)$\n",
    "\n",
    "$\\hspace{0.92cm}=\\frac{n}{2}(\\lg(\\frac{n}{2}))^2+\\frac{n}{2}\\lg(\\frac{n}{2})+n+n\\lg(n)$\n",
    "\n",
    "$\\hspace{0.92cm}=\\frac{n}{2}(\\lg(n)-1)^2+\\frac{n}{2}(\\lg(n)-1)+n\\lg(n)+n$\n",
    "\n",
    "$\\hspace{0.92cm}=\\frac{n}{2}((\\lg(n))^2-2\\lg(n)+1)+\\frac{n\\lg(n)}{2}-\\frac{n}{2}+n\\lg(n)+n$\n",
    "\n",
    "$\\hspace{0.92cm}=\\frac{n(\\lg(n))^2}{2}-n\\lg(n)+\\frac{n}{2}+\\frac{n\\lg(n)}{2}-\\frac{n}{2}+n\\lg(n)+n$\n",
    "\n",
    "$\\hspace{0.92cm}=\\frac{n(\\lg(n))^2}{2}+\\frac{n\\lg(n)}{2}+n$. QED"
   ]
  },
  {
   "cell_type": "markdown",
   "metadata": {},
   "source": [
    "Esta recursión se extiende a toda $n$ similar que en el Ejercicio 1, así obtenemos que $T(n)=2T(\\frac{n}{2})+n\\lg(n)$ con $T(\\theta(1))=\\theta(1)$ tiene como solución $T(n)=\\theta(n(\\lg(n))^2)$.\n",
    "\n",
    "Hay dos puntos a observar,\n",
    "1. La notación de $\\lg^2(n)$ suele usarse similar al caso de $\\sin^2(n)$, es decir, $\\lg^2(n)=(\\lg(n))^2$, sin embargo, en ocasiones $\\sin^{-1}(n)$ no es $\\frac{1}{\\sin(n)}$ si no $\\arcsin(n)$. Para evitar confusión, escribiré $(\\lg(n))^2$.\n",
    "2. En el caso base, suele usarse $T(1)=1$, aunque en ocasiones se usarán otros valores iniciales, dependiendo de la recursiones. Al usar notación asintótica, el caso base no influye en el término principal, por lo que la solución asintótica no cambia, así, en muchos ejercicios no se indica el caso base, aunque el lector debe asumir que es $T(\\theta(1))=\\theta(1)$."
   ]
  },
  {
   "cell_type": "markdown",
   "metadata": {},
   "source": [
    "Para ver una solución en Wolfram Mathemática [aquí](https://www.wolframalpha.com/input?i=T%5Bn%5D%3D%3D2T%5Bn%2F2%5D%2Bnlog%28n%29%2Flog%282%29).\n",
    "\n",
    "Regresar al **[Índice](#indice)**."
   ]
  },
  {
   "cell_type": "markdown",
   "metadata": {},
   "source": [
    "<a id='Ejemplo4'></a>\n",
    "### 4. Ejemplo 4"
   ]
  },
  {
   "cell_type": "markdown",
   "metadata": {},
   "source": [
    "**Resuelve**. $T(n)=2T(n^{\\frac{1}{2}})+1$ con $T(2)=1$."
   ]
  },
  {
   "cell_type": "markdown",
   "metadata": {},
   "source": [
    "**Solución por sustitución**.\n",
    "\n",
    "$T(n)=2^2T(n^{{\\frac{1}{2^2}}})+2+1$\n",
    "\n",
    "$\\hspace{0.92cm}=2^3T(n^{{\\frac{1}{2^3}}})+2^2+2+1$.\n",
    "\n",
    "Si repetimos este proceso obtenemos que\n",
    "\n",
    "$T(n)=2^kT(n^{{\\frac{1}{2^k}}})+2^{k-1}+\\dots+2+1=2^kT(n^{{\\frac{1}{2^k}}})+2^{k}-1$.\n",
    "\n",
    "Esta recursión se detiene en el caso base, así que $n^{{\\frac{1}{2^k}}}=2$, es decir, $\\lg(n)=2^k$, o bien $\\lg(\\lg(n))=k$. Entonces, \n",
    "\n",
    "$T(n)=\\lg(n)T(2)+\\lg(n)-1$\n",
    "\n",
    "$\\hspace{0.92cm}=2\\lg(n)-1=\\theta(\\lg(n)).$"
   ]
  },
  {
   "cell_type": "markdown",
   "metadata": {},
   "source": [
    "**Comprobación por inducción sobre $n$.**\n",
    "\n",
    "*Caso base.* Por un lado, $T(2)=1$. Por otro lado, $2\\lg(2)-1=1$. Por lo que el caso base es correcto.\n",
    "\n",
    "*Hipótesis.* $T(k)=2\\lg(k)-1$ para toda $k$ tal que $1 \\leq k <n$, en particular\n",
    "\n",
    "$T(n^{{\\frac{1}{2}}})=2\\lg(n^{{\\frac{1}{2}}})-1=\\lg(n)-1$.\n",
    "\n",
    "*Inducción.* Como $T(n)=2T(n^{\\frac{1}{2}})+1$, entonces \n",
    "\n",
    "$T(n)=2(\\lg(n)-1)+1$\n",
    "\n",
    "$\\hspace{0.92cm}=2\\lg(n)-2+1$\n",
    "\n",
    "$\\hspace{0.92cm}=2\\lg(n)-1=\\theta(\\lg(n))$. QED"
   ]
  },
  {
   "cell_type": "markdown",
   "metadata": {},
   "source": [
    "Para ver una solución en Wolfram Mathemática [aquí](https://www.wolframalpha.com/input?i=T%5Bn%5D%3D%3D2T%5Bn%5E%281%2F2%29%5D%2B1).\n",
    "\n",
    "Regresar al **[Índice](#indice)**."
   ]
  },
  {
   "cell_type": "markdown",
   "metadata": {},
   "source": [
    "<a id='Ejemplo5'></a>\n",
    "### 5. Ejemplo 5"
   ]
  },
  {
   "cell_type": "markdown",
   "metadata": {},
   "source": [
    "**Resuelve**. $T(n)=2T(n^{\\frac{1}{2}})+\\lg(n)$ con $T(2)=1$."
   ]
  },
  {
   "cell_type": "markdown",
   "metadata": {},
   "source": [
    "**Solución por sustitución**.\n",
    "\n",
    "$T(n)=2^2T(n^{{\\frac{1}{2^2}}})+2\\lg(n^{{\\frac{1}{2}}})+\\lg(n)$\n",
    "\n",
    "$\\hspace{0.92cm}=2^2T(n^{{\\frac{1}{2^2}}})+\\lg(n)+\\lg(n)$\n",
    "\n",
    "$\\hspace{0.92cm}=2^2T(n^{{\\frac{1}{2^2}}})+2\\lg(n)$.\n",
    "\n",
    "Si repetimos este proceso obtenemos que\n",
    "\n",
    "$T(n)=2^kT(n^{{\\frac{1}{2^k}}})+k\\lg(n)$.\n",
    "\n",
    "Esta recursión se detiene en el caso base, así que $n^{{\\frac{1}{2^k}}}=2$, es decir, $\\lg(n)=2^k$, o bien $\\lg(\\lg(n))=k$. Entonces, \n",
    "\n",
    "$T(n)=\\lg(n)T(2)+\\lg(\\lg(n))\\lg(n)$\n",
    "\n",
    "$\\hspace{0.92cm}=\\lg(n)\\lg(\\lg(n))+\\lg(n)$\n",
    "\n",
    "$\\hspace{0.92cm}=\\theta(\\lg(n)\\lg(\\lg(n)))$."
   ]
  },
  {
   "cell_type": "markdown",
   "metadata": {},
   "source": [
    "**Comprobación por inducción sobre $n$.**\n",
    "\n",
    "*Caso base.* Por un lado, $T(2)=1$. Por otro lado, $\\lg(2)\\lg(\\lg(2))+\\lg(2)=1$. Por lo que el caso base es correcto.\n",
    "\n",
    "*Hipótesis.* \n",
    "\n",
    "$T(n^{{\\frac{1}{2}}})=\\lg(n^{{\\frac{1}{2}}})\\lg(\\lg(n^{{\\frac{1}{2}}}))+\\lg(n^{{\\frac{1}{2}}})$\n",
    "\n",
    "$\\hspace{0.92cm}=\\frac{\\lg(n)}{2}\\lg(\\frac{\\lg(n)}{2})+\\frac{\\lg(n)}{2}$\n",
    "\n",
    "$\\hspace{0.92cm}=\\frac{\\lg(n)}{2}(\\lg(\\lg(n))-1)+\\frac{\\lg(n)}{2}$\n",
    "\n",
    "$\\hspace{0.92cm}=\\frac{\\lg(n)\\lg(\\lg(n))}{2}-\\frac{\\lg(n)}{2}+\\frac{\\lg(n)}{2}$\n",
    "\n",
    "$\\hspace{0.92cm}=\\frac{\\lg(n)\\lg(\\lg(n))}{2}$.\n",
    "\n",
    "*Inducción.* Como $T(n)=2T(n^{\\frac{1}{2}})+\\lg(n)$, entonces \n",
    "\n",
    "$T(n)=2(\\frac{\\lg(n)\\lg(\\lg(n))}{2})+\\lg(n)$\n",
    "\n",
    "$\\hspace{0.92cm}=\\lg(n)\\lg(\\lg(n))+\\lg(n)$. QED"
   ]
  },
  {
   "cell_type": "markdown",
   "metadata": {},
   "source": [
    "Para ver una solución en Wolfram Mathemática [aquí](https://www.wolframalpha.com/input?i=T%5Bn%5D%3D%3D2T%5Bn%5E%281%2F2%29%5D%2Blog%28n%29%2Flog%282%29).\n",
    "\n",
    "Regresar al **[Índice](#indice)**."
   ]
  },
  {
   "cell_type": "markdown",
   "metadata": {},
   "source": [
    "<a id='Ejemplo6'></a>\n",
    "### 6. Ejemplo 6"
   ]
  },
  {
   "cell_type": "markdown",
   "metadata": {},
   "source": [
    "**Resuelve**. $T(n)=T(\\frac{n}{3})+8(\\frac{n}{3})^2$ con $T(1)=1$."
   ]
  },
  {
   "cell_type": "markdown",
   "metadata": {},
   "source": [
    "**Solución por sustitución**.\n",
    "\n",
    "$T(n)=T(\\frac{n}{3^2})+8(\\frac{n}{3^2})^2+8(\\frac{n}{3})^2$\n",
    "\n",
    "$\\hspace{0.92cm}=T(\\frac{n}{3^2})+8n^2(\\frac{1}{9^2}+\\frac{1}{9})$\n",
    "\n",
    "$\\hspace{0.92cm}=T(\\frac{n}{3^3})+8(\\frac{n}{3^3})^2+8n^2(\\frac{1}{9^2}+\\frac{1}{9})$\n",
    "\n",
    "$\\hspace{0.92cm}=T(\\frac{n}{3^3})+8n^2(\\frac{1}{9^3}+\\frac{1}{9^2}+\\frac{1}{9})$.\n",
    "\n",
    "Si repetimos este proceso obtenemos que\n",
    "\n",
    "$T(n)=T(\\frac{n}{3^k})+8n^2(\\frac{1}{9^k}+\\dots+\\frac{1}{9^2}+\\frac{1}{9})$\n",
    "\n",
    "$\\hspace{0.92cm}=T(\\frac{n}{3^k})+8n^2(\\frac{1}{9^k}+\\dots+\\frac{1}{9^2}+\\frac{1}{9})(\\frac{9-1}{8})$\n",
    "\n",
    "$\\hspace{0.92cm}=T(\\frac{n}{3^k})+n^2(\\frac{1}{9^{k-1}}+\\dots+\\frac{1}{9}+1-(\\frac{1}{9^k}+\\dots+\\frac{1}{9^2}+\\frac{1}{9}))$.\n",
    "\n",
    "$\\hspace{0.92cm}=T(\\frac{n}{3^k})+n^2(1-\\frac{1}{9^k})$.\n",
    "\n",
    "Esta recursión se detiene en el caso base, así que $\\frac{n}{3^k}=1$, es decir, $n=3^k$, o bien, $n^2=9^k$. Entonces, \n",
    "\n",
    "$T(n)=T(1)+n^2(1-\\frac{1}{n^2})$\n",
    "\n",
    "$\\hspace{0.92cm}=n^2=\\theta(n^2)$."
   ]
  },
  {
   "cell_type": "markdown",
   "metadata": {},
   "source": [
    "**Comprobación por inducción sobre $n$.**\n",
    "\n",
    "*Caso base.* Por un lado, $T(1)=1$. Por otro lado, $1^2=1$. Por lo que el caso base es correcto.\n",
    "\n",
    "*Hipótesis.* \n",
    "\n",
    "$T(\\frac{n}{3})=(\\frac{n}{3})^2$\n",
    "\n",
    "$\\hspace{0.92cm}=\\frac{n^2}{9}$.\n",
    "\n",
    "*Inducción.* Como $T(n)=T(\\frac{n}{3})+8(\\frac{n}{3})^2$, entonces \n",
    "\n",
    "$T(n)=\\frac{n^2}{9}+8(\\frac{n^2}{9})$\n",
    "\n",
    "$\\hspace{0.92cm}=n^2$. QED"
   ]
  },
  {
   "cell_type": "markdown",
   "metadata": {},
   "source": [
    "Para ver una solución en Wolfram Mathemática [aquí](https://www.wolframalpha.com/input?i=T%5Bn%5D%3D%3DT%5Bn%2F3%5D%2B8n%5E2%2F9).\n",
    "\n",
    "Regresar al **[Índice](#indice)**."
   ]
  },
  {
   "cell_type": "markdown",
   "metadata": {},
   "source": [
    "<a id='Ejemplo7'></a>\n",
    "### 7. Ejemplo 7"
   ]
  },
  {
   "cell_type": "markdown",
   "metadata": {},
   "source": [
    "**Resuelve**. $T(n)=4T(\\frac{n}{2})+n^2\\lg(n)$."
   ]
  },
  {
   "cell_type": "markdown",
   "metadata": {},
   "source": [
    "**Solución por sustitución**.\n",
    "\n",
    "$T(n)=4^2T(\\frac{n}{2^2})+n^2\\lg(\\frac{n}{2})+n^2\\lg(n)$\n",
    "\n",
    "$\\hspace{0.92cm}=4^2T(\\frac{n}{2^2})+2n^2\\lg(n)-n^2$.\n",
    "\n",
    "$\\hspace{0.92cm}=4^3T(\\frac{n}{2^3})+n^2\\lg(\\frac{n}{2^2})+2n^2\\lg(n)-n^2$\n",
    "\n",
    "$\\hspace{0.92cm}=4^3T(\\frac{n}{2^3})+3n^2\\lg(n)-n^2(1+2).$\n",
    "\n",
    "$\\hspace{0.92cm}=4^kT(\\frac{n}{2^k})+kn^2\\lg(n)-n\\frac{k(k-1)}{2}$.\n",
    "\n",
    "Esta recursión se detiene en el caso base, así que $\\frac{n}{2^k}=1$, es decir, $n=2^k$, o bien $\\lg(n)=k$. Entonces, \n",
    "\n",
    "$T(n)=n^2+n^2(\\lg(n))^2-n^2\\frac{(\\lg(n))^2-\\lg(n)}{2}$\n",
    "\n",
    "$\\hspace{0.92cm}=n^2+n^2(\\lg(n))^2-\\frac{n^2(\\lg(n))^2}{2}+\\frac{n^2\\lg(n)}{2}$\n",
    "\n",
    "$\\hspace{0.92cm}=\\frac{n^2(\\lg(n))^2}{2}+\\frac{n^2\\lg(n)}{2}+n^2$\n",
    "\n",
    "$\\hspace{0.92cm}=\\theta(n^2(\\lg(n))^2).$"
   ]
  },
  {
   "cell_type": "markdown",
   "metadata": {},
   "source": [
    "**Comprobación por inducción sobre $n$.**\n",
    "\n",
    "*Se deja al lector.*"
   ]
  },
  {
   "cell_type": "markdown",
   "metadata": {},
   "source": [
    "Para ver una solución en Wolfram Mathemática [aquí](https://www.wolframalpha.com/input?i=T%5Bn%5D%3D%3D4T%5Bn%2F2%5D%2Bn%5E2*log%28n%29%2Flog%282%29).\n",
    "\n",
    "Regresar al **[Índice](#indice)**."
   ]
  },
  {
   "cell_type": "markdown",
   "metadata": {},
   "source": [
    "### 8. Ejemplo 8\n",
    "\n",
    "**Resuelve**. $T(n)=3T(n^\\frac{1}{2})+\\lg(n)$.\n"
   ]
  },
  {
   "cell_type": "markdown",
   "metadata": {},
   "source": [
    "**Solución por sustitución**.\n",
    "\n",
    "$T(n)=3^kT(2)+\\lg(n)\\sum_{i=0}^{k-1}(\\frac{3}{2})^i$\n",
    "\n",
    "$\\hspace{0.92cm}=3^kT(n^{1/2^k})+\\lg(n)\\frac{(3/2)^k-1}{1/2}$\n",
    "\n",
    "$\\hspace{0.92cm}=3^kT(2)+2\\lg(n)(3^k/2^k-1).$\n",
    "\n",
    "Esta recursión se detiene en el caso base, así que $n^{1/2^k}=2$, es decir, $\\lg(n)=2^k$ y $\\lg\\lg(n)=k$. \n",
    "Además, $3=2^x$ y $\\lg(3)=x$, es decir $3=2^{\\lg(3)}$. Por lo tanto, $3^k=(2^{\\lg(3)})^k=2^{\\lg(3)k}=(2^k)^{\\lg(3)}=\\lg(n)^{\\lg(3)}$\n",
    "\n",
    "Entonces, \n",
    "\n",
    "$T(n)=3^k+2\\lg(n)(3^k/2^k-1)$\n",
    "\n",
    "$\\hspace{0.92cm}=\\lg(n)^{\\lg(3)}+2\\lg(n)(\\lg(n)^{\\lg(3)}/\\lg(n)-1)$\n",
    "\n",
    "$\\hspace{0.92cm}=\\lg(n)^{\\lg(3)}+2\\lg(n)^{\\lg(3)}-2\\lg(n)$\n",
    "\n",
    "$\\hspace{0.92cm}=3\\lg(n)^{\\lg(3)}-2\\lg(n)$\n",
    "\n",
    "$\\hspace{0.92cm}=\\Theta(\\lg(n)^{\\lg(3)}).$"
   ]
  },
  {
   "cell_type": "markdown",
   "metadata": {},
   "source": [
    "**Comprobación por inducción sobre $n$.**\n",
    "\n",
    "*Se deja al lector.*"
   ]
  },
  {
   "cell_type": "markdown",
   "metadata": {},
   "source": [
    "Para ver que resuelve Wolfram Mathemática [aquí](https://www.wolframalpha.com/input?i=T%5Bn%5D%3D%3D3T%5Bn%5E0.5%5D%2Blog%28n%29%2Flog%282%29).\n",
    "\n",
    "Regresar al **[Índice](#indice)**."
   ]
  },
  {
   "cell_type": "code",
   "execution_count": null,
   "metadata": {},
   "outputs": [],
   "source": []
  }
 ],
 "metadata": {
  "kernelspec": {
   "display_name": "Julia 1.9.0",
   "language": "julia",
   "name": "julia-1.9"
  },
  "language_info": {
   "file_extension": ".jl",
   "mimetype": "application/julia",
   "name": "julia",
   "version": "1.9.0"
  }
 },
 "nbformat": 4,
 "nbformat_minor": 4
}
