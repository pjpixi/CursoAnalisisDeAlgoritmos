{
 "cells": [
  {
   "cell_type": "markdown",
   "id": "f7e54d76",
   "metadata": {},
   "source": [
    "# Sesión 01\n",
    "> Por Christian Rubio Montiel"
   ]
  },
  {
   "cell_type": "markdown",
   "id": "ae739528",
   "metadata": {},
   "source": [
    "En esta sesión se realiza la presentación del profesor [Dr. Christian Rubio Montiel](https://sites.google.com/view/rubio-montiel/página-principal) y del curso contenido en la página web de [Análisis de Algoritmos](https://sites.google.com/view/rubio-montiel/página-principal/teaching/analysis-of-algorithms/) (forma de evaluación, temario, bibliografía, reglas generales de la clase, tareas, proyecto, recursos, etc.). Se introduce al lenguaje de programación de [Julia](https://julialang.org) para que el alumno instale y pueda acceder a los notebooks."
   ]
  },
  {
   "cell_type": "markdown",
   "id": "04a21a0e",
   "metadata": {},
   "source": [
    "## Sobre el contenido del curso"
   ]
  },
  {
   "cell_type": "markdown",
   "id": "a83d370f",
   "metadata": {},
   "source": [
    "La bibliografía principal es el libro de Cormen de Análisis de Algoritmos [1] y en mis notas del curso que tomé con el [Dr. Jorge Urrutia Galicia](https://en.wikipedia.org/wiki/Jorge_Urrutia_Galicia) así como material de la [Dra. Dolores Lara Cuevas](https://delta.cs.cinvestav.mx/~dlara/home.html)."
   ]
  },
  {
   "cell_type": "markdown",
   "id": "ee1eaeef",
   "metadata": {},
   "source": [
    "## Sobre el material de Julia"
   ]
  },
  {
   "cell_type": "markdown",
   "id": "cc811772",
   "metadata": {},
   "source": [
    "El material básico de Julia se abordará en las primeras 11 sesiones. En el objetivo de las sesiones 2-11 se encuentra la liga de descarga del Notebook correspondiente.\n",
    "\n",
    "Tal material es una modificación del material compartido y elaborado por el [Dr. Arturo Erdely](https://sites.google.com/site/arturoerdely/programación-en-julia), para el curso DGAPA \"Matemáticas con el lenguaje de programación Julia\" en septiembre de 2021, que posteriormente se modificó para el curso DGAPA [\"Solución de problemas algorítmicos con Julia\"](https://sites.google.com/view/rubio-montiel/página-principal/teaching/solución-algorítmica-de-problemas-con-julia) en junio de 2023."
   ]
  },
  {
   "cell_type": "markdown",
   "id": "ee7293bb",
   "metadata": {},
   "source": [
    "## Referencias"
   ]
  },
  {
   "attachments": {},
   "cell_type": "markdown",
   "id": "479aeb0b",
   "metadata": {},
   "source": [
    "$[1]$ Cormen, T. H., Leiserson, C. E., Rivest, R. L. y Stein C. (2022). **Introduction to algorithms**. MIT Press, 4E."
   ]
  }
 ],
 "metadata": {
  "kernelspec": {
   "display_name": "Julia 1.9.0",
   "language": "julia",
   "name": "julia-1.9"
  },
  "language_info": {
   "file_extension": ".jl",
   "mimetype": "application/julia",
   "name": "julia",
   "version": "1.9.0"
  }
 },
 "nbformat": 4,
 "nbformat_minor": 5
}
