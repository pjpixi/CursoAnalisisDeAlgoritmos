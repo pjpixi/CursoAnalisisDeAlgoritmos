{
 "cells": [
  {
   "cell_type": "markdown",
   "id": "f7e54d76",
   "metadata": {},
   "source": [
    "# Sesión 01\n",
    "> Por Christian Rubio Montiel"
   ]
  },
  {
   "cell_type": "markdown",
   "id": "ae739528",
   "metadata": {},
   "source": [
    "En esta sesión se realiza la presentación del profesor [Dr. Christian Rubio Montiel](https://sites.google.com/view/rubio-montiel/página-principal) y del curso contenido en la página web de [Análisis de Algoritmos](https://sites.google.com/view/rubio-montiel/página-principal/teaching/analysis-of-algorithms/) (forma de evaluación, temario, bibliografía, reglas generales de la clase, tareas, proyecto, recursos, etc.). Se introduce al lenguaje de programación de [Julia](https://julialang.org) para que el alumno instale y pueda acceder a los notebooks."
   ]
  },
  {
   "cell_type": "markdown",
   "id": "04a21a0e",
   "metadata": {},
   "source": [
    "## Sobre el contenido del curso"
   ]
  },
  {
   "cell_type": "markdown",
   "id": "a83d370f",
   "metadata": {},
   "source": [
    "La bibliografía principal es el libro de Cormen de Análisis de Algoritmos [1] y en mis notas del curso que tomé con el [Dr. Jorge Urrutia Galicia](https://en.wikipedia.org/wiki/Jorge_Urrutia_Galicia) así como material de la [Dra. Dolores Lara Cuevas](https://delta.cs.cinvestav.mx/~dlara/home.html)."
   ]
  },
  {
   "cell_type": "markdown",
   "id": "ee1eaeef",
   "metadata": {},
   "source": [
    "## Sobre el material de Julia"
   ]
  },
  {
   "cell_type": "markdown",
   "id": "cc811772",
   "metadata": {},
   "source": [
    "El material básico de Julia se abordará en las primeras 11 sesiones. En el objetivo de las sesiones 2-11 se encuentra la liga de descarga del Notebook correspondiente, o bien se puede obtener en esta [liga](https://www.dropbox.com/scl/fo/qdihv3is01fzz0hi9vzah/h?rlkey=wgdjhgvp5xqq5lt11vmuplmcr&dl=0).\n",
    "\n",
    "Tal material es una modificación del material compartido y elaborado por el [Dr. Arturo Erdely](https://sites.google.com/site/arturoerdely/programación-en-julia), para el curso DGAPA \"Matemáticas con el lenguaje de programación Julia\" en septiembre de 2021 [2], que posteriormente se modificó para el curso DGAPA [\"Solución de problemas algorítmicos con Julia\"](https://sites.google.com/view/rubio-montiel/página-principal/teaching/solución-algorítmica-de-problemas-con-julia) en junio de 2023."
   ]
  },
  {
   "cell_type": "markdown",
   "id": "ee7293bb",
   "metadata": {},
   "source": [
    "## Referencias"
   ]
  },
  {
   "cell_type": "markdown",
   "id": "479aeb0b",
   "metadata": {},
   "source": [
    "$[1]$ Cormen, T. H., Leiserson, C. E., Rivest, R. L. y Stein C. (2022). **Introduction to algorithms**. MIT Press, 4E.\n",
    "\n",
    "$[2]$ Erdely, A. (2022). **introJulia**. Repositorio GitHub [Liga](https://github.com/aerdely/introJulia)."
   ]
  },
  {
   "cell_type": "code",
   "execution_count": null,
   "id": "727f3638",
   "metadata": {},
   "outputs": [],
   "source": []
  }
 ],
 "metadata": {
  "kernelspec": {
   "display_name": "Julia 1.9.2",
   "language": "julia",
   "name": "julia-1.9"
  },
  "language_info": {
   "file_extension": ".jl",
   "mimetype": "application/julia",
   "name": "julia",
   "version": "1.9.2"
  }
 },
 "nbformat": 4,
 "nbformat_minor": 5
}
