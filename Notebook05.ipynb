{
 "cells": [
  {
   "cell_type": "markdown",
   "metadata": {},
   "source": [
    "# Sesión 05\n",
    "> Por Christian Rubio Montiel (CRM).\n",
    "Implementación por  Salvador Uriel Aguirre Andrade, Moisés Borjan Ramírez, Josue Río Campos Becerra, Oscar David Domínguez Dávila, Luis Ramos Guerrero y Kevin Martin Rivera Castro y CRM."
   ]
  },
  {
   "cell_type": "markdown",
   "metadata": {},
   "source": [
    "En esta sesión se abordan distintos algoritmos (factorial, potencia, búsqueda lineal y búsqueda binaria) de forma resursiva y de forma iterativa. Se prueba que son correctos y se calculan tus tiempos de ejecución. Se aborda el uso de funciones de Julia: [Funciones](https://www.dropbox.com/s/kro9vrpfm45gab0/Funciones.ipynb?dl=0)."
   ]
  },
  {
   "cell_type": "markdown",
   "metadata": {},
   "source": [
    "<a id='indice'></a>\n",
    "### Índice\n",
    "---\n",
    "1. **[Factorial de un número](#factorial)**\n",
    "    1. **[Seudocódigo recursivo F](#FacRecursivo)**\n",
    "    2. **[Seudocódigo iterativo F](#FacIterativo)**\n",
    "2. **[Potencia de un número](#potencia)**\n",
    "    1. **[Seudocódigo recursivo P](#PotRecursivo)**\n",
    "    2. **[Seudocódigo iterativo P](#PotIterativo)**\n",
    "    3. **[Otro seudocódigo recursivo P](#PotRecursivo2)**\n",
    "    4. **[Implementación y experimentación del 2do algoritmo recursivo](#implementacionR2)**\n",
    "3. **[Búsqueda Lineal](#lineal)**\n",
    "    1. **[Seudocódigo recursivo BL](#BLRecursivo)**\n",
    "    2. **[Seudocódigo iterativo BL](#BLIterativo)**\n",
    "4. **[Búsqueda Binaria](#binaria)**\n",
    "    1. **[Seudocódigo recursivo BB](#BBRecursivo)**\n",
    "    2. **[Seudocódigo iterativo BB](#BBIterativo)**\n",
    "5. **[Referencias](#referencias)**\n",
    "---"
   ]
  },
  {
   "cell_type": "markdown",
   "metadata": {},
   "source": [
    "<a id='factorial'></a>\n",
    "## 1. Factorial de un número"
   ]
  },
  {
   "cell_type": "markdown",
   "metadata": {},
   "source": [
    "Daremos por hecho que el lector conoce el concepto de factorial, pero por si no fuera el caso, recomiendo estos videos.\n",
    "\n",
    "- Videos acerca de la función factorial [liga](https://www.youtube.com/watch?v=kizZgjJf8Xk&list=PL8Zitp9-nYhvKgcrEyaiQMjv2xQLkaOwK)"
   ]
  },
  {
   "cell_type": "markdown",
   "metadata": {},
   "source": [
    "<a id='FacRecursivo'></a>\n",
    "### A. Seudocódigo recursivo F"
   ]
  },
  {
   "cell_type": "markdown",
   "metadata": {},
   "source": [
    "El siguiente seudocódigo calcula el factorial de $n$ de forma recursiva, cuya entrada es un natural $n$."
   ]
  },
  {
   "cell_type": "markdown",
   "metadata": {},
   "source": [
    "*FACTORIAL-R($n$)*\n",
    "1. **if** $n=0$ **then**\n",
    "2. $\\hspace{0.3cm}$**return** $1$\n",
    "3. **else**\n",
    "4. $\\hspace{0.3cm}$**return** $n·$*FACTORIAL-R($n-1$)*"
   ]
  },
  {
   "cell_type": "markdown",
   "metadata": {},
   "source": [
    "*Veamos que el algoritmo es correcto*. Si $n=0$, el algoritmo termina en la línea 2 devolviendo el valor 1, lo cual es correcto. Así que el algoritmo tiene una iniciación correcta.\n",
    "\n",
    "Supongamos que el algoritmo es correcto para toda $k\\geq 2$ tal que $k<n$, esto es, devuelve $k!$. Cuando el algoritmo recibe la entrada $n$, en la línea 4, devuelve el valor $n·(n-1)!$, de acuerdo a nuestra hipótesis, por lo que devuelve $n!$, es decir, el loop invariante funciona de forma correcta. El algoritmo termina ya que la recursión se detiene en el caso base."
   ]
  },
  {
   "cell_type": "markdown",
   "metadata": {},
   "source": [
    "*Ahora analicemos el tiempo de ejecución del algoritmo $T(n)$*. Cada una de las líneas, de la 1. a la 3. tienen un tiempo de ejecución constante, esto es $\\theta(1)$. La línea 4. tiene un tiempo de ejecución que no sabemos, pero es sobre el mismo algoritmo en la entrada $n-1$, esto es, $T(n-1)$ y realiza una multiplicación cuyo tiempo es constante.\n",
    "\n",
    "Entonces de acuerdo a nuestro análisis, $T(n)=T(n-1)+\\theta(1)$. Al sustituir $T(n-1)=T(n-2)+\\theta(1)$, obtenemos $T(n)=T(n-2)+2\\theta(1)$, y al sustituir $T(n-2)=T(n-3)+\\theta(1)$, obtenemos $T(n)=T(n-3)+3\\theta(1)$. Si seguimos este razonamiento, en la $k$-ésima sustitución obtenemos\n",
    "$$T(n)=T(n-k)+k\\theta(1)$$\n",
    "\n",
    "que se detiene cuando $n-k=0$, es decir que $T(n)=T(0)+n\\theta(1)=\\theta(1)+\\theta(n)=\\theta(n)$, por lo que el algortimo es lineal. En la siguiente sesión veremos cómo comprobar que la solución de una recursión es correcta.\n",
    "\n",
    "A continuación, daremos su implementación y experimentación."
   ]
  },
  {
   "cell_type": "code",
   "execution_count": 1,
   "metadata": {},
   "outputs": [
    {
     "data": {
      "text/plain": [
       "FACTORIAL_R (generic function with 1 method)"
      ]
     },
     "execution_count": 1,
     "metadata": {},
     "output_type": "execute_result"
    }
   ],
   "source": [
    "function FACTORIAL_R(n)\n",
    "    if n==0\n",
    "        return 1\n",
    "    else\n",
    "        return n*FACTORIAL_R(n-1)\n",
    "    end\n",
    "end"
   ]
  },
  {
   "cell_type": "code",
   "execution_count": 2,
   "metadata": {},
   "outputs": [
    {
     "data": {
      "text/plain": [
       "3628800"
      ]
     },
     "execution_count": 2,
     "metadata": {},
     "output_type": "execute_result"
    }
   ],
   "source": [
    "FACTORIAL_R(10)"
   ]
  },
  {
   "cell_type": "code",
   "execution_count": 26,
   "metadata": {},
   "outputs": [
    {
     "name": "stdout",
     "output_type": "stream",
     "text": [
      "0 8.0e-8\n",
      "1 5.46e-7\n",
      "2 1.13e-7\n",
      "3 6.2e-8\n",
      "4 6.1e-8\n",
      "5 7.1e-8\n",
      "6 1.24e-7\n",
      "7 1.37e-7\n",
      "8 1.42e-7\n",
      "9 1.29e-7\n",
      "10 8.3e-8\n",
      "11 7.8e-8\n",
      "12 1.41e-7\n",
      "13 9.1e-8\n",
      "14 9.2e-8\n",
      "15 1.11e-7\n",
      "16 9.3e-8\n",
      "17 1.55e-7\n",
      "18 1.45e-7\n",
      "19 1.24e-7\n",
      "20 1.49e-7\n"
     ]
    }
   ],
   "source": [
    "for j in 0:20\n",
    "println(j, \" \", @elapsed FACTORIAL_R(j))\n",
    "end"
   ]
  },
  {
   "cell_type": "markdown",
   "metadata": {},
   "source": [
    "Veamos que para la versión recursiva, tomar los valores de los primeros 20 factoriales, y en cada uno de ellos tiene un tiempo de ejecución constante prácticamente nulo. Notemos que FactorialR(21) es mayor que 9223372036854775807, el número entero más grande expresable a 64 bits. Esto se debe, a que la salida crece de manera más que exponencial. Si se desea obtener el $n!$ con $n\\geq 21$, se tiene que modificar el algoritmo para que trabaje con números de tipo 128 bits, `BigInt` o flotantes."
   ]
  },
  {
   "cell_type": "markdown",
   "metadata": {},
   "source": [
    "Regresar al **[Índice](#indice)**."
   ]
  },
  {
   "cell_type": "markdown",
   "metadata": {},
   "source": [
    "<a id='FacIterativo'></a>\n",
    "### B. Seudocódigo iterativo F"
   ]
  },
  {
   "cell_type": "markdown",
   "metadata": {},
   "source": [
    "El siguiente seudocódigo calcula el factorial de $n$ de forma iterativa, cuya entrada es un natural $n$."
   ]
  },
  {
   "cell_type": "markdown",
   "metadata": {},
   "source": [
    "*FACTORIAL-I($n$)*\n",
    "1. $x=1$\n",
    "2. **for** $i=1$ **to** $n$ **do**\n",
    "3. $\\hspace{0.55cm}x=i·x$\n",
    "4. **return** $x$"
   ]
  },
  {
   "cell_type": "markdown",
   "metadata": {},
   "source": [
    "*Primero veamos que el algoritmo es correcto*. Si $n=0$, entra la línea 1 y toma el valor $x=1$, el ciclo for no entra ya que el rango es vacío, y el algoritmo termina en la línea 4 devolviendo el valor 1, lo cual es correcto. Así que el algoritmo tiene una iniciación correcta.\n",
    "\n",
    "Supongamos que el algoritmo es correcto para toda $k\\geq 2$ tal que $k<n$. Cuando el algoritmo recibe la entrada $n$, en la línea 1. $x=1$, en la línea 2. entra el ciclo for. Para ver que el ciclo for funciona correctamente, supongamos $n=1$, entonces en la línea 2. la variable $i$ tiene un rango de $1$. En este valor de $i=1$, las siguientes líneas actualizan los valores de $x=1$ a $x=1·1=1$, devolviendo en la línea 4. el valor de $1$, lo cual es correcto. Supongamos válido que para $k$ (con $2\\leq k <n $), entonces en la línea 2. la variable $i$ tiene un rango de $1,\\dots,n$. En este valor de $i=k$, supongamos que las siguientes líneas actualizan los valores a $x=k!$. Luego, en la siguiente iteración, $i=k+1$, las siguientes líneas actualizan los valores de $x=k!$ a $x=k!(k+1)=(k+1)!$, lo cual es correcto. Finalmente, en la última iteración, $i=n$, las siguiente línea actualiza el valor de $x$ a $n!$. El algoritmo temina en la línea 4. que devuelve el valor de $x$, es decir, termina devolviendo $n!$."
   ]
  },
  {
   "cell_type": "markdown",
   "metadata": {},
   "source": [
    "*Ahora analicemos el tiempo de ejecución del algoritmo $T(n)$*. Cada una de las líneas, de la 1. y 4. tienen un tiempo de ejecución constante, esto es $\\theta(1)$. Las líneas 2. y 3. tienen un tiempo de ejecución lineal, es decir $\\theta(n)$, por lo que $T(n)=\\theta(n)$.\n",
    "\n",
    "A continuación, daremos su implementación y experimentación."
   ]
  },
  {
   "cell_type": "code",
   "execution_count": 4,
   "metadata": {},
   "outputs": [
    {
     "data": {
      "text/plain": [
       "FACTORIAL_I (generic function with 1 method)"
      ]
     },
     "execution_count": 4,
     "metadata": {},
     "output_type": "execute_result"
    }
   ],
   "source": [
    "function FACTORIAL_I(n)\n",
    "    x=1\n",
    "    for i in 1:n\n",
    "        x = i*x\n",
    "    end\n",
    "    return x\n",
    "end"
   ]
  },
  {
   "cell_type": "code",
   "execution_count": 5,
   "metadata": {},
   "outputs": [
    {
     "data": {
      "text/plain": [
       "3628800"
      ]
     },
     "execution_count": 5,
     "metadata": {},
     "output_type": "execute_result"
    }
   ],
   "source": [
    "FACTORIAL_I(10)"
   ]
  },
  {
   "cell_type": "code",
   "execution_count": 27,
   "metadata": {},
   "outputs": [
    {
     "name": "stdout",
     "output_type": "stream",
     "text": [
      "0 7.2e-8\n",
      "1 6.3e-8\n",
      "2 6.8e-8\n",
      "3 6.0e-8\n",
      "4 8.1e-8\n",
      "5 7.6e-8\n",
      "6 7.9e-8\n",
      "7 9.1e-8\n",
      "8 7.6e-8\n",
      "9 8.2e-8\n",
      "10 8.1e-8\n",
      "11 8.5e-8\n",
      "12 9.0e-8\n",
      "13 9.2e-8\n",
      "14 8.7e-8\n",
      "15 8.8e-8\n",
      "16 9.0e-8\n",
      "17 9.3e-8\n",
      "18 9.8e-8\n",
      "19 1.0e-7\n",
      "20 1.01e-7\n"
     ]
    }
   ],
   "source": [
    "for j in 0:20\n",
    "println(j, \" \", @elapsed FACTORIAL_I(j))\n",
    "end"
   ]
  },
  {
   "cell_type": "markdown",
   "metadata": {},
   "source": [
    "Veamos que para la versión iterativa, tomar los valores de los primeros 20 factoriales, y en cada uno de ellos tiene un tiempo de ejecución constante prácticamente nulo. Notemos que FactorialI(21) es mayor que 9223372036854775807, el número entero más grande expresable a 64 bits. Esto se debe, a que la salida crece de manera más que exponencial. Si se desea obtener el $n!$ con $n\\geq 21$, se tiene que modificar el algoritmo para que trabaje con números de tipo 128 bits, `BigInt` o flotantes."
   ]
  },
  {
   "cell_type": "markdown",
   "metadata": {},
   "source": [
    "Regresar al **[Índice](#indice)**."
   ]
  },
  {
   "cell_type": "markdown",
   "metadata": {},
   "source": [
    "<a id='potencia'></a>\n",
    "## 2. Potencia de un número"
   ]
  },
  {
   "cell_type": "markdown",
   "metadata": {},
   "source": [
    "El profesor dará como ejercicio en clase que el alumno justifique que los siguientes algoritmos en pseudocódigo son correctos, además de calcular su tiempo de ejecución.\n",
    "\n",
    "Para indagar un poco acerca de la expresión $0^0$ ver:\n",
    "- Video [liga](https://youtu.be/lqBXU-9Y3kU)"
   ]
  },
  {
   "cell_type": "markdown",
   "metadata": {},
   "source": [
    "<a id='PotRecursivo'></a>\n",
    "### A. Seudocódigo recursivo P"
   ]
  },
  {
   "cell_type": "markdown",
   "metadata": {},
   "source": [
    "El siguiente seudocódigo calcula la $n$-ésima potencia de un número $a$ de forma recursiva, cuya entrada son dos números: $a$ un número natural ($a\\not = 0$) y un número natural $n$."
   ]
  },
  {
   "cell_type": "markdown",
   "metadata": {},
   "source": [
    "*POTENCIA-R($a,n$)*\n",
    "1. **if** $n=0$ **then**\n",
    "2. $\\hspace{0.3cm}$**return** $1$\n",
    "3. **else**\n",
    "4. $\\hspace{0.3cm}$**return** $a·$*POTENCIA-R($a,n-1$)*"
   ]
  },
  {
   "cell_type": "code",
   "execution_count": 7,
   "metadata": {},
   "outputs": [
    {
     "data": {
      "text/plain": [
       "POTENCIA_R (generic function with 1 method)"
      ]
     },
     "execution_count": 7,
     "metadata": {},
     "output_type": "execute_result"
    }
   ],
   "source": [
    "function POTENCIA_R(a,n)\n",
    "    if n==0\n",
    "        return 1\n",
    "    else\n",
    "        return a*POTENCIA_R(a,n-1)\n",
    "    end\n",
    "end"
   ]
  },
  {
   "cell_type": "code",
   "execution_count": 8,
   "metadata": {},
   "outputs": [
    {
     "data": {
      "text/plain": [
       "125"
      ]
     },
     "execution_count": 8,
     "metadata": {},
     "output_type": "execute_result"
    }
   ],
   "source": [
    "POTENCIA_R(5,3)"
   ]
  },
  {
   "cell_type": "markdown",
   "metadata": {},
   "source": [
    "Se deja al alumno, modificar el seudocódigo y el código para que incluya la entrada $a=0$ cuya salida sea $1$, exceptuando el caso de $n=0$."
   ]
  },
  {
   "cell_type": "markdown",
   "metadata": {},
   "source": [
    "Regresar al **[Índice](#indice)**."
   ]
  },
  {
   "cell_type": "markdown",
   "metadata": {},
   "source": [
    "<a id='PotIterativo'></a>\n",
    "### B. Seudocódigo iterativo P"
   ]
  },
  {
   "cell_type": "markdown",
   "metadata": {},
   "source": [
    "El siguiente seudocódigo calcula la $n$-ésima potencia de un número $a$ de forma iterativa, cuya entrada son dos números: $a$ un número natural ($a\\not = 0$) y un número natural $n$."
   ]
  },
  {
   "cell_type": "markdown",
   "metadata": {},
   "source": [
    "*POTENCIA-I($a,n$)*\n",
    "1. $x=1$\n",
    "2. **for** $i=1$ **to** $n$ **do**\n",
    "3. $\\hspace{0.55cm}x=a·x$\n",
    "4. **return** $x$"
   ]
  },
  {
   "cell_type": "code",
   "execution_count": 9,
   "metadata": {},
   "outputs": [
    {
     "data": {
      "text/plain": [
       "POTENCIA_I (generic function with 1 method)"
      ]
     },
     "execution_count": 9,
     "metadata": {},
     "output_type": "execute_result"
    }
   ],
   "source": [
    "function POTENCIA_I(a,n)\n",
    "    x=1\n",
    "    for i in 1:n\n",
    "        x=a*x\n",
    "    end\n",
    "    return x\n",
    "end"
   ]
  },
  {
   "cell_type": "code",
   "execution_count": 10,
   "metadata": {},
   "outputs": [
    {
     "data": {
      "text/plain": [
       "125"
      ]
     },
     "execution_count": 10,
     "metadata": {},
     "output_type": "execute_result"
    }
   ],
   "source": [
    "POTENCIA_I(5,3)"
   ]
  },
  {
   "cell_type": "markdown",
   "metadata": {},
   "source": [
    "Se deja al alumno, modificar el seudocódigo y el código para que incluya la entrada $a=0$ cuya salida sea $1$, exceptuando el caso de $n=0$."
   ]
  },
  {
   "cell_type": "markdown",
   "metadata": {},
   "source": [
    "Regresar al **[Índice](#indice)**."
   ]
  },
  {
   "cell_type": "markdown",
   "metadata": {},
   "source": [
    "<a id='PotRecursivo2'></a>\n",
    "### C. Otro seudocódigo recursivo P"
   ]
  },
  {
   "cell_type": "markdown",
   "metadata": {},
   "source": [
    "Una pregunta natural acerca de un algoritmo que resuelve un problema dado, refiera a su eficiencia, esto es, si existirá un algoritmo con un menor tiempo de ejecución. Veamos el siguiente algoritmo recursivo."
   ]
  },
  {
   "cell_type": "markdown",
   "metadata": {},
   "source": [
    "El siguiente seudocódigo calcula la $n$-ésima potencia de un número $a$ de forma recursiva, cuya entrada son dos números: $a$ un número natural ($a\\not = 0$) y un número natural $n$."
   ]
  },
  {
   "cell_type": "markdown",
   "metadata": {},
   "source": [
    "*POTENCIA-R2($a,n$)*\n",
    "1. **if** $n=0$ **then**\n",
    "2. $\\hspace{0.3cm}$**return** $1$\n",
    "3. $\\hspace{0.3cm}$**else**\n",
    "4. $\\hspace{0.3cm}mitad=$ POTENCIA-R2($a,\\left\\lfloor n/2\\right\\rfloor $)\n",
    "5. $\\hspace{0.3cm}$**if** $n$ es par **then**\n",
    "6. $\\hspace{0.6cm}$**return** $mitad^2$\n",
    "7. $\\hspace{0.6cm}$**else**\n",
    "8. $\\hspace{0.6cm}$**return** $a·mitad^2$"
   ]
  },
  {
   "cell_type": "markdown",
   "metadata": {},
   "source": [
    "*Veamos que el algoritmo es correcto*. Si $n=0$, el algoritmo termina devolviendo el valor 1, lo cual es correcto. Así que el algoritmo tiene una iniciación correcta.\n",
    "\n",
    "Supongamos que el algoritmo es correcto para toda $k\\geq 0$ tal que $k<n$, esto es, devuelve $a^k$. Cuando el algoritmo recibe la entrada $n$, en la línea 4, define $mitad$ como $a^{\\left\\lfloor n/2\\right\\rfloor}$. En la línea 5, si $n=2k$, entonces devuelve el valor $(a^k)^2=a^{2k}=a^n$. Si $n=2k+1$, entonces devuelve el valor $a(a^k)^2=a^{2k+1}=a^n$, es decir, el loop invariante funciona de forma correcta. El algoritmo termina ya que la recursión se detiene en el caso base."
   ]
  },
  {
   "cell_type": "markdown",
   "metadata": {},
   "source": [
    "*Ahora analicemos el tiempo de ejecución del algoritmo $T(n)$*. Cada una de las líneas, de la 1. a la 3. tienen un tiempo de ejecución constante, esto es $\\theta(1)$. La línea 4. tiene un tiempo de ejecución que no sabemos, pero es sobre el mismo algoritmo en la entrada $n/2$, esto es, $T(n/2)$. El resto de líneas tienen un tiempo de ejecución constante, esto es $\\theta(1)$.\n",
    "\n",
    "Entonces de acuerdo a nuestro análisis, $T(n)=T(n/2)+\\theta(1)$. Al sustituir $T(n/2)=T(n/2^2)+\\theta(1)$ obtenemos $T(n)=T(n/2^2)+2\\theta(1)$, y al sustituir $T(n/2^2)=T(n/2^3)+\\theta(1)$, obtenemos $T(n)=T(n/2^3)+3\\theta(1)$. Si seguimos este razonamiento, en la $k$-ésima sustitución obtenemos\n",
    "$$T(n)=T(n/2^k)+k\\theta(1)$$\n",
    "\n",
    "que lo detenemos cuando $n/2^k=1$, es decir, $n=2^k$ o dicho de otro modo, $\\lg (n)=k$; con lo que obtenemos $T(n)=T(1)+\\lg (n)\\theta(1)=\\theta(1)+\\theta(\\lg (n))=\\theta(\\lg (n))$, por lo que el algortimo es de tiempo logarítmico. En la siguiente sesión veremos cómo comprobar que la solución de una recursión es correcta.\n",
    "\n",
    "Nota: $\\log_2$ lo denotamos como $\\lg$. \n",
    "\n",
    "A continuación, daremos su implementación y experimentación."
   ]
  },
  {
   "cell_type": "markdown",
   "metadata": {},
   "source": [
    "Regresar al **[Índice](#indice)**."
   ]
  },
  {
   "cell_type": "markdown",
   "metadata": {},
   "source": [
    "<a id='implementacionR2'></a>\n",
    "### D. Implementación y experimentación del 2do algoritmo recursivo"
   ]
  },
  {
   "cell_type": "code",
   "execution_count": 11,
   "metadata": {},
   "outputs": [
    {
     "data": {
      "text/plain": [
       "POTENCIA_R2 (generic function with 1 method)"
      ]
     },
     "execution_count": 11,
     "metadata": {},
     "output_type": "execute_result"
    }
   ],
   "source": [
    "function POTENCIA_R2(a,n)\n",
    "    if n == 0\n",
    "        return 1\n",
    "    else\n",
    "        m = POTENCIA_R2(a,div(n,2)) # o también se puede usar floor(Int,n/2) en lugar de div(n,2)\n",
    "        if iseven(n) # o también se puede usar n%2 == 0 en lugar de iseven(n)\n",
    "            return m^2\n",
    "            else\n",
    "            return a * m^2\n",
    "        end\n",
    "    end\n",
    "end"
   ]
  },
  {
   "cell_type": "code",
   "execution_count": 12,
   "metadata": {},
   "outputs": [
    {
     "data": {
      "text/plain": [
       "125"
      ]
     },
     "execution_count": 12,
     "metadata": {},
     "output_type": "execute_result"
    }
   ],
   "source": [
    "POTENCIA_R2(5,3)"
   ]
  },
  {
   "cell_type": "code",
   "execution_count": 28,
   "metadata": {},
   "outputs": [
    {
     "name": "stdout",
     "output_type": "stream",
     "text": [
      "0 4.59e-7\n",
      "1 7.8e-8\n",
      "2 6.6e-8\n",
      "3 6.4e-8\n",
      "4 6.4e-8\n",
      "5 5.5e-8\n",
      "6 4.5e-8\n",
      "7 4.5e-8\n",
      "8 5.8e-8\n",
      "9 5.3e-8\n",
      "10 4.6e-8\n",
      "11 4.6e-8\n",
      "12 4.6e-8\n",
      "13 4.7e-8\n",
      "14 1.88e-7\n",
      "15 4.9e-8\n",
      "16 7.7e-8\n",
      "17 5.3e-8\n",
      "18 5.1e-8\n",
      "19 5.1e-8\n",
      "20 4.8e-8\n",
      "21 4.8e-8\n",
      "22 4.7e-8\n",
      "23 4.7e-8\n",
      "24 4.8e-8\n",
      "25 5.0e-8\n",
      "26 4.8e-8\n",
      "27 4.9e-8\n",
      "28 4.8e-8\n",
      "29 1.71e-7\n",
      "30 4.9e-8\n",
      "31 4.9e-8\n",
      "32 6.5e-8\n",
      "33 6.3e-8\n",
      "34 6.2e-8\n",
      "35 6.4e-8\n",
      "36 6.1e-8\n",
      "37 6.3e-8\n",
      "38 6.3e-8\n",
      "39 6.3e-8\n",
      "40 1.51e-7\n",
      "41 1.14e-7\n",
      "42 5.8e-8\n",
      "43 6.0e-8\n",
      "44 5.9e-8\n",
      "45 5.9e-8\n",
      "46 5.8e-8\n",
      "47 5.8e-8\n",
      "48 5.8e-8\n",
      "49 5.9e-8\n",
      "50 5.5e-8\n",
      "51 5.6e-8\n",
      "52 5.5e-8\n",
      "53 5.6e-8\n",
      "54 5.5e-8\n",
      "55 6.0e-8\n",
      "56 1.18e-7\n",
      "57 6.4e-8\n",
      "58 6.6e-8\n",
      "59 6.6e-8\n",
      "60 6.4e-8\n",
      "61 6.7e-8\n",
      "62 6.4e-8\n"
     ]
    }
   ],
   "source": [
    "for j in 0:62\n",
    "println(j, \" \", @elapsed POTENCIA_R2(2,j))\n",
    "end"
   ]
  },
  {
   "cell_type": "markdown",
   "metadata": {},
   "source": [
    "Notemos que 2^63 es mayor que 9223372036854775807, el número entero más grande expresable a 64 bits. Esto se debe, a que la salida crece de manera exponencial. Si se desea obtener el $n$-ésimo número de fibonacci con $n\\geq 63$, se tiene que modificar el algoritmo para que trabaje con números de tipo 128 bits, `BigInt` o flotantes."
   ]
  },
  {
   "cell_type": "markdown",
   "metadata": {},
   "source": [
    "Se deja al alumno, modificar el seudocódigo y el código para que incluya la entrada $a=0$ cuya salida sea $1$, exceptuando el caso de $n=0$."
   ]
  },
  {
   "cell_type": "markdown",
   "metadata": {},
   "source": [
    "Para indagar más sobre algoritmos de multiplicación, ver los siguientes recursos:\n",
    "\n",
    "- Video sobre algoritmos de mutiplicar 2 números [liga](https://youtu.be/ulBEE30G3SE)\n",
    "\n",
    "- Artículo sobre el producto de multiplicar matrices [liga](https://www.quantamagazine.org/mathematicians-inch-closer-to-matrix-multiplication-goal-20210323/)\n"
   ]
  },
  {
   "cell_type": "markdown",
   "metadata": {},
   "source": [
    "Regresar al **[Índice](#indice)**."
   ]
  },
  {
   "cell_type": "markdown",
   "metadata": {},
   "source": [
    "<a id='lineal'></a>\n",
    "## 3. Búsqueda Lineal"
   ]
  },
  {
   "cell_type": "markdown",
   "metadata": {},
   "source": [
    "Dado un arreglo $A$, si deseamos saber si contiene un elemento $x$, una manera de hacerlo es recorrer cada entrada de $A$ y ver si $a_i$ coincide con $x$ para algún $i$. Este algoritmo que busca elemento por elemento se conoce como *búsqueda lineal*."
   ]
  },
  {
   "cell_type": "markdown",
   "metadata": {},
   "source": [
    "<a id='BLRecursivo'></a>\n",
    "### A. Seudocódigo recursivo BL"
   ]
  },
  {
   "cell_type": "markdown",
   "metadata": {},
   "source": [
    "Dado un arreglo $A$ de elementos, la entrada de este algoritmo es el rango de $i$ a $j$ en $A$ ($1\\leq i \\leq j\\leq n$), y el elemento $x$ a buscar.\n",
    "\n",
    "El algoritmo devuelve como salida, la posición $i$ en el arreglo $A$ que coincide con $x$. En dado caso que el elemento no se encuentre en $A$, el algoritmo manda el mensaje \"No está x\"."
   ]
  },
  {
   "cell_type": "markdown",
   "metadata": {},
   "source": [
    "*BUSQUEDA-LINEAL-R($i,j,x,A$)*\n",
    "1. **if** $a_i=x$ **then**\n",
    "2. $\\hspace{0.3cm}$**return** $i$\n",
    "3. $\\hspace{0.3cm}$**elseif** $i=j$ **then**\n",
    "4. $\\hspace{1cm}$**return** \"No está x\"\n",
    "5. $\\hspace{1cm}$**else**\n",
    "6. $\\hspace{1cm}$**return** *BUSQUEDA-LINEAL-R($i+1,j,x,A$)*"
   ]
  },
  {
   "cell_type": "markdown",
   "metadata": {},
   "source": [
    "*Veamos que el algoritmo es correcto*. La longitud de intervalo es $j-i+1\\leq n$, el caso base es cuando $j-i+1=1$, es decir, cuando $i=j$. Tenemos dos casos: \n",
    "- Caso 1. $a_i=x$ entonces se devuelve el índice $i$.\n",
    "- Caso 2. $a_i\\not =x$ entonces se devuelve  el mensaje \"No está x\".\n",
    "Así que el algoritmo tiene una iniciación correcta.\n",
    "\n",
    "Supongamos que el algoritmo es correcto cuando el intervalo es $j-i+1=k$ para toda $k\\geq 1$ tal que $k<n$, esto es, devuelve el índice adecuado si $x$ está en el intervalo, o en el caso contrario, devuelve el mensaje \"No está x\". Cuando el algoritmo recibe una entrada de longitud $k+1$, en la línea 1. se revisa si $a_i=x$, en cuyo caso se devuelve el índice $i$. En caso contrario, como $i\\not=j$ entonces la línea 6., por hipótesis, devuelve el índice adecuado si $x$ está en el intervalo, o en el caso contrario, devuelve el mensaje \"No está x\", es decir, el loop invariante funciona de forma correcta. El algoritmo termina ya que la recursión se detiene en el caso base."
   ]
  },
  {
   "cell_type": "markdown",
   "metadata": {},
   "source": [
    "*Ahora analicemos el tiempo de ejecución del algoritmo $T(n)$*. Cada una de las líneas, de la 1. a la 5. tienen un tiempo de ejecución constante, esto es $\\theta(1)$. La línea 6. tiene un tiempo de ejecución que no sabemos, pero es sobre el mismo algoritmo en la entrada $n-1$, esto es, $T(n-1)$.\n",
    "\n",
    "Entonces de acuerdo a nuestro análisis, $T(n)=T(n-1)+\\theta(1)$, que como ya vimos, $T(n)=\\theta(n)$.\n",
    "\n",
    "A continuación, daremos su implementación."
   ]
  },
  {
   "cell_type": "code",
   "execution_count": 14,
   "metadata": {},
   "outputs": [
    {
     "data": {
      "text/plain": [
       "BUSQUEDA_LINEAL_R (generic function with 1 method)"
      ]
     },
     "execution_count": 14,
     "metadata": {},
     "output_type": "execute_result"
    }
   ],
   "source": [
    "function BUSQUEDA_LINEAL_R(i,j,x,A)\n",
    "    if A[i] == x\n",
    "            return i\n",
    "    elseif i==j\n",
    "            return \"No está x\"\n",
    "    else\n",
    "    return BUSQUEDA_LINEAL_R(i+1,j,x,A)\n",
    "    end\n",
    "end"
   ]
  },
  {
   "cell_type": "code",
   "execution_count": 15,
   "metadata": {},
   "outputs": [
    {
     "data": {
      "text/plain": [
       "\"No está x\""
      ]
     },
     "execution_count": 15,
     "metadata": {},
     "output_type": "execute_result"
    }
   ],
   "source": [
    "A=[33,44,1,2,3,4,5,6,7,8,9,10,11,12,13,14,15,16,17,18,19,20,21,22,23,24,25,26,27,28,29,30,31,32];\n",
    "x=22;\n",
    "BUSQUEDA_LINEAL_R(1,20,x,A)"
   ]
  },
  {
   "cell_type": "code",
   "execution_count": 16,
   "metadata": {},
   "outputs": [
    {
     "data": {
      "text/plain": [
       "24"
      ]
     },
     "execution_count": 16,
     "metadata": {},
     "output_type": "execute_result"
    }
   ],
   "source": [
    "A=[33,44,1,2,3,4,5,6,7,8,9,10,11,12,13,14,15,16,17,18,19,20,21,22,23,24,25,26,27,28,29,30,31,32];\n",
    "x=22;\n",
    "BUSQUEDA_LINEAL_R(1,34,x,A)"
   ]
  },
  {
   "cell_type": "markdown",
   "metadata": {},
   "source": [
    "Regresar al **[Índice](#indice)**."
   ]
  },
  {
   "cell_type": "markdown",
   "metadata": {},
   "source": [
    "<a id='BLIterativo'></a>\n",
    "### B. Seudocódigo iterativo BL"
   ]
  },
  {
   "cell_type": "markdown",
   "metadata": {},
   "source": [
    "Dado un arreglo $A$ de elementos, la entrada de este algoritmo es el rango de $i$ a $j$ en $A$ ($1\\leq i \\leq j\\leq n$), y el elemento $x$ a buscar.\n",
    "\n",
    "El algoritmo devuelve como salida, la posición $i$ en el arreglo $A$ que coincide con $x$. En dado caso que el elemento no se encuentre en $A$, el algoritmo manda el mensaje \"No está x\"."
   ]
  },
  {
   "cell_type": "markdown",
   "metadata": {},
   "source": [
    "*BUSQUEDA-LINEAL-I($i,j,x,A$)*\n",
    "1. **for** $k=i$ **to** $j$ **do**\n",
    "2. $\\hspace{0.3cm}$**if** $a_k=x$ **then**\n",
    "3. $\\hspace{0.6cm}$**return** $k$\n",
    "4. **return** \"No está x\""
   ]
  },
  {
   "cell_type": "markdown",
   "metadata": {},
   "source": [
    "El profesor dejará al alumno que verifique *que el algoritmo es correcto*."
   ]
  },
  {
   "cell_type": "markdown",
   "metadata": {},
   "source": [
    "El profesor dejará al alumno que verifique *el tiempo de ejecución*."
   ]
  },
  {
   "cell_type": "code",
   "execution_count": 17,
   "metadata": {},
   "outputs": [
    {
     "data": {
      "text/plain": [
       "BUSQUEDA_LINEAL_I (generic function with 1 method)"
      ]
     },
     "execution_count": 17,
     "metadata": {},
     "output_type": "execute_result"
    }
   ],
   "source": [
    "function BUSQUEDA_LINEAL_I(i,j,x,A)\n",
    "    for k in i:j\n",
    "        if A[k] == x\n",
    "            return k\n",
    "        end\n",
    "    end\n",
    "    return \"No está x\"\n",
    "end"
   ]
  },
  {
   "cell_type": "code",
   "execution_count": 18,
   "metadata": {},
   "outputs": [
    {
     "data": {
      "text/plain": [
       "\"No está x\""
      ]
     },
     "execution_count": 18,
     "metadata": {},
     "output_type": "execute_result"
    }
   ],
   "source": [
    "A=[33,44,1,2,3,4,5,6,7,8,9,10,11,12,13,14,15,16,17,18,19,20,21,22,23,24,25,26,27,28,29,30,31,32];\n",
    "x=22;\n",
    "BUSQUEDA_LINEAL_I(1,1,x,A)"
   ]
  },
  {
   "cell_type": "code",
   "execution_count": 19,
   "metadata": {},
   "outputs": [
    {
     "data": {
      "text/plain": [
       "24"
      ]
     },
     "execution_count": 19,
     "metadata": {},
     "output_type": "execute_result"
    }
   ],
   "source": [
    "A=[33,44,1,2,3,4,5,6,7,8,9,10,11,12,13,14,15,16,17,18,19,20,21,22,23,24,25,26,27,28,29,30,31,32];\n",
    "x=22;\n",
    "BUSQUEDA_LINEAL_I(1,length(A),x,A)"
   ]
  },
  {
   "cell_type": "markdown",
   "metadata": {},
   "source": [
    "Regresar al **[Índice](#indice)**."
   ]
  },
  {
   "cell_type": "markdown",
   "metadata": {},
   "source": [
    "<a id='binaria'></a>\n",
    "## 4. Búsqueda Binaria"
   ]
  },
  {
   "cell_type": "markdown",
   "metadata": {},
   "source": [
    "Dado un arreglo $A$ ordenado (de menor a mayor por simplicidad), si deseamos saber si contiene un elemento $x$, una manera de hacerlo es ir a la entrada que está a la mitad de $A$ y ver si $a_i\\leq x$ o bien $a_i>x$, así, con una comparación, descartamos la mitad de elementos (esencialmente). Este algoritmo que recuerda al método de bisección de métodos numéricos, se conoce como *búsqueda binaria*."
   ]
  },
  {
   "cell_type": "markdown",
   "metadata": {},
   "source": [
    "<a id='BBRecursivo'></a>\n",
    "### A. Seudocódigo recursivo BB"
   ]
  },
  {
   "cell_type": "markdown",
   "metadata": {},
   "source": [
    "Dado un arreglo $A$ de elementos ordenados, la entrada de este algoritmo es el rango de $i$ a $j$ en $A$ ($1\\leq i \\leq j\\leq n$), y el elemento $x$ a buscar.\n",
    "\n",
    "El algoritmo devuelve como salida, la posición $i$ en el arreglo $A$ que coincide con $x$. En dado caso que el elemento no se encuentre en $A$, el algoritmo manda el mensaje \"No está x\"."
   ]
  },
  {
   "cell_type": "markdown",
   "metadata": {},
   "source": [
    "*BUSQUEDA-BINARIA-R($i,j,x,A$)*\n",
    "1. $mitad=\\left\\lceil (i+j-1)/2\\right\\rceil$\n",
    "2. **if** $x=a_{mitad}$ **then**\n",
    "3. $\\hspace{0.3cm}$**return** $mitad$\n",
    "4. $\\hspace{0.3cm}$**elseif** $x<a_{mitad}$ y $i<mitad$ **then**\n",
    "5. $\\hspace{1cm}$*BUSQUEDA-BINARIA-R($i,mitad-1,x,A$)*\n",
    "6. $\\hspace{0.3cm}$**elseif** $x>a_{mitad}$ y $j>mitad$ **then**\n",
    "7. $\\hspace{1cm}$*BUSQUEDA-BINARIA-R($mitad+1,j,x,A$)*\n",
    "8. $\\hspace{0.3cm}$**else** **return** \"No está x\""
   ]
  },
  {
   "cell_type": "markdown",
   "metadata": {},
   "source": [
    "*Veamos que el algoritmo es correcto*. La longitud de intervalo es $j-i+1\\leq n$, el caso base es cuando $j-i+1=1$, es decir, cuando $i=j$. La línea 1. nos indica que $mitad=\\left\\lceil i-1/2\\right\\rceil=i$. Tenemos dos casos: \n",
    "- Caso 1. $a_{mitad}=x$ entonces se devuelve el índice $mitad$.\n",
    "- Caso 2. $a_{mitad}\\not =x$ entonces la línea 4. no entra ya que $i<mitad=i$ no se cumple, similarmente, la línea 4. tampoco entra ya que $j=i>mitad=i$ no se cumple. Finalmente, la línea 8. devuelve  el mensaje \"No está x\".\n",
    "Así que el algoritmo tiene una iniciación correcta.\n",
    "\n",
    "Supongamos que el algoritmo es correcto cuando el intervalo es $j-i+1=l$ para toda $l\\geq 1$ tal que $l\\leq k<n$, esto es, devuelve el índice adecuado si $x$ está en el intervalo, o en el caso contrario, devuelve el mensaje \"No está x\". Cuando el algoritmo recibe una entrada de longitud $k+1$, en la línea 1. nos indica que $mitad=\\left\\lceil (i+j-1)/2\\right\\rceil$. Tenemos dos casos: \n",
    "- Caso 1. $a_{mitad}=x$ entonces se devuelve el índice $mitad$.\n",
    "- Caso 2. $a_{mitad}\\not =x$ entonces la línea 4. entra si $i<mitad$, en este caso, por hipótesis, la línea 5. devuelve el índice adecuado si $x$ está en el intervalo inferior, o en el caso contrario, devuelve el mensaje \"No está x\". Si no, entonces la línea 6. entra si $j>mitad$, en este caso, por hipótesis, la línea 7. devuelve el índice adecuado si $x$ está en el intervalo inferior, o en el caso contrario, devuelve el mensaje \"No está x\".\n",
    "En cualquier caso, el loop invariante funciona de forma correcta. El algoritmo termina ya que la recursión se detiene en el caso base."
   ]
  },
  {
   "cell_type": "markdown",
   "metadata": {},
   "source": [
    "*Ahora analicemos el tiempo de ejecución del algoritmo $T(n)$*. Cada una de las líneas son de tiempo de ejecución constante, salvo la línea 5. y la línea 7. las cuales tienen un tiempo de ejecución que no sabemos, pero es sobre el mismo algoritmo en la entrada $n/2$, esto es, $T(n/2)$. Observemos que entra una de las dos líneas, pero no ambas, entonces de acuerdo a nuestro análisis, $T(n)=T(n/2)+\\theta(1)$, que como ya vimos, $T(n)=\\theta(\\lg(n))$.\n",
    "\n",
    "A continuación, daremos su implementación."
   ]
  },
  {
   "cell_type": "code",
   "execution_count": 20,
   "metadata": {},
   "outputs": [
    {
     "data": {
      "text/plain": [
       "BUSQUEDA_BINARIA_R (generic function with 1 method)"
      ]
     },
     "execution_count": 20,
     "metadata": {},
     "output_type": "execute_result"
    }
   ],
   "source": [
    "function BUSQUEDA_BINARIA_R(i,j,x,A)       \n",
    "    m = ceil(Int,(i+j-1)/2)              \n",
    "    if x == A[m]\n",
    "        return m           \n",
    "    elseif x < A[m] && i<m\n",
    "        BUSQUEDA_BINARIA_R(i,m-1,x,A)\n",
    "    elseif x > A[m] && j>m           \n",
    "        BUSQUEDA_BINARIA_R(m+1,j,x,A)\n",
    "    else                                \n",
    "        return \"No está x\"\n",
    "    end                                 \n",
    "end"
   ]
  },
  {
   "cell_type": "code",
   "execution_count": 21,
   "metadata": {},
   "outputs": [
    {
     "data": {
      "text/plain": [
       "\"No está x\""
      ]
     },
     "execution_count": 21,
     "metadata": {},
     "output_type": "execute_result"
    }
   ],
   "source": [
    "A=[1,2,3,4,5,6,7,8,9,10,11,12,13,14,15,16,17,18,19,20,21,22,23,24,25,26,27,28,29,30,31,32,33,34,35,36,37,38,40,4];\n",
    "x=15;\n",
    "BUSQUEDA_BINARIA_R(3,3,x,A)"
   ]
  },
  {
   "cell_type": "code",
   "execution_count": 22,
   "metadata": {},
   "outputs": [
    {
     "data": {
      "text/plain": [
       "15"
      ]
     },
     "execution_count": 22,
     "metadata": {},
     "output_type": "execute_result"
    }
   ],
   "source": [
    "A=[1,2,3,4,5,6,7,8,9,10,11,12,13,14,15,16,17,18,19,20,21,22,23,24,25,26,27,28,29,30,31,32,33,34,35,36,37,38,39,41];\n",
    "x=15;\n",
    "BUSQUEDA_BINARIA_R(1,length(A),x,A)"
   ]
  },
  {
   "cell_type": "markdown",
   "metadata": {},
   "source": [
    "Regresar al **[Índice](#indice)**."
   ]
  },
  {
   "cell_type": "markdown",
   "metadata": {},
   "source": [
    "<a id='BBIterativo'></a>\n",
    "### A. Seudocódigo iterativo BB"
   ]
  },
  {
   "cell_type": "markdown",
   "metadata": {},
   "source": [
    "Dado un arreglo $A$ de elementos ordenados, la entrada de este algoritmo es el rango de $i$ a $j$ en $A$ ($1\\leq i \\leq j\\leq n$), y el elemento $x$ a buscar.\n",
    "\n",
    "El algoritmo devuelve como salida, la posición $i$ en el arreglo $A$ que coincide con $x$. En dado caso que el elemento no se encuentre en $A$, el algoritmo manda el mensaje \"No está x\"."
   ]
  },
  {
   "cell_type": "markdown",
   "metadata": {},
   "source": [
    "*BUSQUEDA-BINARIA-I($i,j,x,A$)*\n",
    "1. **while** $i\\leq j$ **do**\n",
    "2. $\\hspace{0.3cm}$ $mitad=\\left\\lfloor (i+j)/2\\right\\rfloor$ **then**\n",
    "3. $\\hspace{0.3cm}$**if** $x=a_{mitad}$ **then**\n",
    "4. $\\hspace{0.6cm}$**return** $mitad$ **break**\n",
    "5. $\\hspace{0.3cm}$**elseif** $x>a_{mitad}$ **then**\n",
    "6. $\\hspace{0.6cm}i=mitad+1$\n",
    "7. $\\hspace{0.3cm}$**else** \n",
    "8. $\\hspace{0.6cm}j=mitad-1$\n",
    "9. **return** \"No está x\""
   ]
  },
  {
   "cell_type": "markdown",
   "metadata": {},
   "source": [
    "*Veamos que el algoritmo es correcto*. La longitud de intervalo es $j-i+1\\leq n$, el caso base es cuando $i=j$. En la línea 1. entra el ciclo **while** una sóla vez, la línea 2. nos indica que $mitad=\\left\\lfloor 2i/2\\right\\rfloor=i$. Tenemos dos casos: \n",
    "- Caso 1. $a_{mitad}=x$ entonces se devuelve el índice $mitad$ y se detiene.\n",
    "- Caso 2. $a_{mitad}\\not =x$ entonces la línea 5. entra si $x>a_{mitad}$ en cuyo caso, $i$ aumenta a $i+1$, o bien, entra la línea 7. en cuyo caso, $j$ disminuye a $j+1$. En cualquier caso, la siguiente iteración del ciclo while no entra. Finalmente, la línea 9. devuelve  el mensaje \"No está x\".\n",
    "Así que el algoritmo tiene una iniciación correcta.\n",
    "\n",
    "Supongamos que el algoritmo es correcto cuando el intervalo es $j-i+1=l$ para toda $l\\geq 1$ tal que $l\\leq k<n$, esto es, devuelve el índice adecuado si $x$ está en el intervalo, o en el caso contrario, devuelve el mensaje \"No está x\". Cuando el algoritmo recibe una entrada de longitud $k+1$, en la línea 1. entra el ciclo **while** y la línea 2. nos indica que $mitad=\\left\\lfloor (i+j)/2\\right\\rfloor$. Tenemos dos casos: \n",
    "- Caso 1. $a_{mitad}=x$ entonces se devuelve el índice $mitad$ y se detiene.\n",
    "- Caso 2. $a_{mitad}\\not =x$ entonces entra la línea 5.  si $x>a_{mitad}$, en este caso, el ciclo **while** reduce su búsqueda en la mitad superior del intervalo inicial. Si no se cumple, entonces entra la línea 7.  si $x<a_{mitad}$, en este caso, el ciclo **while** reduce su búsqueda en la mitad inferior del intervalo inicial. En cualquier caso, por hipótesis, el ciclo **while** devuelve el índice adecuado si $x$ está en el intervalo en cuestion, o en el caso contrario, devuelve el mensaje \"No está x\".\n",
    "Concluímos que el loop invariante funciona de forma correcta. El algoritmo termina ya que el intervalo de búsqueda se reduce a la longitud del caso base."
   ]
  },
  {
   "cell_type": "markdown",
   "metadata": {},
   "source": [
    "*Ahora analicemos el tiempo de ejecución del algoritmo $T(n)$*. El ciclo **while** de la línea 1. reduce el intervalo de longitud inicial $n$ a la mitad, esto nos dice que se ejecuta $O(\\lg (n))$ veces. Lo mismo sucede con las línea 2. y 3. mientras que la línea 4. se ejecuta una sola vez. La suma de las líneas 5. y 7. es $O(\\lg (n))$ en el peor caso, y las líneas 6. y 8. se ejecutan a lo más lo mismo que las líneas 5. o 7., respectivamente. Finalmente, la línea 9. se ejecuta una sola vez. La suma de estos tiempos no dice que $T(n)=O(\\lg (n))$.\n",
    "\n",
    "A continuación, daremos su implementación."
   ]
  },
  {
   "cell_type": "code",
   "execution_count": 23,
   "metadata": {},
   "outputs": [
    {
     "data": {
      "text/plain": [
       "BUSQUEDA_BINARIA_I (generic function with 1 method)"
      ]
     },
     "execution_count": 23,
     "metadata": {},
     "output_type": "execute_result"
    }
   ],
   "source": [
    "function BUSQUEDA_BINARIA_I(i,j,x,A)\n",
    "    while i <= j\n",
    "        m = floor(Int,(i+j)/2)\n",
    "        if x == A[m]\n",
    "            return m \n",
    "            break\n",
    "        elseif x > A[m] \n",
    "            i = m+1\n",
    "        else\n",
    "            j = m-1\n",
    "        end\n",
    "    end\n",
    "    return \"No está x\"\n",
    "end"
   ]
  },
  {
   "cell_type": "code",
   "execution_count": 24,
   "metadata": {},
   "outputs": [
    {
     "data": {
      "text/plain": [
       "34"
      ]
     },
     "execution_count": 24,
     "metadata": {},
     "output_type": "execute_result"
    }
   ],
   "source": [
    "A=[1,2,3,4,5,6,7,8,9,10,11,12,13,14,15,16,17,18,19,20,21,22,23,24,25,26,27,28,29,30,31,32,33,55,66];\n",
    "x=55;\n",
    "BUSQUEDA_BINARIA_I(1,length(A),x,A)"
   ]
  },
  {
   "cell_type": "code",
   "execution_count": 25,
   "metadata": {},
   "outputs": [
    {
     "data": {
      "text/plain": [
       "\"No está x\""
      ]
     },
     "execution_count": 25,
     "metadata": {},
     "output_type": "execute_result"
    }
   ],
   "source": [
    "A=[1,2,3,4,5,6,7,8,9,10,11,12,13,14,15,16,17,18,19,20,21,22,23,24,25,26,27,28,29,30,31,32,33,55,66];\n",
    "x=55;\n",
    "BUSQUEDA_BINARIA_I(4,20,x,A)"
   ]
  },
  {
   "cell_type": "markdown",
   "metadata": {},
   "source": [
    "Regresar al **[Índice](#indice)**."
   ]
  }
 ],
 "metadata": {
  "kernelspec": {
   "display_name": "Julia 1.9.0",
   "language": "julia",
   "name": "julia-1.9"
  },
  "language_info": {
   "file_extension": ".jl",
   "mimetype": "application/julia",
   "name": "julia",
   "version": "1.9.0"
  }
 },
 "nbformat": 4,
 "nbformat_minor": 4
}
